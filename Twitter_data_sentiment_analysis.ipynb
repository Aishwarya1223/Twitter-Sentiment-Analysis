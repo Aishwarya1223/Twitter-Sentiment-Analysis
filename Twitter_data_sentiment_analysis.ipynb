{
 "cells": [
  {
   "cell_type": "code",
   "execution_count": null,
   "metadata": {
    "colab": {
     "base_uri": "https://localhost:8080/"
    },
    "id": "_p37LlwfKmAH",
    "outputId": "bc0f573d-6a62-401a-eb10-518854aa0f5c"
   },
   "outputs": [],
   "source": [
    "!pip uninstall numpy -y\n",
    "!pip install numpy --upgrade --force-reinstall\n",
    "!pip install tensorflow pandas numpy transformers peft bitsandbytes accelerate datasets\n",
    "!pip install wordninja\n",
    "!pip install pyspellchecker\n",
    "!pip install emoji\n",
    "!pip install contractions\n",
    "!pip install joblib\n",
    "!pip install symspellpy\n",
    "!pip install tweepy\n",
    "!pip install gensim"
   ]
  },
  {
   "cell_type": "code",
   "execution_count": null,
   "metadata": {
    "colab": {
     "base_uri": "https://localhost:8080/",
     "height": 2042
    },
    "id": "zco3eFysK1ga",
    "outputId": "28c64edb-d7a6-42b6-d334-d328c2bc6edb"
   },
   "outputs": [],
   "source": [
    "!pip install --upgrade --force-reinstall pandas scipy scikit-learn gensim"
   ]
  },
  {
   "cell_type": "code",
   "execution_count": null,
   "metadata": {
    "colab": {
     "base_uri": "https://localhost:8080/"
    },
    "id": "aEYjnh03rE6z",
    "outputId": "fe95c4bd-d696-456a-bb72-6e30b1289573"
   },
   "outputs": [],
   "source": [
    "import kagglehub\n",
    "\n",
    "path = kagglehub.dataset_download(\"jp797498e/twitter-entity-sentiment-analysis\")\n",
    "\n",
    "print(\"Path to dataset files:\", path)"
   ]
  },
  {
   "cell_type": "code",
   "execution_count": null,
   "metadata": {
    "colab": {
     "base_uri": "https://localhost:8080/"
    },
    "id": "U2LZyRShftI0",
    "outputId": "8e32bb27-ecca-4dc1-a8da-4f78369247c8"
   },
   "outputs": [],
   "source": [
    "from google.colab import drive\n",
    "drive.mount('/content/MyDrive')"
   ]
  },
  {
   "cell_type": "code",
   "execution_count": null,
   "metadata": {
    "colab": {
     "base_uri": "https://localhost:8080/"
    },
    "id": "1TR3C2cNrt7I",
    "outputId": "22bdefa7-eb1f-4d1d-9378-f6957ea9bb16"
   },
   "outputs": [],
   "source": [
    "import pandas as pd\n",
    "import numpy as np\n",
    "import nltk\n",
    "import re\n",
    "from nltk.tokenize import word_tokenize\n",
    "from nltk.corpus import stopwords,wordnet,words\n",
    "import seaborn as sns\n",
    "import matplotlib.pyplot as plt\n",
    "import gensim\n",
    "import gensim.downloader as api\n",
    "from gensim.models import Word2Vec\n",
    "import tensorflow as tf\n",
    "import keras\n",
    "import wordninja\n",
    "from nltk.stem import WordNetLemmatizer\n",
    "from keras.models import Sequential,load_model,clone_model\n",
    "from keras.layers import SimpleRNN,Embedding,Dense,Input,LSTM,LeakyReLU,Activation,Bidirectional,BatchNormalization,LayerNormalization,Dropout,SpatialDropout1D,GlobalAveragePooling1D,MaxPooling1D,Flatten\n",
    "from keras.preprocessing.sequence import pad_sequences\n",
    "import re,os\n",
    "from sklearn.metrics import classification_report,confusion_matrix,f1_score,precision_score,recall_score,roc_auc_score\n",
    "from spellchecker import SpellChecker\n",
    "from keras.regularizers import l2\n",
    "from keras.optimizers import Adam,Adamax,AdamW\n",
    "from nltk import pos_tag\n",
    "import emoji\n",
    "from contractions import fix\n",
    "from tensorflow.keras.mixed_precision import LossScaleOptimizer\n",
    "from sklearn.preprocessing import LabelEncoder\n",
    "import pickle\n",
    "from tensorflow.keras.optimizers.schedules import ExponentialDecay\n",
    "from tensorflow.keras.utils import to_categorical\n",
    "import matplotlib.pyplot as plt\n",
    "import seaborn as sns\n",
    "from collections import Counter\n",
    "from wordcloud import WordCloud\n",
    "\n",
    "nltk.download('punkt')\n",
    "nltk.download('punkt_tab')\n",
    "nltk.download('wordnet')\n",
    "nltk.download('stopwords')\n",
    "nltk.download('averaged_perceptron_tagger_eng')"
   ]
  },
  {
   "cell_type": "code",
   "execution_count": null,
   "metadata": {
    "colab": {
     "base_uri": "https://localhost:8080/"
    },
    "id": "FpI29_WqsFF_",
    "outputId": "1d4f4a8b-cf92-4a92-ef26-c8f7eca2edeb"
   },
   "outputs": [],
   "source": [
    "import os\n",
    "dataset_files = os.listdir(path)\n",
    "print(\"Dataset files:\", dataset_files)"
   ]
  },
  {
   "cell_type": "code",
   "execution_count": null,
   "metadata": {
    "colab": {
     "base_uri": "https://localhost:8080/",
     "height": 206
    },
    "id": "J3i6WSD4sFfi",
    "outputId": "1018e900-5329-450f-db5c-8a5fbd6f69e5"
   },
   "outputs": [],
   "source": [
    "import pandas as pd\n",
    "csv_file = os.path.join(path, \"twitter_training.csv\")\n",
    "train_data = pd.read_csv(csv_file,header=None)\n",
    "\n",
    "train_data.head()\n"
   ]
  },
  {
   "cell_type": "code",
   "execution_count": null,
   "metadata": {
    "colab": {
     "base_uri": "https://localhost:8080/",
     "height": 206
    },
    "id": "ozq1_E5Jsih5",
    "outputId": "75334b81-2ef9-4547-ad72-1cab0da37796"
   },
   "outputs": [],
   "source": [
    "csv_file = os.path.join(path, \"twitter_validation.csv\")  # Replace with actual filename\n",
    "test_data = pd.read_csv(csv_file,header=None)\n",
    "\n",
    "test_data.head() # Preview the first few rows"
   ]
  },
  {
   "cell_type": "code",
   "execution_count": null,
   "metadata": {
    "id": "E-Vlpuc3s8gM"
   },
   "outputs": [],
   "source": [
    "train_data.columns=['id','entity','sentiment','tweet']\n",
    "test_data.columns=['id','entity','sentiment','tweet']"
   ]
  },
  {
   "cell_type": "code",
   "execution_count": null,
   "metadata": {
    "colab": {
     "base_uri": "https://localhost:8080/"
    },
    "id": "OoDRPUso5fu9",
    "outputId": "a145d99b-d902-43ba-d2b3-85619cbc971a"
   },
   "outputs": [],
   "source": [
    "train_data.shape"
   ]
  },
  {
   "cell_type": "code",
   "execution_count": null,
   "metadata": {
    "colab": {
     "base_uri": "https://localhost:8080/"
    },
    "id": "GjGD7n1l5i7K",
    "outputId": "0c3e2fa2-1c72-47e9-d7cb-6bbb692db605"
   },
   "outputs": [],
   "source": [
    "test_data.shape"
   ]
  },
  {
   "cell_type": "code",
   "execution_count": null,
   "metadata": {
    "colab": {
     "base_uri": "https://localhost:8080/",
     "height": 206
    },
    "id": "T0fotAI7tt5g",
    "outputId": "bf79cf78-b576-4ba2-d85e-cab7662c8835"
   },
   "outputs": [],
   "source": [
    "train_data.head()"
   ]
  },
  {
   "cell_type": "code",
   "execution_count": null,
   "metadata": {
    "colab": {
     "base_uri": "https://localhost:8080/",
     "height": 206
    },
    "id": "56RgM1Ytt5Aw",
    "outputId": "7e8d97df-f0e0-4785-b33a-bb0b52c9e0a3"
   },
   "outputs": [],
   "source": [
    "test_data.head()"
   ]
  },
  {
   "cell_type": "code",
   "execution_count": null,
   "metadata": {
    "colab": {
     "base_uri": "https://localhost:8080/",
     "height": 209
    },
    "id": "J_069X8Fw0hR",
    "outputId": "cb181abf-b4bb-4c1f-8faa-246695017181"
   },
   "outputs": [],
   "source": [
    "train_data.isnull().sum()"
   ]
  },
  {
   "cell_type": "code",
   "execution_count": null,
   "metadata": {
    "colab": {
     "base_uri": "https://localhost:8080/"
    },
    "id": "6weejZQLxGcq",
    "outputId": "01541b94-2330-483c-b9cb-5c1cd3fabdf8"
   },
   "outputs": [],
   "source": [
    "train_data.shape"
   ]
  },
  {
   "cell_type": "code",
   "execution_count": null,
   "metadata": {
    "colab": {
     "base_uri": "https://localhost:8080/",
     "height": 423
    },
    "id": "ww3bEDvNxclr",
    "outputId": "1dbd39d5-9113-4d40-802a-2eb6b4b6e0c4"
   },
   "outputs": [],
   "source": [
    "train_data[train_data['tweet'].isnull()==True]"
   ]
  },
  {
   "cell_type": "code",
   "execution_count": null,
   "metadata": {
    "colab": {
     "base_uri": "https://localhost:8080/"
    },
    "id": "FrgrvjyqQEZa",
    "outputId": "ffa82ff8-e1c4-44bb-bf2b-bae8b2bb4a58"
   },
   "outputs": [],
   "source": [
    "train_data['entity'].unique()"
   ]
  },
  {
   "cell_type": "code",
   "execution_count": null,
   "metadata": {
    "colab": {
     "base_uri": "https://localhost:8080/",
     "height": 241
    },
    "id": "Dl_DaP3Vyjt5",
    "outputId": "998d1afb-c1fc-4f19-fc33-a863aa42bcf2"
   },
   "outputs": [],
   "source": [
    "train_data.groupby('sentiment')['tweet'].apply(lambda x: x.isnull().sum())"
   ]
  },
  {
   "cell_type": "code",
   "execution_count": null,
   "metadata": {
    "id": "lyuXJ7kHysAh"
   },
   "outputs": [],
   "source": [
    "train_data=train_data.dropna(subset=['tweet'])\n",
    "test_data=test_data.dropna(subset=['tweet'])"
   ]
  },
  {
   "cell_type": "code",
   "execution_count": null,
   "metadata": {
    "id": "sw6VQ2d6Y83P"
   },
   "outputs": [],
   "source": [
    "def plot_word_cloud(train_data,test_data,col):\n",
    "  all_tweets = ' '.join(train_data[col].astype(str)) + ' ' + ' '.join(test_data[col].astype(str))\n",
    "  wordcloud = WordCloud(width=800, height=400, background_color='black', colormap='inferno').generate(all_tweets)\n",
    "  plt.figure(figsize=(10, 5))\n",
    "  plt.imshow(wordcloud, interpolation='bilinear')\n",
    "  plt.axis('off')\n",
    "  plt.show()"
   ]
  },
  {
   "cell_type": "code",
   "execution_count": null,
   "metadata": {
    "colab": {
     "base_uri": "https://localhost:8080/",
     "height": 422
    },
    "id": "AeFxMU0P7Z66",
    "outputId": "1346e529-1284-438a-8e3f-7bf11dc6804b"
   },
   "outputs": [],
   "source": [
    "plot_word_cloud(train_data,test_data,'tweet')"
   ]
  },
  {
   "cell_type": "code",
   "execution_count": null,
   "metadata": {
    "id": "d-AWOQxE9I9S"
   },
   "outputs": [],
   "source": [
    "def frequently_appearing_words(train_data,test_data,col):\n",
    "  all_tweets = ' '.join(train_data[col].astype(str)) + ' ' + ' '.join(test_data[col].astype(str))\n",
    "\n",
    "  # Tokenize and remove stopwords\n",
    "  stop_words = set(stopwords.words('english'))\n",
    "  tokens = all_tweets.split()\n",
    "  filtered_tokens = [word for word in tokens if word.lower() not in stop_words]\n",
    "\n",
    "  # Get word frequency\n",
    "  word_counts = Counter(filtered_tokens)\n",
    "\n",
    "  # Plot most common words\n",
    "  common_words = word_counts.most_common(10)\n",
    "  words, counts = zip(*common_words)\n",
    "\n",
    "  plt.figure(figsize=(10, 5))\n",
    "  sns.barplot(x=list(words), y=list(counts))\n",
    "  plt.title('Top 10 Most Frequent Words (Excluding Stopwords)')\n",
    "  plt.xlabel('Words')\n",
    "  plt.ylabel('Frequency')\n",
    "  plt.xticks(rotation=45)\n",
    "  plt.show()\n"
   ]
  },
  {
   "cell_type": "code",
   "execution_count": null,
   "metadata": {
    "colab": {
     "base_uri": "https://localhost:8080/",
     "height": 511
    },
    "id": "sMmjOzD9-hp3",
    "outputId": "a3af47c2-29d7-433a-9dc9-fa6ee89fe1a8"
   },
   "outputs": [],
   "source": [
    "frequently_appearing_words(train_data,test_data,'tweet')"
   ]
  },
  {
   "cell_type": "markdown",
   "metadata": {
    "id": "rpedjLqvww3d"
   },
   "source": [
    "## Text preprocessing"
   ]
  },
  {
   "cell_type": "code",
   "execution_count": null,
   "metadata": {
    "id": "SbEFEewptabv"
   },
   "outputs": [],
   "source": [
    "def get_wordnet_pos(treebank_tag):\n",
    "    if treebank_tag.startswith('J'):\n",
    "        return wordnet.ADJ\n",
    "    elif treebank_tag.startswith('V'):\n",
    "        return wordnet.VERB\n",
    "    elif treebank_tag.startswith('N'):\n",
    "        return wordnet.NOUN\n",
    "    elif treebank_tag.startswith('R'):\n",
    "        return wordnet.ADV\n",
    "    else:\n",
    "        return wordnet.NOUN  # Default to noun"
   ]
  },
  {
   "cell_type": "code",
   "execution_count": null,
   "metadata": {
    "colab": {
     "base_uri": "https://localhost:8080/"
    },
    "id": "6ebKVNtQv-YS",
    "outputId": "36deac85-3b7d-4279-dc58-4ace5f40bd08"
   },
   "outputs": [],
   "source": [
    "text_emoji_dict = {\n",
    "    \";D\": \"😉\",  # Winking face with a big grin\n",
    "    \":D\": \"😀\",  # Grinning face\n",
    "    \":)\": \"😊\",  # Smiling face\n",
    "    \":(\": \"☹️\",  # Frowning face\n",
    "    \":P\": \"😜\",  # Face with stuck-out tongue\n",
    "    \":p\": \"😜\",  # Face with stuck-out tongue (lowercase)\n",
    "    \";)\": \"😉\",  # Winking face\n",
    "    \":O\": \"😮\",  # Face with open mouth\n",
    "    \":o\": \"😮\",  # Face with open mouth (lowercase)\n",
    "    \":/\": \"😕\",  # Confused face\n",
    "    \":\\\\\": \"😖\",  # Confounded face\n",
    "    \"XD\": \"😂\",  # Laughing face with closed eyes\n",
    "    \":3\": \"😺\",  # Cat face with smile\n",
    "    \":|\": \"😐\",  # Neutral face\n",
    "    \":*\": \"😘\",  # Face blowing a kiss\n",
    "    \":$\": \"😳\",  # Flushed face\n",
    "    \":'(\": \"😢\",  # Crying face\n",
    "    \"B)\": \"😎\",  # Smiling face with sunglasses\n",
    "    \"<3\": \"❤️\",  # Heart\n",
    "    \"</3\": \"💔\",  # Broken heart\n",
    "    \":v\": \"✌️\",  # Victory hand\n",
    "    \"(y)\": \"👍\",  # Thumbs up (commonly used in parenthesis)\n",
    "    \"(n)\": \"👎\",  # Thumbs down (commonly used in parenthesis)\n",
    "    \":'((\": \"😭\",  # Loudly crying face\n",
    "    \"T_T\": \"😿\",  # Crying face (often seen in anime and manga)\n",
    "    \";_;\": \"😿\",  # Crying face (sometimes seen in manga style)\n",
    "    \":|]\": \"🤖\",  # Robot face\n",
    "    \":x\": \"❌\",  # Cross mark (often representing \"no\")\n",
    "    \":o)\": \"👼\",  # Angel face\n",
    "    \":#\": \"🤫\",  # Shushing face\n",
    "    \":@\": \"😡\",  # Angry face\n",
    "    \":))))\": \"😂\",  # Extra happy face\n",
    "    \":)))\": \"😂\",  # Happy face\n",
    "    \":]\": \"🙂\",  # Slightly smiling face\n",
    "    \"=D\": \"😀\",  # Big smile\n",
    "    \"=]\": \"🙂\",  # Slightly smiling face\n",
    "    \"O:)\": \"👼\",  # Angel face\n",
    "    \"B|\": \"😎\",  # Cool face with sunglasses\n",
    "    \":-]\": \"🙂\",  # Smiling face\n",
    "    \":-(\": \"☹️\",  # Frowning face\n",
    "    \":-)\": \"😊\",  # Smiling face\n",
    "    \":-|\": \"😐\",  # Neutral face\n",
    "    \":-O\": \"😮\",  # Surprised face\n",
    "    ':S)':'😕', #confused\n",
    "}\n",
    "def handle_emoji_text(text):\n",
    "    # Step 1: Replace text-based emojis with Unicode emojis\n",
    "    for text_emoji, unicode_emoji in text_emoji_dict.items():\n",
    "        text = text.replace(text_emoji, unicode_emoji)\n",
    "\n",
    "    # Step 2: Convert Unicode emojis to text descriptions using emoji.demojize\n",
    "    text = emoji.demojize(text)\n",
    "\n",
    "    return text\n",
    "\n"
   ]
  },
  {
   "cell_type": "markdown",
   "metadata": {
    "id": "kEMgAfKnyAYQ"
   },
   "source": [
    "## handling emojis and handling html characters"
   ]
  },
  {
   "cell_type": "code",
   "execution_count": null,
   "metadata": {
    "id": "4oulnjSi-88k"
   },
   "outputs": [],
   "source": [
    "def handle_unk(text):\n",
    "    # Replace both \"<unk>\" and \"< unk >\" with an empty string\n",
    "    text = re.sub(r'<\\s*unk\\s*>', '', text)\n",
    "    return text"
   ]
  },
  {
   "cell_type": "code",
   "execution_count": null,
   "metadata": {
    "colab": {
     "base_uri": "https://localhost:8080/"
    },
    "id": "Zk-59gC_PG76",
    "outputId": "d9ad9554-a7c4-49eb-d46f-faa8d395596e"
   },
   "outputs": [],
   "source": [
    "import spacy\n",
    "import re\n",
    "\n",
    "# Load SpaCy's NER model\n",
    "nlp = spacy.load(\"en_core_web_sm\", disable=['parser', 'tagger'])\n",
    "def remove_company_names(text):\n",
    "    \"\"\"Remove company names (ORG entities) from text.\"\"\"\n",
    "    list_of_companies=['Borderlands', 'CallOfDutyBlackopsColdWar', 'Amazon', 'Overwatch',\n",
    "       'Xbox(Xseries)', 'NBA2K', 'Dota2', 'PlayStation5(PS5)',\n",
    "       'WorldOfCraft', 'CS-GO', 'Google', 'AssassinsCreed', 'ApexLegends',\n",
    "       'LeagueOfLegends', 'Fortnite', 'Microsoft', 'Hearthstone',\n",
    "       'Battlefield', 'PlayerUnknownsBattlegrounds(PUBG)', 'Verizon',\n",
    "       'HomeDepot', 'FIFA', 'RedDeadRedemption(RDR)', 'CallOfDuty',\n",
    "       'TomClancysRainbowSix', 'Facebook', 'GrandTheftAuto(GTA)',\n",
    "       'MaddenNFL', 'johnson&johnson', 'Cyberpunk2077',\n",
    "       'TomClancysGhostRecon', 'Nvidia','Netflix','IPhone','MAC','Windows','Twitter',\n",
    "                       'YouTube','GeForce','ChatGPT','Tesla','Ryzen','AMD','ASUS','HDMI',\n",
    "                       'Apple','PS5','PS4','PS','PS3','PS2']\n",
    "    list_of_companies_lower_case=[i.lower() for i in list_of_companies]\n",
    "\n",
    "    \"\"\"Remove company names from text using both NER and a predefined list.\"\"\"\n",
    "    doc = nlp(text)\n",
    "\n",
    "    # Step 1: Remove company names detected by NER\n",
    "    filtered_tokens = [token.text for token in doc if token.ent_type_ != \"ORG\"]\n",
    "    cleaned_text = \" \".join(filtered_tokens)\n",
    "\n",
    "    # Step 2: Remove lowercase company names from predefined list\n",
    "    pattern = r'\\b(?:' + '|'.join(re.escape(company) for company in list_of_companies) + r')\\b'\n",
    "    cleaned_text = re.sub(pattern, '', cleaned_text, flags=re.IGNORECASE).strip()\n",
    "\n",
    "    return cleaned_text\n",
    "\n",
    "# Example Usage\n",
    "text = \"google and microsoft are leading AI research. Windows windows WINDOWS Google apple just launched a new iphone. PS5 netflix is popular.\"\n",
    "cleaned_text = remove_company_names(text)\n",
    "print(cleaned_text)\n",
    "\n"
   ]
  },
  {
   "cell_type": "code",
   "execution_count": null,
   "metadata": {
    "colab": {
     "base_uri": "https://localhost:8080/"
    },
    "id": "ajEHEUEdft3y",
    "outputId": "f3506c11-e231-412b-b51b-faedb8b52b5d"
   },
   "outputs": [],
   "source": [
    "!wget https://raw.githubusercontent.com/mammothb/symspellpy/master/symspellpy/frequency_dictionary_en_82_765.txt"
   ]
  },
  {
   "cell_type": "markdown",
   "metadata": {
    "id": "jIFeJ0E20iY-"
   },
   "source": [
    "## Handling chat texts"
   ]
  },
  {
   "cell_type": "code",
   "execution_count": null,
   "metadata": {
    "id": "XtL4WbYriuOf"
   },
   "outputs": [],
   "source": [
    "chat_dict = {\n",
    "    \"n\": \"and\", \"s\": \"yes\", \"2 ya\": \"to you\", \"to ya\": \"to you\", \"4 ya\": \"for you\",\n",
    "    \"c ya\": \"see you\", \"for ya\": \"for you\", \"2day\": \"today\", \"bro\": \"brother\",\n",
    "    \"how ya\": \"how you\", \"watcha\": \"what are\", \"shoulda\": \"should have\",\n",
    "    \"watcha doin\": \"what are you doing\", \"sucks\": \"suck\", \"sucked\": \"suck\",\n",
    "    \"sucking\": \"suck\", \"kinda\": \"kind of\", \"sorta\": \"sort of\", \"wrd\": \"what are you doing\",\n",
    "    \"lamfao\": \"laughing my fucking ass off\", \"wht\": \"what\", \"yas\": \"yes\",\n",
    "    \"abt\": \"about\", \"luk\": \"look\", \"grl\": \"girl\", \"cum\": \"come\", \"boi\": \"boy\",\n",
    "    \"bday\": \"birthday\", \"b day\": \"birthday\", \"asap\": \"as soon as possible\",\n",
    "    \"nvm\": \"never mind\", \"dm\": \"direct message\", \"d\": \"the\", \"grt\": \"great\",\n",
    "    \"fck\": \"fuck\", \"lol\": \"laugh out loud\", \"omg\": \"oh my god\", \"brb\": \"be right back\",\n",
    "    \"ttyl\": \"talk to you later\", \"bff\": \"best friend forever\", \"wtf\": \"what the fuck\",\n",
    "    \"idk\": \"I don't know\", \"plz\": \"please\", \"thx\": \"thanks\", \"gr8\": \"great\",\n",
    "    \"w8\": \"wait\", \"h8\": \"hate\", \"u2\": \"you too\", \"l8r\": \"later\",\n",
    "    \"imho\": \"in my humble opinion\", \"jk\": \"just kidding\", \"smh\": \"shaking my head\",\n",
    "    \"fyi\": \"for your information\", \"xoxo\": \"hugs and kisses\", \"cya\": \"see you\",\n",
    "    \"np\": \"no problem\", \"4u\": \"for you\", \"yw\": \"you're welcome\", \"tbh\": \"to be honest\",\n",
    "    \"gtg\": \"got to go\", \"k\": \"okay\", \"yo\": \"hello\", \"wbu\": \"what about you\",\n",
    "    \"wym\": \"what you mean\", \"fml\": \"fuck my life\", \"wyd\": \"what are you doing\",\n",
    "    \"boo\": \"friend\", \"aww\": \"affection\", \"omfgz\": \"oh my fucking god\", \"msg\": \"message\",\n",
    "    \"imo\": \"in my opinion\", \"paw\": \"parents are watching\", \"pitr\": \"parent in the room\",\n",
    "    \"pbb\": \"parent behind back\", \"poms\": \"parent over my shoulder\", \"kpc\": \"keeping parents clueless\",\n",
    "    \"mrw\": \"my reaction when\", \"ily\": \"I love you\", \"adih\": \"another day in hell\",\n",
    "    \"zzz\": \"sleeping, bored, tired\", \"wywh\": \"wish you were here\", \"pov\": \"point of view\",\n",
    "    \"gl\": \"good luck\", \"hbd\": \"happy birthday\", \"bf\": \"boyfriend\", \"gf\": \"girlfriend\",\n",
    "    \"tysm\": \"thank you so much\", \"lmao\": \"laughing my ass off\",\n",
    "    \"rn\": \"right now\", \"m\": \"am\",\"im\":\"i am\"\n",
    "}"
   ]
  },
  {
   "cell_type": "code",
   "execution_count": null,
   "metadata": {
    "id": "FgHDwKvhn_fI"
   },
   "outputs": [],
   "source": [
    "def replace_chat_words(text):\n",
    "    if isinstance(text, str):\n",
    "        words = text.split()\n",
    "        replaced_words = [chat_dict.get(word.lower(), word) for word in words]\n",
    "        joined_words = ' '.join(replaced_words)\n",
    "\n",
    "        joined_words = re.sub(r\"\\bi m\\b\", \"i am\", joined_words)\n",
    "        joined_words = re.sub(r\"\\bto you\\b\", \"to you\", joined_words)\n",
    "        joined_words = re.sub(r\"\\b4 you\\b\", \"for you\", joined_words)\n",
    "        joined_words = re.sub(r\"\\b4 ya\\b\", \"for you\", joined_words)\n",
    "        joined_words = re.sub(r\"\\b2 you\\b\", \"to you\", joined_words)\n",
    "        joined_words = re.sub(r\"\\b2 ya\\b\", \"to you\", joined_words)\n",
    "        joined_words = re.sub(r\"\\bc ya\\b\", \"see you\", joined_words)\n",
    "        joined_words = re.sub(r\"\\bsee you\\b\", \"see you\", joined_words)\n",
    "\n",
    "        return joined_words.strip()\n",
    "\n",
    "    return text\n"
   ]
  },
  {
   "cell_type": "code",
   "execution_count": null,
   "metadata": {
    "id": "N4-fU4PT5ylm"
   },
   "outputs": [],
   "source": [
    "emotion_dict = {\n",
    "    \"surprise\": [\n",
    "        \"ah\", \"ahhh\", \"ahhhh\", \"ahhhhh\", \"oh\", \"ohhh\", \"ohhhh\", \"ohhhhh\", \"whoa\", \"whoaa\", \"whoaaa\", \"wow\", \"woah\", \"woaaa\",\n",
    "        \"whoops\", \"huh\", \"no way\", \"seriously\", \"really?\"\n",
    "    ],\n",
    "    \"disgust\": [\n",
    "        \"ew\", \"ewww\", \"ewwww\", \"ewwwww\", \"yuck\", \"yucky\", \"gross\", \"nasty\", \"bleh\", \"ugh\", \"yikes\", \"blech\", \"barf\", \"vomit\",\n",
    "        \"gag\", \"puke\", \"sick\", \"shudder\"\n",
    "    ],\n",
    "    \"fear\": [\n",
    "        \"ahh\", \"eek\", \"ohno\", \"ohnoooo\", \"noooo\", \"nooooo\", \"scared\", \"frightened\", \"help\", \"panic\", \"terrified\", \"shocked\",\n",
    "        \"spooked\", \"freaked\", \"yikes\", \"shudder\", \"screech\", \"screaming\", \"gasp\"\n",
    "    ],\n",
    "    \"happiness\": [\n",
    "        \"yay\", \"wohoo\", \"whoohoo\",'hah' \"yayyy\", \"yass\", \"yasss\", \"hehe\", \"haha\", \"hooray\", \"yippee\", \"woohoo\", \"whee\", \"yup\",\n",
    "        \"whoo\", \"wooo\", \"yayyy\", \"yasss\", \"yayyy\", \"laughter\", \"chuckle\", \"giggle\", \"snicker\",'woa'\n",
    "    ],\n",
    "    \"sadness\": [\n",
    "        \"sob\", \"cry\", \"tears\", \"sigh\", \"sad\", \"waah\", \"waaaa\", \"boohoo\", \"sniffle\", \"wail\", \"sniff\", \"whimper\", \"weep\",\n",
    "        \"sniffing\", \"blubber\", \"despair\", \"gasp\"\n",
    "    ],\n",
    "    \"excitement\": [\n",
    "        \"woo\", \"wooo\",'woo', \"wooohoo\", \"yayyyy\",'yesss', \"yaay\", \"yaaaay\", \"excited\", \"yippee\", \"whoop\", \"wooohooo\", \"hype\", \"yeah\",\n",
    "        \"wahoo\", \"booyah\", \"let's go\", \"jump\", \"bounce\", \"get hyped\", \"pumped\", \"woot\", \"yeeeah\",'ha'\n",
    "    ],\n",
    "    \"anger\": [\n",
    "        \"grr\", \"grrrr\", \"arrgh\", \"ugh\", \"ughhh\", \"arghhh\", \"noooo\", \"damn\", \"dammit\", \"shit\", \"pissed\", \"furious\", \"irritated\",\n",
    "        \"annoyed\", \"angry\", \"rage\", \"livid\", \"fuming\", \"growl\", \"sigh\", \"huff\", \"groan\", \"grumble\"\n",
    "    ],\n",
    "    \"love\": [\n",
    "        \"aw\", \"aww\", \"yay\", \"sweet\", \"adorable\", \"cute\", \"love\", \"heart\", \"xoxo\", \"hug\", \"kiss\", \"muah\", \"swoon\", \"feels\",\n",
    "        \"heartfelt\", \"romantic\", \"my love\", \"forever\", \"mine\", \"baby\", \"babe\"\n",
    "    ],\n",
    "    \"boredom\": [\n",
    "        \"meh\", \"blah\", \"sigh\", \"yawn\", \"bored\", \"uninterested\", \"tired\", \"apathetic\"\n",
    "    ],\n",
    "    \"confusion\": [\n",
    "        \"huh\", \"what?\", \"eh\", \"umm\", \"uh\", \"hmmm\", \"no idea\", \"IDK\", \"beats me\", \"confused\", \"perplexed\", \"puzzled\",\n",
    "        \"wth\", \"wtf\", \"shaking head\"\n",
    "    ],\n",
    "    \"shame\": [\n",
    "        \"oops\", \"whoops\", \"sorry\", \"embarrassed\", \"blushing\", \"awkward\", \"guilt\", \"my bad\", \"facepalm\", \"red-faced\",\n",
    "        \"cringe\", \"yikes\", \"blush\"\n",
    "    ],\n",
    "    \"pride\": [\n",
    "        \"yeah\", \"whew\", \"whoo\", \"hell yeah\", \"that's right\", \"woohoo\", \"yes\", \"we did it\", \"booyah\", \"gotcha\", \"rock on\",\n",
    "        \"congratulations\", \"you go\", \"victory\", \"champion\"\n",
    "    ],\n",
    "    \"relief\": [\n",
    "        \"phew\", \"whew\"\n",
    "    ]\n",
    "}\n",
    "\n",
    "# Normalize repeated characters for emotional expressions\n",
    "def normalize_repeated_characters(text):\n",
    "    # Normalize repeated characters for words like \"ahhh\", \"ohhh\", \"ewww\"\n",
    "    text = re.sub(r'(ah|oh|ew|woo|yay|grr)\\1{1,}', r'\\1', text)\n",
    "    return text\n",
    "\n",
    "def replace_emotions(text):\n",
    "    # Step 1: Normalize repeated characters first\n",
    "    text = normalize_repeated_characters(text)\n",
    "\n",
    "    # Step 2: Loop through the emotion_dict and replace expressions with emotions\n",
    "    for emotion, words in emotion_dict.items():\n",
    "        for word in words:\n",
    "            # Use regex to replace word (case insensitive)\n",
    "            text = re.sub(r'\\b' + re.escape(word) + r'\\b', emotion, text, flags=re.IGNORECASE)\n",
    "\n",
    "    return text\n"
   ]
  },
  {
   "cell_type": "code",
   "execution_count": null,
   "metadata": {
    "id": "x454tVobDDjM"
   },
   "outputs": [],
   "source": [
    "from symspellpy import SymSpell, Verbosity\n",
    "\n",
    "sym_spell = SymSpell(max_dictionary_edit_distance=2, prefix_length=7)\n",
    "sym_spell.load_dictionary(\"frequency_dictionary_en_82_765.txt\", term_index=0, count_index=1)\n",
    "\n",
    "\n",
    "def correct_sentence(sentence):\n",
    "    words = sentence.split()\n",
    "    corrected_words = [\n",
    "        sym_spell.lookup(word, Verbosity.CLOSEST, max_edit_distance=2)[0].term if sym_spell.lookup(word, Verbosity.CLOSEST, max_edit_distance=2) else word\n",
    "        for word in words\n",
    "    ]\n",
    "    return \" \".join(corrected_words)\n"
   ]
  },
  {
   "cell_type": "code",
   "execution_count": null,
   "metadata": {
    "id": "7q7RgayRoDlN"
   },
   "outputs": [],
   "source": [
    "import spacy\n",
    "\n",
    "nlp = spacy.load('en_core_web_sm', disable=['parser', 'ner'])\n",
    "\n",
    "# Function for batch lemmatization\n",
    "def batch_lemmatization(texts):\n",
    "    \"\"\"Lemmatize a list of texts.\"\"\"\n",
    "    docs = list(nlp.pipe(texts, batch_size=100))\n",
    "    return [\" \".join([token.lemma_ for token in doc]) for doc in docs]\n"
   ]
  },
  {
   "cell_type": "code",
   "execution_count": null,
   "metadata": {
    "id": "5DEHAoKtCt5Z"
   },
   "outputs": [],
   "source": [
    "import re\n",
    "\n",
    "def fix_contractions(text):\n",
    "    text = re.sub(r'[ ]+', ' ', text).strip()\n",
    "\n",
    "    text = re.sub(r\"\\b(\\w+)\\s*'\\s*t\\b\", r\"\\1't\", text)  # Fix \"didn ' t\" -> \"didn't\"\n",
    "    text = re.sub(r\"\\b(\\w+)\\s*'\\s*s\\b\", r\"\\1's\", text)    # Fix \"it ' s\" -> \"it's\"\n",
    "    text = re.sub(r\"\\b(\\w+)\\s*'\\s*m\\b\", r\"\\1'm\", text)    # Fix \"I ' m\" -> \"I'm\"\n",
    "    text = re.sub(r\"\\b(\\w+)\\s*'\\s*ve\\b\", r\"\\1've\", text)  # Fix \"I ' ve\" -> \"I've\"\n",
    "    text = re.sub(r\"\\b(\\w+)\\s*'\\s*d\\b\", r\"\\1'd\", text)    # Fix \"he ' d\" -> \"he'd\"\n",
    "    text = re.sub(r\"\\b(\\w+)\\s*'\\s*re\\b\", r\"\\1're\", text)  # Fix \"you ' re\" -> \"you're\"\n",
    "    text = re.sub(r\"\\b(\\w+)\\s*'\\s*ll\\b\", r\"\\1'll\", text)  # Fix \"she ' ll\" -> \"she'll\"\n",
    "\n",
    "    return text"
   ]
  },
  {
   "cell_type": "code",
   "execution_count": null,
   "metadata": {
    "id": "hFCZqNo2ja-C"
   },
   "outputs": [],
   "source": [
    "import html\n",
    "def clean_encoding(text):\n",
    "\n",
    "    text = text.replace('ï¿½', \"'\")\n",
    "    #print(f\"After manual encoding fix: {text}\")\n",
    "\n",
    "    # Decode HTML entities (e.g., &lt; -> <, &quot; -> \")\n",
    "    text = html.unescape(text)\n",
    "    #print(f\"After unescaping HTML entities: {text}\")\n",
    "\n",
    "    return text"
   ]
  },
  {
   "cell_type": "code",
   "execution_count": null,
   "metadata": {
    "id": "rH_RQD5wjkIk"
   },
   "outputs": [],
   "source": [
    "def normalize_quotes(text):\n",
    "    text = re.sub(r\"[‘’]\", \"'\", text)\n",
    "    text = re.sub(r\"[“”]\", '\"', text)\n",
    "    return text"
   ]
  },
  {
   "cell_type": "code",
   "execution_count": null,
   "metadata": {
    "id": "grmA4rLn_7pX"
   },
   "outputs": [],
   "source": [
    "def normalize_elongated(text):\n",
    "    text = text.lower()\n",
    "\n",
    "    # Reduce repeated characters:\n",
    "    # - If the whole word is made of one repeated letter, keep only one\n",
    "    # - Otherwise, reduce repeated characters to a maximum of 2\n",
    "    words = text.split()\n",
    "    processed_words = [\n",
    "        re.sub(r'(.)\\1+', r'\\1', word) if len(set(word)) == 1  # If only one unique letter, keep single letter\n",
    "        else re.sub(r'(.)\\1{2,}', r'\\1\\1', word)  # Otherwise, reduce to max 2 occurrences\n",
    "        for word in words\n",
    "    ]\n",
    "    text=' '.join(processed_words)\n",
    "\n",
    "    return text\n"
   ]
  },
  {
   "cell_type": "code",
   "execution_count": null,
   "metadata": {
    "id": "W2b4kqe9Qkop"
   },
   "outputs": [],
   "source": [
    "from nltk.tokenize import TweetTokenizer\n",
    "\n",
    "\n",
    "donot_remove = {'am','not', 'have', 'has', 'must', 'should', 'had', 'might','never','was'}\n",
    "stop_words = set(stopwords.words('english')) - donot_remove\n",
    "\n",
    "tokenizer = TweetTokenizer(preserve_case=False, strip_handles=False, reduce_len=True)"
   ]
  },
  {
   "cell_type": "code",
   "execution_count": null,
   "metadata": {
    "id": "wTJXdV6_Wrht"
   },
   "outputs": [],
   "source": [
    "def clean_text(text):\n",
    "  if isinstance(text,str):\n",
    "    text = clean_encoding(text)\n",
    "    text = emoji.demojize(text)\n",
    "    text = handle_emoji_text(text)\n",
    "\n",
    "\n",
    "    text = text.lower()\n",
    "\n",
    "    text = normalize_quotes(text)\n",
    "    text = fix_contractions(text)\n",
    "    text = fix(text)\n",
    "\n",
    "\n",
    "    text = re.sub(r'http\\S+|www\\S+|[a-zA-Z0-9.-]+\\.[a-zA-Z]{2,}(?:/\\S*)?', \"\", text)\n",
    "    text = re.sub(r'@\\w+', '', text)\n",
    "    text = re.sub(r'#(\\w+)',r'\\1',text)\n",
    "\n",
    "    text = remove_company_names(text)\n",
    "\n",
    "    text = normalize_elongated(text)\n",
    "\n",
    "    text = replace_chat_words(text)\n",
    "    text = replace_emotions(text)\n",
    "\n",
    "\n",
    "    text = re.sub(r\"[^a-zA-Z\\s]\",'',text)\n",
    "    text = re.sub(r\"\\s+\", \" \", text).strip()\n",
    "    text = correct_sentence(text)\n",
    "    text = batch_lemmatization([text])[0]\n",
    "    tokens = tokenizer.tokenize(text)\n",
    "    tokens=[word for word in tokens if word not in stop_words]\n",
    "\n",
    "\n",
    "    return tokens\n",
    "  return text\n"
   ]
  },
  {
   "cell_type": "code",
   "execution_count": null,
   "metadata": {
    "id": "5ghR3xI_PQFG"
   },
   "outputs": [],
   "source": [
    "train_data['processed_text']=train_data['tweet'].apply(clean_text)\n",
    "test_data['processed_text']=test_data['tweet'].apply(clean_text)"
   ]
  },
  {
   "cell_type": "code",
   "execution_count": null,
   "metadata": {
    "colab": {
     "base_uri": "https://localhost:8080/",
     "height": 458
    },
    "id": "7XSimIHwrV3C",
    "outputId": "1a26550a-88aa-4c72-df30-b2bf935e7b55"
   },
   "outputs": [],
   "source": [
    "train_data['processed_text']"
   ]
  },
  {
   "cell_type": "code",
   "execution_count": null,
   "metadata": {
    "colab": {
     "base_uri": "https://localhost:8080/",
     "height": 597
    },
    "id": "oRxplsk0H1l-",
    "outputId": "27425a4b-7c17-4019-9164-44db76e95c19"
   },
   "outputs": [],
   "source": [
    "train_data"
   ]
  },
  {
   "cell_type": "code",
   "execution_count": null,
   "metadata": {
    "id": "4MCwbQ5TIpfp"
   },
   "outputs": [],
   "source": [
    "train=train_data.copy()\n",
    "test=test_data.copy()"
   ]
  },
  {
   "cell_type": "code",
   "execution_count": null,
   "metadata": {
    "colab": {
     "base_uri": "https://localhost:8080/",
     "height": 241
    },
    "id": "qHKoKoG7OrN5",
    "outputId": "4499de28-f245-45bb-c08e-eef26c5e708a"
   },
   "outputs": [],
   "source": [
    "train['sentiment'].value_counts()"
   ]
  },
  {
   "cell_type": "code",
   "execution_count": null,
   "metadata": {
    "colab": {
     "base_uri": "https://localhost:8080/",
     "height": 449
    },
    "id": "4xaWCcWCz5i0",
    "outputId": "8f33869b-5ee2-428e-c929-878282046afa"
   },
   "outputs": [],
   "source": [
    "sns.countplot(x='sentiment',data=train)\n",
    "plt.show()"
   ]
  },
  {
   "cell_type": "code",
   "execution_count": null,
   "metadata": {
    "colab": {
     "base_uri": "https://localhost:8080/",
     "height": 449
    },
    "id": "5J6iL8G8dGNg",
    "outputId": "bd1e101a-9816-45b5-d3e6-1c79a130869e"
   },
   "outputs": [],
   "source": [
    "sns.countplot(x='sentiment',data=test)\n",
    "plt.show()"
   ]
  },
  {
   "cell_type": "code",
   "execution_count": null,
   "metadata": {
    "colab": {
     "base_uri": "https://localhost:8080/",
     "height": 209
    },
    "id": "scyEKLZXOxkg",
    "outputId": "6c0b1d16-0867-4f2d-8a15-e7ac07cdab29"
   },
   "outputs": [],
   "source": [
    "# remove irrelevant\n",
    "\n",
    "train=train[train['sentiment']!='Irrelevant']\n",
    "train['sentiment'].value_counts()"
   ]
  },
  {
   "cell_type": "code",
   "execution_count": null,
   "metadata": {
    "colab": {
     "base_uri": "https://localhost:8080/"
    },
    "id": "XZUvMDDXPF_f",
    "outputId": "6a52ef50-4a87-4481-877f-04c19ed056de"
   },
   "outputs": [],
   "source": [
    "train.shape"
   ]
  },
  {
   "cell_type": "code",
   "execution_count": null,
   "metadata": {
    "colab": {
     "base_uri": "https://localhost:8080/",
     "height": 209
    },
    "id": "CInO9X8-PIIO",
    "outputId": "695829dd-3971-46f8-f2ea-ae53972982e0"
   },
   "outputs": [],
   "source": [
    "test=test[test['sentiment']!='Irrelevant']\n",
    "test['sentiment'].value_counts()"
   ]
  },
  {
   "cell_type": "code",
   "execution_count": null,
   "metadata": {
    "colab": {
     "base_uri": "https://localhost:8080/"
    },
    "id": "7v4h6Our5EbT",
    "outputId": "bd16bb56-4628-40c8-928f-3554cefe08c4"
   },
   "outputs": [],
   "source": [
    "from google.colab import drive\n",
    "drive.mount('/content/MyDrive')"
   ]
  },
  {
   "cell_type": "code",
   "execution_count": null,
   "metadata": {
    "id": "Qu3A1Uo1_qS_"
   },
   "outputs": [],
   "source": [
    "le=LabelEncoder()\n",
    "train_data['sentiment']=le.fit_transform(train_data['sentiment'])\n",
    "test_data['sentiment']=le.transform(test_data['sentiment'])"
   ]
  },
  {
   "cell_type": "code",
   "execution_count": null,
   "metadata": {
    "id": "bnabvQGsR9ns"
   },
   "outputs": [],
   "source": [
    "path='/content/MyDrive/MyDrive/Twitter sentiment analysis processed data/label_encoder.pkl'\n",
    "with open(path, \"wb\") as f:\n",
    "    pickle.dump(le, f)\n"
   ]
  },
  {
   "cell_type": "code",
   "execution_count": null,
   "metadata": {
    "id": "dkYb7vKGSJsc"
   },
   "outputs": [],
   "source": [
    "# Load the LabelEncoder from the pickle file\n",
    "with open(path, \"rb\") as f:\n",
    "    le = pickle.load(f)"
   ]
  },
  {
   "cell_type": "code",
   "execution_count": null,
   "metadata": {
    "colab": {
     "base_uri": "https://localhost:8080/",
     "height": 206
    },
    "id": "P6L6TYO65irH",
    "outputId": "80e9ac79-07a9-4908-e5e2-6369d0a064f0"
   },
   "outputs": [],
   "source": [
    "train=pd.read_csv('/content/MyDrive/MyDrive/Twitter sentiment analysis processed data/train_tweets.csv')\n",
    "test=pd.read_csv('/content/MyDrive/MyDrive/Twitter sentiment analysis processed data/test_tweets.csv')\n",
    "train.head()"
   ]
  },
  {
   "cell_type": "code",
   "execution_count": null,
   "metadata": {
    "colab": {
     "base_uri": "https://localhost:8080/",
     "height": 209
    },
    "id": "rc8hHsrgzgaA",
    "outputId": "14a368bd-b451-4dc4-a373-a5ed8cdd0656"
   },
   "outputs": [],
   "source": [
    "train['sentiment'].value_counts()"
   ]
  },
  {
   "cell_type": "code",
   "execution_count": null,
   "metadata": {
    "colab": {
     "base_uri": "https://localhost:8080/",
     "height": 209
    },
    "id": "AVDO_Hha0AoK",
    "outputId": "f4b58b87-3653-4ba7-ae6f-174b9d8fad38"
   },
   "outputs": [],
   "source": [
    "test['sentiment'].value_counts()"
   ]
  },
  {
   "cell_type": "code",
   "execution_count": null,
   "metadata": {
    "id": "72_fREO6ICMo"
   },
   "outputs": [],
   "source": [
    "import ast\n",
    "train['processed_text'] = train['processed_text'].apply(lambda x: ast.literal_eval(x))\n",
    "test['processed_text'] = test['processed_text'].apply(lambda x: ast.literal_eval(x))"
   ]
  },
  {
   "cell_type": "code",
   "execution_count": null,
   "metadata": {
    "colab": {
     "base_uri": "https://localhost:8080/"
    },
    "id": "f99mG16T4T5K",
    "outputId": "93eabbf1-d43c-4f0a-8dd6-7240a1dcfcc0"
   },
   "outputs": [],
   "source": [
    "csv_path = \"/content/drive/My Drive/Twitter_Sentiment_Analysis/processed_tweets\"\n",
    "os.makedirs(csv_path, exist_ok=True)\n",
    "\n",
    "train['processed_text'] = train['processed_text'].apply(lambda x: ','.join(x))\n",
    "test['processed_text'] = test['processed_text'].apply(lambda x: ','.join(x))\n",
    "\n",
    "\n",
    "train_data.to_csv(os.path.join(csv_path, \"train_tweets.csv\"), index=False)\n",
    "test_data.to_csv(os.path.join(csv_path, \"test_tweets.csv\"), index=False)\n",
    "\n",
    "import pickle\n",
    "\n",
    "with open(\"text_preprocessing.pkl\", \"wb\") as f:\n",
    "    pickle.dump(clean_text, f)\n",
    "\n",
    "print(\"Function saved successfully!\")\n"
   ]
  },
  {
   "cell_type": "code",
   "execution_count": null,
   "metadata": {
    "colab": {
     "base_uri": "https://localhost:8080/",
     "height": 423
    },
    "id": "Kz6st-iiQ47s",
    "outputId": "9f421631-3eae-4c2e-d1b4-d810c981efdb"
   },
   "outputs": [],
   "source": [
    "train"
   ]
  },
  {
   "cell_type": "code",
   "execution_count": null,
   "metadata": {
    "colab": {
     "base_uri": "https://localhost:8080/",
     "height": 446
    },
    "id": "Phj3mF1vI6YX",
    "outputId": "cad76d6f-f464-4d3c-e5d2-90ca5cc2c62f"
   },
   "outputs": [],
   "source": [
    "train_processed_text = ' '.join(train['processed_text'].apply(lambda x: ' '.join(x)))\n",
    "test_processed_text = ' '.join(test['processed_text'].apply(lambda x: ' '.join(x)))\n",
    "\n",
    "\n",
    "combined_processed_text = train_processed_text + \" \" + test_processed_text\n",
    "\n",
    "\n",
    "wordcloud = WordCloud(width=800, height=400,background_color='black', colormap='inferno').generate(combined_processed_text)\n",
    "\n",
    "plt.figure(figsize=(10, 7))\n",
    "plt.imshow(wordcloud, interpolation='bilinear')\n",
    "plt.axis('off')\n",
    "plt.title('Word Cloud for Processed Text')\n",
    "plt.show()"
   ]
  },
  {
   "cell_type": "code",
   "execution_count": null,
   "metadata": {
    "colab": {
     "base_uri": "https://localhost:8080/",
     "height": 520
    },
    "id": "MAiFQuVmAEhi",
    "outputId": "667fc420-1d3b-4625-d5de-8d893ba59474"
   },
   "outputs": [],
   "source": [
    "frequently_appearing_words(train,test,'processed_text')"
   ]
  },
  {
   "cell_type": "markdown",
   "metadata": {
    "id": "DRlkPeAzFbQj"
   },
   "source": [
    "## sentiment analysis using GloVe"
   ]
  },
  {
   "cell_type": "code",
   "execution_count": null,
   "metadata": {
    "colab": {
     "base_uri": "https://localhost:8080/"
    },
    "id": "gACy1aoEKM8Z",
    "outputId": "679ae771-da4a-4972-a7b8-c6d7b8693f60"
   },
   "outputs": [],
   "source": [
    "!wget https://nlp.stanford.edu/data/glove.twitter.27B.zip"
   ]
  },
  {
   "cell_type": "code",
   "execution_count": null,
   "metadata": {
    "id": "ZoR-8OKuKP8p"
   },
   "outputs": [],
   "source": [
    "#unzip\n",
    "import zipfile\n",
    "zip_ref=zipfile.ZipFile('/content/glove.twitter.27B.zip')\n",
    "zip_ref.extractall()\n",
    "zip_ref.close()"
   ]
  },
  {
   "cell_type": "code",
   "execution_count": null,
   "metadata": {
    "id": "sReKMeYOlsQj"
   },
   "outputs": [],
   "source": [
    "train_texts = train['processed_text'].fillna(\"\")\n",
    "test_texts = test['processed_text'].fillna(\"\")\n",
    "train_labels = train['sentiment'].values\n",
    "test_labels = test['sentiment'].values"
   ]
  },
  {
   "cell_type": "code",
   "execution_count": null,
   "metadata": {
    "colab": {
     "base_uri": "https://localhost:8080/",
     "height": 458
    },
    "id": "iKQbFkJvaLOK",
    "outputId": "3940d439-2292-49ea-8579-f23d53344533"
   },
   "outputs": [],
   "source": [
    "train_texts"
   ]
  },
  {
   "cell_type": "code",
   "execution_count": null,
   "metadata": {
    "colab": {
     "base_uri": "https://localhost:8080/"
    },
    "id": "-qrqNPyPyICz",
    "outputId": "34efed60-7a76-4d59-8b62-6661932c7cf1"
   },
   "outputs": [],
   "source": [
    "train_texts.shape,test_texts.shape"
   ]
  },
  {
   "cell_type": "markdown",
   "metadata": {
    "id": "PsdmYOl3I1ot"
   },
   "source": [
    "## Finding the optimal num_words"
   ]
  },
  {
   "cell_type": "code",
   "execution_count": null,
   "metadata": {
    "colab": {
     "base_uri": "https://localhost:8080/"
    },
    "id": "6kQl18NeHlN0",
    "outputId": "f76c5753-348b-45aa-ccd9-89c010bfac6a"
   },
   "outputs": [],
   "source": [
    "from collections import Counter\n",
    "word_counts = Counter(word for tweet in train_texts for word in tweet)\n",
    "\n",
    "sorted_counts=sorted(word_counts.values(),reverse=True)\n",
    "sorted_counts[:10]"
   ]
  },
  {
   "cell_type": "code",
   "execution_count": null,
   "metadata": {
    "colab": {
     "base_uri": "https://localhost:8080/"
    },
    "id": "w-TlVI1htQvt",
    "outputId": "bbb8a90f-0163-447d-e4a4-60d73fed5161"
   },
   "outputs": [],
   "source": [
    "print(word_counts.most_common(50))  # Show top 20 words with counts\n"
   ]
  },
  {
   "cell_type": "code",
   "execution_count": null,
   "metadata": {
    "colab": {
     "base_uri": "https://localhost:8080/"
    },
    "id": "LC_qIAflIJus",
    "outputId": "9ec1f834-d209-476f-94bd-33820c2256cc"
   },
   "outputs": [],
   "source": [
    "#Find the total number of words that covers 90% of occurences\n",
    "total_words=sum(sorted_counts)\n",
    "running_sum=0\n",
    "num_words=0\n",
    "for count in sorted_counts:\n",
    "  running_sum+=count\n",
    "  num_words+=1\n",
    "  if running_sum/total_words >= 0.90:\n",
    "    break\n",
    "print(f'Optimal num_words for 90% coverage: {num_words}')\n"
   ]
  },
  {
   "cell_type": "code",
   "execution_count": null,
   "metadata": {
    "colab": {
     "base_uri": "https://localhost:8080/"
    },
    "id": "Lvq8WLf3jYkM",
    "outputId": "9f6c70af-52ea-4129-c6a8-4fabc280874e"
   },
   "outputs": [],
   "source": [
    "import numpy as np\n",
    "np.bincount(train_labels)  # Count occurrences of each class"
   ]
  },
  {
   "cell_type": "code",
   "execution_count": null,
   "metadata": {
    "colab": {
     "base_uri": "https://localhost:8080/"
    },
    "id": "FiTiBnFFtU7m",
    "outputId": "f0e385f1-6f32-4cde-f688-28e4e456ba94"
   },
   "outputs": [],
   "source": [
    "train_labels"
   ]
  },
  {
   "cell_type": "code",
   "execution_count": null,
   "metadata": {
    "id": "tDrzT6hF7JLU"
   },
   "outputs": [],
   "source": [
    "train_texts=train['processed_text']\n",
    "test_texts=test['processed_text']"
   ]
  },
  {
   "cell_type": "code",
   "execution_count": null,
   "metadata": {
    "colab": {
     "base_uri": "https://localhost:8080/"
    },
    "id": "5efQT63O2OKe",
    "outputId": "75a0b372-3edf-4cec-9f77-e2c5b51ee3c7"
   },
   "outputs": [],
   "source": [
    "train_texts,test_texts"
   ]
  },
  {
   "cell_type": "code",
   "execution_count": null,
   "metadata": {
    "colab": {
     "base_uri": "https://localhost:8080/"
    },
    "id": "DzNMO9WjQWFn",
    "outputId": "53c7526b-9ee2-46d2-9d98-b0bc92ffab23"
   },
   "outputs": [],
   "source": [
    "from tensorflow.keras.preprocessing.text import Tokenizer\n",
    "from tensorflow.keras.preprocessing.sequence import pad_sequences\n",
    "import numpy as np\n",
    "\n",
    "\n",
    "num_words = 20000  # Maximum allowed vocabulary size\n",
    "oov_token = \"<OOV>\"\n",
    "\n",
    "tokenizer = Tokenizer(num_words = num_words,oov_token=oov_token)\n",
    "tokenizer.fit_on_texts(train_texts)\n",
    "\n",
    "# Convert text to sequences\n",
    "x_train = tokenizer.texts_to_sequences(train_texts)\n",
    "x_test = tokenizer.texts_to_sequences(test_texts)\n",
    "\n",
    "vocab_size = len(tokenizer.word_index) +1\n",
    "\n",
    "\n",
    "'''x_train = [[min(w, vocab_size - 1) for w in seq] for seq in x_train]\n",
    "x_test = [[min(w, vocab_size - 1) for w in seq] for seq in x_test]'''\n",
    "\n",
    "oov_token_index = tokenizer.word_index.get(\"<OOV>\", 1)\n",
    "\n",
    "# Replace out-of-bounds indices with the OOV token index\n",
    "#x_train = [[w if w < vocab_size else oov_token_index for w in seq] for seq in x_train]\n",
    "#x_test = [[w if w < vocab_size else oov_token_index for w in seq] for seq in x_test]\n",
    "\n",
    "\n",
    "#x_train = [[w if w < vocab_size else 1 for w in seq] for seq in x_train]\n",
    "#x_test = [[w if w < vocab_size else 1 for w in seq] for seq in x_test]\n",
    "\n",
    "x_train = [[min(idx, vocab_size - 1) for idx in seq] for seq in x_train]\n",
    "x_test = [[min(idx, vocab_size - 1) for idx in seq] for seq in x_test]\n",
    "\n",
    "# Compute max sequence length (95th percentile)\n",
    "max_length = int(np.percentile([len(seq) for seq in x_train], 95))\n",
    "\n",
    "# Pad sequences\n",
    "x_train = pad_sequences(x_train, maxlen=max_length, padding=\"post\",truncating='post')\n",
    "x_test = pad_sequences(x_test, maxlen=max_length, padding=\"post\",truncating='post')\n",
    "\n",
    "word_index = tokenizer.word_index\n",
    "\n",
    "\n",
    "\n",
    "# Debugging info\n",
    "print(\"Max word index:\", max(word_index.values()))\n",
    "print(f\"Unique words in training set: {len(word_index)}\")\n",
    "print(f\"Max sequence length: {max_length}\")\n",
    "\n"
   ]
  },
  {
   "cell_type": "code",
   "execution_count": null,
   "metadata": {
    "id": "g-gjgd5QNIbi"
   },
   "outputs": [],
   "source": [
    "with open(\"tokenizer.pkl\", \"wb\") as f:\n",
    "    pickle.dump(tokenizer, f)\n"
   ]
  },
  {
   "cell_type": "code",
   "execution_count": null,
   "metadata": {
    "colab": {
     "base_uri": "https://localhost:8080/"
    },
    "id": "8aHXS0vbm4I-",
    "outputId": "29022062-89c0-4d36-948f-282e919e8e2d"
   },
   "outputs": [],
   "source": [
    "x_train"
   ]
  },
  {
   "cell_type": "code",
   "execution_count": null,
   "metadata": {
    "colab": {
     "base_uri": "https://localhost:8080/"
    },
    "id": "xOS-vbKR9JUr",
    "outputId": "50ab9a5a-55b3-4103-caac-eb4fb9bc64b9"
   },
   "outputs": [],
   "source": [
    "max_length"
   ]
  },
  {
   "cell_type": "code",
   "execution_count": null,
   "metadata": {
    "colab": {
     "base_uri": "https://localhost:8080/"
    },
    "id": "tURRR0Gg7bQb",
    "outputId": "72bd7b9f-79bb-4ea4-fcde-502ea8925c8a"
   },
   "outputs": [],
   "source": [
    "oov_count = sum(1 for seq in x_train for w in seq if w == 1)\n",
    "print(\"OOV Token Count in Training Data:\", oov_count)"
   ]
  },
  {
   "cell_type": "code",
   "execution_count": null,
   "metadata": {
    "colab": {
     "base_uri": "https://localhost:8080/"
    },
    "id": "j1j75NGjsmbl",
    "outputId": "ddc67e35-68a9-4d7e-c350-d564c22e11f3"
   },
   "outputs": [],
   "source": [
    "type(x_train),type(x_test)"
   ]
  },
  {
   "cell_type": "code",
   "execution_count": null,
   "metadata": {
    "colab": {
     "base_uri": "https://localhost:8080/"
    },
    "id": "bTkOKBaBC5VI",
    "outputId": "8097b7f1-356a-4154-923b-8e50f4d1fc9c"
   },
   "outputs": [],
   "source": [
    "len(x_train)"
   ]
  },
  {
   "cell_type": "code",
   "execution_count": null,
   "metadata": {
    "id": "5rAen2k03aF3"
   },
   "outputs": [],
   "source": [
    "y_train = train['sentiment'].values\n",
    "y_test = test['sentiment'].values"
   ]
  },
  {
   "cell_type": "code",
   "execution_count": null,
   "metadata": {
    "colab": {
     "base_uri": "https://localhost:8080/"
    },
    "id": "Tak6YWm6_W3I",
    "outputId": "6f9522dd-6ecf-465c-cfc0-8de57ac0ec34"
   },
   "outputs": [],
   "source": [
    "y_train,y_test"
   ]
  },
  {
   "cell_type": "code",
   "execution_count": null,
   "metadata": {
    "colab": {
     "base_uri": "https://localhost:8080/"
    },
    "id": "nqKMtTvj2VsO",
    "outputId": "d74856da-59c9-478e-be21-a776809a6bbc"
   },
   "outputs": [],
   "source": [
    "from tensorflow.keras.utils import to_categorical\n",
    "\n",
    "# Convert labels to one-hot encoding\n",
    "y_train = to_categorical(y_train, num_classes=3)\n",
    "y_test = to_categorical(y_test, num_classes=3)\n",
    "\n",
    "y_train.shape,y_test.shape"
   ]
  },
  {
   "cell_type": "code",
   "execution_count": null,
   "metadata": {
    "id": "vsHc566mYTVC"
   },
   "outputs": [],
   "source": [
    "import numpy as np\n",
    "\n",
    "# Save all datasets in a single .npz file\n",
    "np.savez(\"train_test_split.npz\", x_train=x_train, x_test=x_test, y_train=y_train, y_test=y_test)"
   ]
  },
  {
   "cell_type": "code",
   "execution_count": null,
   "metadata": {
    "colab": {
     "base_uri": "https://localhost:8080/"
    },
    "id": "hvc1jImbxGis",
    "outputId": "318e6556-2016-44f7-aac5-b0e686f95a3f"
   },
   "outputs": [],
   "source": [
    "y_train.shape,y_test.shape"
   ]
  },
  {
   "cell_type": "code",
   "execution_count": null,
   "metadata": {
    "colab": {
     "base_uri": "https://localhost:8080/"
    },
    "id": "aOvrYZ_OvxmS",
    "outputId": "9e12b9ee-9c3a-4d59-ddf5-933a48793b0e"
   },
   "outputs": [],
   "source": [
    "x_train.shape,train_labels.shape"
   ]
  },
  {
   "cell_type": "code",
   "execution_count": null,
   "metadata": {
    "colab": {
     "base_uri": "https://localhost:8080/"
    },
    "id": "F8Uxgjb9aGGY",
    "outputId": "28c5769a-e0ae-4287-c80e-fba17745d552"
   },
   "outputs": [],
   "source": [
    "x_train[:1]"
   ]
  },
  {
   "cell_type": "code",
   "execution_count": null,
   "metadata": {
    "colab": {
     "base_uri": "https://localhost:8080/"
    },
    "id": "96vo7U1NBNNr",
    "outputId": "eed23a02-2128-4475-baa8-530c95dd96fe"
   },
   "outputs": [],
   "source": [
    "x_train.shape,x_test.shape"
   ]
  },
  {
   "cell_type": "code",
   "execution_count": null,
   "metadata": {
    "colab": {
     "base_uri": "https://localhost:8080/"
    },
    "id": "7w8F5NodHJpS",
    "outputId": "033d0730-8c3a-4e22-e2f5-89cba846b1cb"
   },
   "outputs": [],
   "source": [
    "x_train[:10]"
   ]
  },
  {
   "cell_type": "code",
   "execution_count": null,
   "metadata": {
    "colab": {
     "base_uri": "https://localhost:8080/"
    },
    "id": "do0VpO86FXab",
    "outputId": "f1648b9d-ceae-4c65-eb90-1fc6e60d6866"
   },
   "outputs": [],
   "source": [
    "x_train.shape[1]"
   ]
  },
  {
   "cell_type": "code",
   "execution_count": null,
   "metadata": {
    "colab": {
     "base_uri": "https://localhost:8080/"
    },
    "id": "gP8ENDUnqhHI",
    "outputId": "3b40a5c1-f256-4821-a99b-fb3d91f87add"
   },
   "outputs": [],
   "source": [
    "import numpy as np\n",
    "\n",
    "embedding_dim = 100\n",
    "embedding_matrix = np.random.uniform(-0.05, 0.05, (vocab_size, embedding_dim))\n",
    "\n",
    "word_found = 0\n",
    "with open(\"glove.twitter.27B.100d.txt\", encoding=\"utf-8\") as f:\n",
    "    for line in f:\n",
    "        values = line.split()\n",
    "        word = values[0]\n",
    "        if word in tokenizer.word_index and tokenizer.word_index[word] < vocab_size - 1:\n",
    "            embedding_matrix[tokenizer.word_index[word]] = np.asarray(values[1:], dtype='float32')\n",
    "            word_found += 1\n",
    "\n",
    "# Compute mean of known embeddings only if there are known words\n",
    "known_embeddings = embedding_matrix[np.any(embedding_matrix != 0, axis=1)]\n",
    "if word_found > 0:\n",
    "    mean_embedding = np.mean(known_embeddings, axis=0)\n",
    "else:\n",
    "    mean_embedding = np.random.uniform(-0.05, 0.05, embedding_dim)\n",
    "\n",
    "embedding_matrix[np.all(embedding_matrix == 0, axis=1)] = mean_embedding\n",
    "\n",
    "print(f\"Embedding matrix shape: {embedding_matrix.shape}\")\n",
    "print(f\"Words found in GloVe: {word_found}\")\n",
    "\n"
   ]
  },
  {
   "cell_type": "code",
   "execution_count": null,
   "metadata": {
    "id": "q1VswarNKqtv"
   },
   "outputs": [],
   "source": [
    "#normalize the embedding\n",
    "from sklearn.preprocessing import normalize\n",
    "embedding_matrix = normalize(embedding_matrix, axis=1)"
   ]
  },
  {
   "cell_type": "code",
   "execution_count": null,
   "metadata": {
    "id": "nt-5q_uzLT-b"
   },
   "outputs": [],
   "source": [
    "np.save('embedding_matrix.npy', embedding_matrix)"
   ]
  },
  {
   "cell_type": "code",
   "execution_count": null,
   "metadata": {
    "colab": {
     "base_uri": "https://localhost:8080/"
    },
    "id": "3OYcZMcnRXKg",
    "outputId": "6bff931b-cb65-41e7-d48f-61d13c44c043"
   },
   "outputs": [],
   "source": [
    "embedding_matrix[:1]"
   ]
  },
  {
   "cell_type": "markdown",
   "metadata": {
    "id": "dAgt0GdTVT_E"
   },
   "source": [
    "## Training without using glove embedding"
   ]
  },
  {
   "cell_type": "code",
   "execution_count": null,
   "metadata": {
    "colab": {
     "base_uri": "https://localhost:8080/"
    },
    "id": "dwECGR2YFIZw",
    "outputId": "e23c5f12-4cf6-4fe7-ca5f-18bfc3d460fb"
   },
   "outputs": [],
   "source": [
    "print(tf.keras.mixed_precision.global_policy())"
   ]
  },
  {
   "cell_type": "code",
   "execution_count": null,
   "metadata": {
    "colab": {
     "base_uri": "https://localhost:8080/"
    },
    "id": "S1rrMQlwFmUY",
    "outputId": "6cd16a93-a661-49dc-ee1f-fdb94256e39a"
   },
   "outputs": [],
   "source": [
    "max_length"
   ]
  },
  {
   "cell_type": "code",
   "execution_count": null,
   "metadata": {
    "colab": {
     "base_uri": "https://localhost:8080/"
    },
    "id": "0H1liDEVqKfJ",
    "outputId": "b1036427-681b-4640-c70a-fdb7d1aa0d27"
   },
   "outputs": [],
   "source": [
    "num_words"
   ]
  },
  {
   "cell_type": "code",
   "execution_count": null,
   "metadata": {
    "colab": {
     "base_uri": "https://localhost:8080/"
    },
    "id": "UgphWbyoG9Fr",
    "outputId": "fef5eab6-a88e-4879-e0c3-8e85157ebbd6"
   },
   "outputs": [],
   "source": [
    "vocab_size"
   ]
  },
  {
   "cell_type": "code",
   "execution_count": null,
   "metadata": {
    "colab": {
     "base_uri": "https://localhost:8080/"
    },
    "id": "ANgPVi9-vtyH",
    "outputId": "bcd6b205-2540-45d7-b060-5d8654fab400"
   },
   "outputs": [],
   "source": [
    "embedding_dim,max_length"
   ]
  },
  {
   "cell_type": "code",
   "execution_count": null,
   "metadata": {
    "id": "beISQeV22Ucj"
   },
   "outputs": [],
   "source": [
    "def plot_confusion_matrix(cm, classes,\n",
    "                          normalize=False,\n",
    "                          title='Confusion matrix',\n",
    "                          cmap=plt.cm.Blues):\n",
    "  # Plot the heatmap\n",
    "  plt.figure(figsize=(8, 6))\n",
    "  sns.heatmap(cm, annot=True, fmt='g', cmap='Blues', xticklabels=class_labels, yticklabels=class_labels, cbar=False)\n",
    "\n",
    "  plt.title('Confusion Matrix', fontsize=16)\n",
    "  plt.xlabel('Predicted Labels', fontsize=12)\n",
    "  plt.ylabel('True Labels', fontsize=12)\n",
    "\n",
    "\n",
    "  plt.show()"
   ]
  },
  {
   "cell_type": "code",
   "execution_count": null,
   "metadata": {
    "colab": {
     "base_uri": "https://localhost:8080/",
     "height": 402
    },
    "id": "tV_zfHoEVTyw",
    "outputId": "3dfd664b-19c4-4744-8573-476a420621a9"
   },
   "outputs": [],
   "source": [
    "from tensorflow.keras.models import Sequential\n",
    "from tensorflow.keras.layers import Embedding, LSTM, Dense, Dropout, SpatialDropout1D\n",
    "from tensorflow.keras.regularizers import l2\n",
    "import tensorflow as tf\n",
    "\n",
    "\n",
    "dep_model0= Sequential()\n",
    "\n",
    "# Embedding Layer (Pretrained GloVe, Non-Trainable)\n",
    "dep_model0.add(Embedding(input_dim=vocab_size,\n",
    "                    output_dim=100,\n",
    "                    input_length=max_length,\n",
    "                    weights=[embedding_matrix],\n",
    "                    trainable=False))\n",
    "\n",
    "\n",
    "dep_model0.add(SpatialDropout1D(0.3))\n",
    "\n",
    "dep_model0.add(LSTM(32,\n",
    "               dropout=0.3,\n",
    "               recurrent_dropout=0.3,\n",
    "               return_sequences=False,\n",
    "               kernel_regularizer=l2(0.001)))\n",
    "\n",
    "dep_model0.add(BatchNormalization())\n",
    "dep_model0.add(Dense(32, activation='relu', kernel_regularizer=l2(0.001)))\n",
    "dep_model0.add(Dropout(0.4))\n",
    "\n",
    "dep_model0.add(Dense(3, activation='softmax'))\n",
    "\n",
    "\n",
    "dep_model0.compile(loss='categorical_crossentropy',\n",
    "              optimizer=tf.keras.optimizers.Adam(learning_rate=0.001),\n",
    "              metrics=['accuracy'])\n",
    "callbacks = [\n",
    "    tf.keras.callbacks.EarlyStopping(monitor='val_loss', patience=3, restore_best_weights=True),\n",
    "    tf.keras.callbacks.ReduceLROnPlateau(monitor='val_loss', factor=0.5, patience=1, min_lr=1e-6)\n",
    "]\n",
    "\n",
    "\n",
    "dep_model0.summary()"
   ]
  },
  {
   "cell_type": "code",
   "execution_count": null,
   "metadata": {
    "colab": {
     "base_uri": "https://localhost:8080/"
    },
    "id": "8vKiKH7DVldC",
    "outputId": "5873bf4c-3084-408c-b6d4-3aaf17d2c289"
   },
   "outputs": [],
   "source": [
    "history0 = dep_model0.fit(x_train, y_train,\n",
    "                        epochs=20,\n",
    "                        batch_size=32,\n",
    "                        validation_data=(x_test, y_test),\n",
    "                        callbacks=callbacks)"
   ]
  },
  {
   "cell_type": "code",
   "execution_count": null,
   "metadata": {
    "colab": {
     "base_uri": "https://localhost:8080/"
    },
    "id": "g5DM11bHW-jr",
    "outputId": "7d8318e9-460e-42a0-f12d-15812e6d4f8a"
   },
   "outputs": [],
   "source": [
    "dep_model0.evaluate(x_train,y_train),dep_model0.evaluate(x_test,y_test)"
   ]
  },
  {
   "cell_type": "code",
   "execution_count": null,
   "metadata": {
    "colab": {
     "base_uri": "https://localhost:8080/"
    },
    "id": "RZft6umi2ptg",
    "outputId": "fe298e30-d547-4804-a958-9a2a38c09648"
   },
   "outputs": [],
   "source": [
    "y_pred=dep_model0.predict(x_test)\n",
    "y_pred"
   ]
  },
  {
   "cell_type": "code",
   "execution_count": null,
   "metadata": {
    "colab": {
     "base_uri": "https://localhost:8080/"
    },
    "id": "CaAKwr732pme",
    "outputId": "2c8a1c84-9719-4db4-c69b-63f93aa25c9e"
   },
   "outputs": [],
   "source": [
    "y_pred_classes = np.argmax(y_pred, axis=1)\n",
    "y_pred_classes[:10]"
   ]
  },
  {
   "cell_type": "code",
   "execution_count": null,
   "metadata": {
    "colab": {
     "base_uri": "https://localhost:8080/"
    },
    "id": "t5kf2xxZ24ZV",
    "outputId": "caa22baf-e6d0-461a-be72-5b62d53fdd83"
   },
   "outputs": [],
   "source": [
    "y_test[:10]"
   ]
  },
  {
   "cell_type": "code",
   "execution_count": null,
   "metadata": {
    "colab": {
     "base_uri": "https://localhost:8080/"
    },
    "id": "tcgBwIO72xZy",
    "outputId": "e80636fb-eb83-4261-8823-edca7b35d0f1"
   },
   "outputs": [],
   "source": [
    "y_test_classes = np.argmax(y_test, axis=1)\n",
    "y_test_classes[:10]"
   ]
  },
  {
   "cell_type": "code",
   "execution_count": null,
   "metadata": {
    "colab": {
     "base_uri": "https://localhost:8080/",
     "height": 570
    },
    "id": "_Nbq34c22xCV",
    "outputId": "d7856070-d122-4b71-a8b2-f87cd87d5785"
   },
   "outputs": [],
   "source": [
    "cm = confusion_matrix(y_test_classes, y_pred_classes)\n",
    "\n",
    "class_labels = ['Negative', 'Neutral','Positive']\n",
    "plot_confusion_matrix(cm,class_labels)"
   ]
  },
  {
   "cell_type": "code",
   "execution_count": null,
   "metadata": {
    "colab": {
     "base_uri": "https://localhost:8080/"
    },
    "id": "5_YM805L3JSM",
    "outputId": "917313e8-0280-45cd-8318-4a961bc4e36c"
   },
   "outputs": [],
   "source": [
    "print(classification_report(y_test_classes,y_pred_classes))"
   ]
  },
  {
   "cell_type": "code",
   "execution_count": null,
   "metadata": {
    "colab": {
     "base_uri": "https://localhost:8080/"
    },
    "id": "i_-Z0PMH3uoy",
    "outputId": "83439088-fe5a-4ccd-e7b7-1b8187d9bde8"
   },
   "outputs": [],
   "source": [
    "print(f'Precision: {precision_score(y_test_classes,y_pred_classes,average=\"weighted\")}')\n",
    "print(f'Recall: {recall_score(y_test_classes,y_pred_classes,average=\"weighted\")}')\n",
    "print(f'F1 Score: {f1_score(y_test_classes,y_pred_classes,average=\"weighted\")}')"
   ]
  },
  {
   "cell_type": "markdown",
   "metadata": {
    "id": "wWCYOp7pCFto"
   },
   "source": [
    "## Fine-tuning using LSTM model"
   ]
  },
  {
   "cell_type": "code",
   "execution_count": null,
   "metadata": {
    "colab": {
     "base_uri": "https://localhost:8080/",
     "height": 540
    },
    "id": "RrAs_hwp6ZHS",
    "outputId": "a41038b6-beba-4d82-a070-1dd9bc684efd"
   },
   "outputs": [],
   "source": [
    "from keras.regularizers import l2\n",
    "\n",
    "#opt = LossScaleOptimizer(tf.keras.optimizers.AdamW(learning_rate=0.001,weight_decay=0.0001))\n",
    "opt=tf.keras.optimizers.AdamW(learning_rate=0.001,weight_decay=0.0001)\n",
    "embedding_dim = 100\n",
    "\n",
    "embedding_layer=Embedding(input_dim=vocab_size,\n",
    "                         output_dim=embedding_dim,\n",
    "                         input_length=max_length,\n",
    "                         weights=[embedding_matrix],\n",
    "                         trainable=True\n",
    "                         )\n",
    "\n",
    "dep_model = Sequential()\n",
    "dep_model.add(embedding_layer)\n",
    "\n",
    "dep_model.add(SpatialDropout1D(0.2))\n",
    "dep_model.add(LSTM(64, dropout=0.3, return_sequences=True,recurrent_dropout=0.3,kernel_regularizer=l2(0.005)))\n",
    "dep_model.add(LayerNormalization())\n",
    "dep_model.add(LSTM(32, dropout=0.3, recurrent_dropout=0.3,kernel_regularizer=l2(0.001)))\n",
    "dep_model.add(BatchNormalization())\n",
    "dep_model.add(Dense(64, activation='relu',kernel_regularizer=l2(0.001)))\n",
    "dep_model.add(Dropout(0.3)),\n",
    "dep_model.add(Dense(3, activation='softmax'))\n",
    "\n",
    "callbacks = [\n",
    "    tf.keras.callbacks.EarlyStopping(monitor='val_loss', patience=3, restore_best_weights=True),\n",
    "    tf.keras.callbacks.ReduceLROnPlateau(monitor='val_loss', factor=0.5, patience=1, min_lr=1e-6)\n",
    "]\n",
    "\n",
    "dep_model.compile(loss='categorical_crossentropy',\n",
    "                  optimizer=opt,\n",
    "                  metrics=['accuracy'])\n",
    "\n",
    "dep_model.summary()"
   ]
  },
  {
   "cell_type": "code",
   "execution_count": null,
   "metadata": {
    "colab": {
     "base_uri": "https://localhost:8080/"
    },
    "id": "R1115kzf88uW",
    "outputId": "5921a307-7441-4a46-c199-91e0d14b9d43"
   },
   "outputs": [],
   "source": [
    "x_train.shape,y_train.shape"
   ]
  },
  {
   "cell_type": "code",
   "execution_count": null,
   "metadata": {
    "colab": {
     "base_uri": "https://localhost:8080/"
    },
    "id": "mDNkA9MABEtK",
    "outputId": "e7e70f62-678c-4829-c633-0fc76bb36b2c"
   },
   "outputs": [],
   "source": [
    "print(x_train.shape)\n",
    "print(x_test.shape)\n"
   ]
  },
  {
   "cell_type": "code",
   "execution_count": null,
   "metadata": {
    "colab": {
     "base_uri": "https://localhost:8080/"
    },
    "id": "Jmyg318r8Kgy",
    "outputId": "ed53a72c-ccaf-4b98-fc0b-090af040dde6"
   },
   "outputs": [],
   "source": [
    "history = dep_model.fit(x_train, y_train,\n",
    "                        epochs=10,\n",
    "                        batch_size=32,\n",
    "                        validation_data=(x_test, y_test),\n",
    "                        callbacks=callbacks)\n"
   ]
  },
  {
   "cell_type": "code",
   "execution_count": null,
   "metadata": {
    "colab": {
     "base_uri": "https://localhost:8080/"
    },
    "id": "Q_HM19-7KA8S",
    "outputId": "d63a79bf-ec7b-4bd8-deb5-080a5ab323f6"
   },
   "outputs": [],
   "source": [
    "dep_model.evaluate(x_train,y_train),dep_model.evaluate(x_test,y_test)"
   ]
  },
  {
   "cell_type": "code",
   "execution_count": null,
   "metadata": {
    "colab": {
     "base_uri": "https://localhost:8080/"
    },
    "id": "hclkvK3OxD5z",
    "outputId": "a9a52aad-93ef-47fb-abf4-2c1ad42b311a"
   },
   "outputs": [],
   "source": [
    "y_pred=dep_model.predict(x_test)\n",
    "y_pred"
   ]
  },
  {
   "cell_type": "code",
   "execution_count": null,
   "metadata": {
    "colab": {
     "base_uri": "https://localhost:8080/"
    },
    "id": "-KcljedRxVR-",
    "outputId": "68425d61-f805-4f87-d361-42e3dc1c2636"
   },
   "outputs": [],
   "source": [
    "y_pred_classes = np.argmax(y_pred, axis=1)\n",
    "y_pred_classes[:10]"
   ]
  },
  {
   "cell_type": "code",
   "execution_count": null,
   "metadata": {
    "colab": {
     "base_uri": "https://localhost:8080/"
    },
    "id": "cFFLaauaxsQX",
    "outputId": "c8fab4a7-9cd6-4099-8c56-d782bccd04e3"
   },
   "outputs": [],
   "source": [
    "y_test[:10]"
   ]
  },
  {
   "cell_type": "code",
   "execution_count": null,
   "metadata": {
    "id": "ToR4ChvXx_7T"
   },
   "outputs": [],
   "source": [
    "y_test_classes = np.argmax(y_test, axis=1)  # Convert one-hot to class labels"
   ]
  },
  {
   "cell_type": "code",
   "execution_count": null,
   "metadata": {
    "colab": {
     "base_uri": "https://localhost:8080/"
    },
    "id": "vB7utEbi0hYO",
    "outputId": "7266f8c4-c8be-4f43-efdb-30b57b817786"
   },
   "outputs": [],
   "source": [
    "# Print the classes that were encoded\n",
    "print(\"Classes: \", le.classes_)\n",
    "\n",
    "# To map the predicted labels or encoded labels back to original sentiment labels\n",
    "predicted_sentiment = le.inverse_transform(y_pred_classes)\n",
    "print(predicted_sentiment[:10])  # Show the first 10 predictions as an example\n"
   ]
  },
  {
   "cell_type": "code",
   "execution_count": null,
   "metadata": {
    "colab": {
     "base_uri": "https://localhost:8080/",
     "height": 570
    },
    "id": "lshDOPupxdo1",
    "outputId": "97c74adf-c682-4908-cb6d-cede2dff5f14"
   },
   "outputs": [],
   "source": [
    "cm = confusion_matrix(y_test_classes, y_pred_classes)\n",
    "\n",
    "class_labels = ['Negative', 'Neutral','Positive']\n",
    "plot_confusion_matrix(cm,class_labels)"
   ]
  },
  {
   "cell_type": "code",
   "execution_count": null,
   "metadata": {
    "colab": {
     "base_uri": "https://localhost:8080/"
    },
    "id": "ryM_jgHHyEsT",
    "outputId": "9be33623-3c98-49c0-c8b7-dc289f4fbccf"
   },
   "outputs": [],
   "source": [
    "print(classification_report(y_test_classes,y_pred_classes))"
   ]
  },
  {
   "cell_type": "code",
   "execution_count": null,
   "metadata": {
    "colab": {
     "base_uri": "https://localhost:8080/"
    },
    "id": "KfeB3fip0tsg",
    "outputId": "2edba88f-9cd0-4cbf-d81e-97a06dbbc2b0"
   },
   "outputs": [],
   "source": [
    "print(f'Precision: {precision_score(y_test_classes,y_pred_classes,average=\"weighted\")}')\n",
    "print(f'Recall: {recall_score(y_test_classes,y_pred_classes,average=\"weighted\")}')\n",
    "print(f'F1 Score: {f1_score(y_test_classes,y_pred_classes,average=\"weighted\")}')"
   ]
  },
  {
   "cell_type": "code",
   "execution_count": null,
   "metadata": {
    "colab": {
     "base_uri": "https://localhost:8080/"
    },
    "id": "Z5rYNoQgOb0K",
    "outputId": "88735f15-68c1-4a88-8fb2-296ed680205a"
   },
   "outputs": [],
   "source": [
    "dep_model.save(\"dep_model.h5\")"
   ]
  },
  {
   "cell_type": "code",
   "execution_count": null,
   "metadata": {
    "id": "HGM5x1piOhkw"
   },
   "outputs": [],
   "source": [
    "from tensorflow.keras.models import load_model\n",
    "\n",
    "loaded_model = load_model(\"dep_model.h5\")"
   ]
  },
  {
   "cell_type": "markdown",
   "metadata": {
    "id": "Rs1awhysUkjv"
   },
   "source": [
    "## Using bidirectional LSTM"
   ]
  },
  {
   "cell_type": "code",
   "execution_count": null,
   "metadata": {
    "colab": {
     "base_uri": "https://localhost:8080/"
    },
    "id": "62cKUdQPKTtl",
    "outputId": "319c8d59-b557-4f4b-f957-977de33cd22b"
   },
   "outputs": [],
   "source": [
    "loaded_embedding_matrix = np.load('/content/MyDrive/MyDrive/Twitter sentiment analysis processed data/embedding_matrix.npy')\n",
    "loaded_embedding_matrix"
   ]
  },
  {
   "cell_type": "code",
   "execution_count": null,
   "metadata": {
    "id": "VeyiyMvKPu6o"
   },
   "outputs": [],
   "source": [
    "import pickle\n",
    "\n",
    "# Load the tokenizer from the pickle file\n",
    "with open(\"/content/MyDrive/MyDrive/Twitter sentiment analysis processed data/tokenizer.pkl\", \"rb\") as f:\n",
    "    tokenizer = pickle.load(f)"
   ]
  },
  {
   "cell_type": "code",
   "execution_count": null,
   "metadata": {
    "colab": {
     "base_uri": "https://localhost:8080/"
    },
    "id": "oWSJvIfjMgLX",
    "outputId": "ff1611ac-f09d-409f-9e9d-c9d8c62ae146"
   },
   "outputs": [],
   "source": [
    "vocab_size = len(tokenizer.word_index) + 1\n",
    "vocab_size"
   ]
  },
  {
   "cell_type": "code",
   "execution_count": null,
   "metadata": {
    "colab": {
     "base_uri": "https://localhost:8080/",
     "height": 456
    },
    "id": "6RuZe0rvQ0_r",
    "outputId": "2d8cb719-db1e-46df-e8c6-fbd1cd263cb5"
   },
   "outputs": [],
   "source": [
    "dep_model3 = Sequential()\n",
    "\n",
    "opt=tf.keras.optimizers.AdamW(learning_rate=0.001,weight_decay=0.0001)\n",
    "\n",
    "embedding_layer1 = Embedding(input_dim=vocab_size,\n",
    "                             output_dim=100,\n",
    "                             input_length=26,\n",
    "                             weights=[loaded_embedding_matrix],\n",
    "                             trainable=False)\n",
    "\n",
    "dep_model3.add(embedding_layer1)\n",
    "\n",
    "dep_model3.add(Bidirectional(LSTM(64, dropout=0.3, return_sequences=False, recurrent_dropout=0.3, kernel_regularizer=l2(0.001))))\n",
    "dep_model3.add(BatchNormalization())\n",
    "dep_model3.add(Dense(32, activation='relu', kernel_regularizer=l2(0.001)))\n",
    "dep_model3.add(BatchNormalization())\n",
    "dep_model3.add(Dropout(0.3))\n",
    "dep_model3.add(Dense(3, activation='softmax'))\n",
    "\n",
    "callbacks = [\n",
    "    tf.keras.callbacks.EarlyStopping(monitor='val_loss', patience=3, restore_best_weights=True),\n",
    "    tf.keras.callbacks.ReduceLROnPlateau(monitor='val_loss', factor=0.5, patience=1, min_lr=1e-6)\n",
    "]\n",
    "\n",
    "dep_model3.compile(loss='categorical_crossentropy', optimizer=opt, metrics=['accuracy'])\n",
    "dep_model3.summary()"
   ]
  },
  {
   "cell_type": "code",
   "execution_count": null,
   "metadata": {
    "colab": {
     "base_uri": "https://localhost:8080/"
    },
    "id": "2Vu4TcrSMG5T",
    "outputId": "fe266af9-e1e3-4b18-9561-f0c313ebbcbf"
   },
   "outputs": [],
   "source": [
    "y_train"
   ]
  },
  {
   "cell_type": "code",
   "execution_count": null,
   "metadata": {
    "colab": {
     "base_uri": "https://localhost:8080/"
    },
    "id": "MMKPvRJFMUlz",
    "outputId": "67b1ebba-e26a-43b3-9024-57e182e79138"
   },
   "outputs": [],
   "source": [
    "print(x_train.shape)\n",
    "print(y_train.shape)\n",
    "print(x_test.shape)\n",
    "print(y_test.shape)"
   ]
  },
  {
   "cell_type": "code",
   "execution_count": null,
   "metadata": {
    "colab": {
     "base_uri": "https://localhost:8080/"
    },
    "id": "H_sFmQu612bi",
    "outputId": "f7bbdf94-676a-43da-8b29-eaf599eab667"
   },
   "outputs": [],
   "source": [
    "history3 = dep_model3.fit(x_train, y_train,\n",
    "                        epochs=20,\n",
    "                        batch_size=32,\n",
    "                        validation_data=(x_test, y_test),\n",
    "                        callbacks=callbacks)"
   ]
  },
  {
   "cell_type": "code",
   "execution_count": null,
   "metadata": {
    "colab": {
     "base_uri": "https://localhost:8080/"
    },
    "id": "N7b1eqISnYHm",
    "outputId": "993ed7bf-1609-4601-fd79-76b76ea2aec7"
   },
   "outputs": [],
   "source": [
    "dep_model3.evaluate(x_train,y_train),dep_model3.evaluate(x_test,y_test)"
   ]
  },
  {
   "cell_type": "code",
   "execution_count": null,
   "metadata": {
    "id": "M1GEyoNimjij"
   },
   "outputs": [],
   "source": [
    "def plot_loss_acc_curves(history):\n",
    "  plt.plot(history.history['loss'], label='Training Loss')\n",
    "  plt.plot(history.history['val_loss'], label='Validation Loss')\n",
    "  plt.xlabel('Epochs')\n",
    "  plt.ylabel('Loss')\n",
    "  plt.legend()\n",
    "\n",
    "  plt.figure()\n",
    "  plt.plot(history.history['accuracy'], label='Training Accuracy')\n",
    "  plt.plot(history.history['val_accuracy'], label='Validation Accuracy')\n",
    "  plt.xlabel('Epochs')\n",
    "  plt.ylabel('Accuracy')\n",
    "  plt.legend()\n",
    "  plt.show()"
   ]
  },
  {
   "cell_type": "code",
   "execution_count": null,
   "metadata": {
    "colab": {
     "base_uri": "https://localhost:8080/",
     "height": 884
    },
    "id": "8QjzYeXUOEPA",
    "outputId": "7a0ea475-c77d-4f02-9043-108e96e451e3"
   },
   "outputs": [],
   "source": [
    "plot_loss_acc_curves(history3)"
   ]
  },
  {
   "cell_type": "code",
   "execution_count": null,
   "metadata": {
    "colab": {
     "base_uri": "https://localhost:8080/"
    },
    "id": "sA3YhHe3n_bk",
    "outputId": "3763deac-951a-4fc7-f1ed-c786c83694b0"
   },
   "outputs": [],
   "source": [
    "y_test[:5]"
   ]
  },
  {
   "cell_type": "code",
   "execution_count": null,
   "metadata": {
    "colab": {
     "base_uri": "https://localhost:8080/"
    },
    "id": "ORHZbf5uoDQs",
    "outputId": "06c0f814-db21-4928-e5d8-6cd461fb20c8"
   },
   "outputs": [],
   "source": [
    "y_test_classes=np.argmax(y_test,axis=1)\n",
    "y_test_classes[:5]"
   ]
  },
  {
   "cell_type": "code",
   "execution_count": null,
   "metadata": {
    "colab": {
     "base_uri": "https://localhost:8080/"
    },
    "id": "eEBYn3xwoSHm",
    "outputId": "3c6cf41e-498e-43b6-c6ff-f5ec5c853da8"
   },
   "outputs": [],
   "source": [
    "y_pred=dep_model3.predict(x_test)\n",
    "y_pred"
   ]
  },
  {
   "cell_type": "code",
   "execution_count": null,
   "metadata": {
    "colab": {
     "base_uri": "https://localhost:8080/"
    },
    "id": "C0BM93jQoW0P",
    "outputId": "dcbd91b2-9ce0-49b0-de37-31a7508fc0b3"
   },
   "outputs": [],
   "source": [
    "y_pred_classes=np.argmax(y_pred,axis=1)\n",
    "y_pred_classes[:10]"
   ]
  },
  {
   "cell_type": "code",
   "execution_count": null,
   "metadata": {
    "id": "oqTBPIyCo2Qx"
   },
   "outputs": [],
   "source": [
    "import pickle\n",
    "\n",
    "# Load the tokenizer from the pickle file\n",
    "with open(\"/content/MyDrive/MyDrive/Twitter sentiment analysis processed data/label_encoder.pkl\", \"rb\") as f:\n",
    "    le = pickle.load(f)"
   ]
  },
  {
   "cell_type": "code",
   "execution_count": null,
   "metadata": {
    "colab": {
     "base_uri": "https://localhost:8080/"
    },
    "id": "Rv-II9YUovOJ",
    "outputId": "6cecb05d-da09-4755-a3b4-d75216d1d2b9"
   },
   "outputs": [],
   "source": [
    "print(\"Classes: \", le.classes_)"
   ]
  },
  {
   "cell_type": "code",
   "execution_count": null,
   "metadata": {
    "colab": {
     "base_uri": "https://localhost:8080/",
     "height": 570
    },
    "id": "wvmC--IJn5Rj",
    "outputId": "f11dd622-8c9e-48d6-a48c-5753c55d2076"
   },
   "outputs": [],
   "source": [
    "cm=confusion_matrix(y_test_classes,y_pred_classes)\n",
    "class_labels=le.classes_\n",
    "plot_confusion_matrix(cm,class_labels)"
   ]
  },
  {
   "cell_type": "code",
   "execution_count": null,
   "metadata": {
    "colab": {
     "base_uri": "https://localhost:8080/"
    },
    "id": "O776YtVhpDzO",
    "outputId": "14d50583-81e9-4c67-d904-4f3f2e68467c"
   },
   "outputs": [],
   "source": [
    "print(classification_report(y_test_classes,y_pred_classes))"
   ]
  },
  {
   "cell_type": "code",
   "execution_count": null,
   "metadata": {
    "colab": {
     "base_uri": "https://localhost:8080/"
    },
    "id": "JiIXrLMbCtfz",
    "outputId": "22d74794-e546-47c7-afc6-03cfa667ee4e"
   },
   "outputs": [],
   "source": [
    "data = np.load(\"/content/MyDrive/MyDrive/Twitter sentiment analysis processed data/train_test_split.npz\")\n",
    "\n",
    "\n",
    "x_train = data[\"x_train\"]\n",
    "x_test = data[\"x_test\"]\n",
    "y_train = data[\"y_train\"]\n",
    "y_test = data[\"y_test\"]\n",
    "print(\"x_train shape:\", x_train.shape)\n",
    "print(\"y_train shape:\", y_train.shape)\n",
    "print(\"x_test shape:\", x_test.shape)\n",
    "print(\"y_test shape:\", y_test.shape)"
   ]
  },
  {
   "cell_type": "code",
   "execution_count": null,
   "metadata": {
    "colab": {
     "base_uri": "https://localhost:8080/"
    },
    "id": "Tx3Md3g-Di0T",
    "outputId": "99fb38a2-55d8-4b25-f881-4d34123f35de"
   },
   "outputs": [],
   "source": [
    "type(x_train)"
   ]
  },
  {
   "cell_type": "markdown",
   "metadata": {
    "id": "NiZSX-XL6F5n"
   },
   "source": [
    "## Adding Global Average pooling 1D after Bidirectional LSTM"
   ]
  },
  {
   "cell_type": "code",
   "execution_count": null,
   "metadata": {
    "colab": {
     "base_uri": "https://localhost:8080/",
     "height": 452
    },
    "id": "cdqWIq7fgmB7",
    "outputId": "8f3c1667-73aa-4fbc-db94-e2a8d1019064"
   },
   "outputs": [],
   "source": [
    "dep_model4=Sequential([\n",
    "    Embedding(input_dim=vocab_size,\n",
    "                             output_dim=100,\n",
    "                             input_length=26,\n",
    "                             weights=[loaded_embedding_matrix],\n",
    "                             trainable=True),\n",
    "    Bidirectional(LSTM(64, dropout=0.3, return_sequences=True, recurrent_dropout=0.3, kernel_regularizer=l2(0.001))),\n",
    "    GlobalAveragePooling1D(),\n",
    "    BatchNormalization(),\n",
    "    Dense(64, activation='relu', kernel_regularizer=l2(0.001)),\n",
    "    BatchNormalization(),\n",
    "    Dropout(0.3),\n",
    "    Dense(3, activation='softmax')\n",
    "])\n",
    "opt=tf.keras.optimizers.AdamW(learning_rate=0.001,weight_decay=0.0001)\n",
    "dep_model4.compile(loss='categorical_crossentropy',\n",
    "                   optimizer=opt,\n",
    "                   metrics=['accuracy'])\n",
    "dep_model4.summary()"
   ]
  },
  {
   "cell_type": "code",
   "execution_count": null,
   "metadata": {
    "colab": {
     "base_uri": "https://localhost:8080/"
    },
    "id": "X11P0neIgmZQ",
    "outputId": "efcac1e3-220b-4280-d8d2-4210d0a7eea6"
   },
   "outputs": [],
   "source": [
    "callbacks=[tf.keras.callbacks.EarlyStopping(monitor='val_loss',patience=3,restore_best_weights=True),\n",
    "           tf.keras.callbacks.ReduceLROnPlateau(monitor='val_loss', factor=0.5, patience=1, min_lr=1e-6)]\n",
    "history4=dep_model4.fit(x_train,y_train,\n",
    "               epochs=20,\n",
    "               batch_size=32,\n",
    "               validation_data=(x_test,y_test),\n",
    "               callbacks=callbacks)"
   ]
  },
  {
   "cell_type": "code",
   "execution_count": null,
   "metadata": {
    "colab": {
     "base_uri": "https://localhost:8080/"
    },
    "id": "LcXYsRyBMood",
    "outputId": "47aadfa2-0822-4c1c-f5e1-85061d829d7c"
   },
   "outputs": [],
   "source": [
    "dep_model4.save(\"dep_model4.h5\")"
   ]
  },
  {
   "cell_type": "code",
   "execution_count": null,
   "metadata": {
    "colab": {
     "base_uri": "https://localhost:8080/"
    },
    "id": "zLKCiuXeMXGe",
    "outputId": "9a5860ce-9459-4b79-ef81-a38daea1cbcc"
   },
   "outputs": [],
   "source": [
    "from tensorflow.keras.models import load_model\n",
    "\n",
    "# Load the model from HDF5 file\n",
    "model = load_model(\"dep_model4.h5\")\n"
   ]
  },
  {
   "cell_type": "code",
   "execution_count": null,
   "metadata": {
    "colab": {
     "base_uri": "https://localhost:8080/"
    },
    "id": "5hTRVbqLMx84",
    "outputId": "bb8f3379-971d-4d71-c662-fc7e1fc67190"
   },
   "outputs": [],
   "source": [
    "model.evaluate(x_train,y_train),model.evaluate(x_test,y_test)"
   ]
  },
  {
   "cell_type": "code",
   "execution_count": null,
   "metadata": {
    "colab": {
     "base_uri": "https://localhost:8080/"
    },
    "id": "1gpugAa2NDtV",
    "outputId": "7597b63a-cb37-4f8a-aa1b-19df52b842e7"
   },
   "outputs": [],
   "source": [
    "y_pred=model.predict(x_test)\n",
    "y_pred"
   ]
  },
  {
   "cell_type": "code",
   "execution_count": null,
   "metadata": {
    "colab": {
     "base_uri": "https://localhost:8080/"
    },
    "id": "vDw_VL1kNGei",
    "outputId": "e5bb96a2-8481-47ab-e53d-520fc3c48548"
   },
   "outputs": [],
   "source": [
    "y_pred_classes=np.argmax(y_pred,axis=1)\n",
    "y_pred_classes[:10]"
   ]
  },
  {
   "cell_type": "code",
   "execution_count": null,
   "metadata": {
    "colab": {
     "base_uri": "https://localhost:8080/"
    },
    "id": "VrC5Isz3NJDc",
    "outputId": "9f04f577-c0d0-4684-f3a8-da1db408ac61"
   },
   "outputs": [],
   "source": [
    "y_test_classes=np.argmax(y_test,axis=1)\n",
    "y_test_classes[:10]"
   ]
  },
  {
   "cell_type": "code",
   "execution_count": null,
   "metadata": {
    "colab": {
     "base_uri": "https://localhost:8080/",
     "height": 570
    },
    "id": "qj1h7XYAM_0S",
    "outputId": "32a9c220-6892-4415-dfdf-e250d82fd6ea"
   },
   "outputs": [],
   "source": [
    "cm=confusion_matrix(y_test_classes,y_pred_classes)\n",
    "class_labels=le.classes_\n",
    "plot_confusion_matrix(cm,class_labels)"
   ]
  },
  {
   "cell_type": "code",
   "execution_count": null,
   "metadata": {
    "colab": {
     "base_uri": "https://localhost:8080/"
    },
    "id": "GYylx2rTNhVC",
    "outputId": "145a98cc-eb3c-41c5-ca33-ad094f94f7a8"
   },
   "outputs": [],
   "source": [
    "print(classification_report(y_test_classes,y_pred_classes))"
   ]
  },
  {
   "cell_type": "code",
   "execution_count": null,
   "metadata": {
    "id": "OIWwLECBNwco"
   },
   "outputs": [],
   "source": [
    "import pickle\n",
    "\n",
    "# Load preprocessing objects (e.g., tokenizer)\n",
    "path='/content/MyDrive/MyDrive/Twitter sentiment analysis processed data/text_preprocessing.pkl'\n",
    "with open(path, \"rb\") as f:\n",
    "    preprocessing_pipeline = pickle.load(f)\n"
   ]
  },
  {
   "cell_type": "code",
   "execution_count": null,
   "metadata": {
    "colab": {
     "base_uri": "https://localhost:8080/"
    },
    "id": "jPNZvUgiPzK6",
    "outputId": "ab33a617-1fbf-4561-85b7-fae0cf73178d"
   },
   "outputs": [],
   "source": [
    "print(type(preprocessing_pipeline))  # Check the data type\n",
    "print(preprocessing_pipeline)  # Print details"
   ]
  },
  {
   "cell_type": "code",
   "execution_count": null,
   "metadata": {
    "colab": {
     "base_uri": "https://localhost:8080/"
    },
    "id": "j53sEpFVQA_R",
    "outputId": "aef84778-fcb7-4757-cabd-f505694cbb38"
   },
   "outputs": [],
   "source": [
    "import pickle\n",
    "\n",
    "tokenizer_path = \"/content/MyDrive/MyDrive/Twitter sentiment analysis processed data/tokenizer.pkl\"\n",
    "\n",
    "with open(tokenizer_path, \"rb\") as f:\n",
    "    tokenizer = pickle.load(f)\n",
    "\n",
    "print(type(tokenizer))\n"
   ]
  },
  {
   "cell_type": "code",
   "execution_count": null,
   "metadata": {
    "id": "PumhgrJVRwcq"
   },
   "outputs": [],
   "source": [
    "from nltk.tokenize import TweetTokenizer\n",
    "\n",
    "\n",
    "donot_remove = {'am','not', 'have', 'has', 'must', 'should', 'had', 'might','never','was'}\n",
    "stop_words = set(stopwords.words('english')) - donot_remove\n",
    "\n",
    "\n",
    "tokenizer = TweetTokenizer(preserve_case=False, strip_handles=False, reduce_len=True)"
   ]
  },
  {
   "cell_type": "code",
   "execution_count": null,
   "metadata": {
    "id": "HePkPdojP2YZ"
   },
   "outputs": [],
   "source": [
    "num_words = 20000\n",
    "oov_token = \"<OOV>\"\n",
    "\n",
    "tokenizer1 = Tokenizer(num_words = num_words,oov_token=oov_token)\n",
    "tokenizer1.fit_on_texts(train_texts)"
   ]
  },
  {
   "cell_type": "code",
   "execution_count": null,
   "metadata": {
    "id": "9XOP340tOzYF"
   },
   "outputs": [],
   "source": [
    "def predict_sentiment(custom_tweet, preprocessing_pipeline, tokenizer, model, max_length=26):\n",
    "    \"\"\"\n",
    "    Predicts the sentiment of a given tweet.\n",
    "\n",
    "    Parameters:\n",
    "    - custom_tweet (str): The input tweet to analyze.\n",
    "    - preprocessing_pipeline (function): A function for text preprocessing.\n",
    "    - tokenizer (Tokenizer): The trained tokenizer for text-to-sequence conversion.\n",
    "    - model (tf.keras.Model): The trained sentiment analysis model.\n",
    "    - max_length (int): The maximum sequence length for padding (default: 26).\n",
    "\n",
    "    Returns:\n",
    "    - str: The predicted sentiment (\"Negative\", \"Neutral\", or \"Positive\").\n",
    "    \"\"\"\n",
    "    # Preprocess the tweet\n",
    "    cleaned_tweet = preprocessing_pipeline(custom_tweet)\n",
    "\n",
    "    # Convert text to sequence using the loaded tokenizer\n",
    "    custom_tweet_seq = tokenizer.texts_to_sequences([cleaned_tweet])\n",
    "\n",
    "    # Pad the sequence\n",
    "    custom_tweet_padded = tf.keras.preprocessing.sequence.pad_sequences(custom_tweet_seq, maxlen=max_length,padding='post',truncating='post')\n",
    "\n",
    "    # Make Prediction\n",
    "    prediction = model.predict(custom_tweet_padded)\n",
    "\n",
    "    # Convert Prediction to Sentiment Label\n",
    "    sentiment_labels = [\"Negative\", \"Neutral\", \"Positive\"]\n",
    "    predicted_class = sentiment_labels[np.argmax(prediction)]\n",
    "\n",
    "    # Print results\n",
    "    print(\"Cleaned Tweet:\", cleaned_tweet)\n",
    "    print(\"Tokenized Sequence:\", custom_tweet_seq)\n",
    "    print(\"Padded Sequence:\", custom_tweet_padded)\n",
    "    print(\"Prediction Probabilities:\", prediction)\n",
    "    print(\"Predicted Sentiment:\", predicted_class)\n",
    "\n",
    "    return predicted_class\n",
    "\n"
   ]
  },
  {
   "cell_type": "code",
   "execution_count": null,
   "metadata": {
    "colab": {
     "base_uri": "https://localhost:8080/"
    },
    "id": "Lvqw4CH2NnrT",
    "outputId": "db89d906-0b3d-461c-abf0-200a88d5f5cb"
   },
   "outputs": [],
   "source": [
    "tweet = \"I love this product!\"\n",
    "predicted_sentiment = predict_sentiment(tweet, preprocessing_pipeline, tokenizer1, model)\n",
    "print(f\"Final Predicted Sentiment: {predicted_sentiment}\")"
   ]
  },
  {
   "cell_type": "code",
   "execution_count": null,
   "metadata": {
    "colab": {
     "base_uri": "https://localhost:8080/"
    },
    "id": "UiD46bV_Tcay",
    "outputId": "ba5f32b4-3a62-43ca-d533-181b3b876f00"
   },
   "outputs": [],
   "source": [
    "print(tokenizer1.word_index)  # Check if words are indexed correctly\n"
   ]
  },
  {
   "cell_type": "code",
   "execution_count": null,
   "metadata": {
    "colab": {
     "base_uri": "https://localhost:8080/",
     "height": 209
    },
    "id": "u06rgqdvXKTw",
    "outputId": "53bf6a43-fd6a-4e57-ba6a-f6707bb7e8da"
   },
   "outputs": [],
   "source": [
    "train[train['tweet'].str.contains('laugh', case=False, na=False)]['sentiment'].value_counts()"
   ]
  },
  {
   "cell_type": "code",
   "execution_count": null,
   "metadata": {
    "colab": {
     "base_uri": "https://localhost:8080/",
     "height": 536
    },
    "id": "CLq_qJiWXet2",
    "outputId": "9016a76a-782f-411a-ea0b-4810e0c3b217"
   },
   "outputs": [],
   "source": [
    "train[(train['tweet'].str.contains('laugh', case=False, na=False)) & (train['sentiment'] == 0)].head(10)\n"
   ]
  },
  {
   "cell_type": "code",
   "execution_count": null,
   "metadata": {
    "colab": {
     "base_uri": "https://localhost:8080/"
    },
    "id": "ihUdOmYbW6vg",
    "outputId": "73ea736d-c537-4586-c70e-32cfafd6903f"
   },
   "outputs": [],
   "source": [
    "import numpy as np\n",
    "\n",
    "word = \"laugh\"\n",
    "if word in word_index:\n",
    "    word_vec = loaded_embedding_matrix[word_index[word]]\n",
    "    print(f\"Embedding for '{word}':\", word_vec)\n",
    "else:\n",
    "    print(f\"'{word}' not found in vocabulary!\")\n"
   ]
  },
  {
   "cell_type": "code",
   "execution_count": null,
   "metadata": {
    "colab": {
     "base_uri": "https://localhost:8080/"
    },
    "id": "QCdlZI7JRyzY",
    "outputId": "2694dcd0-3cba-4d3b-88c9-716008f20057"
   },
   "outputs": [],
   "source": [
    "tweets=[\"I didn't like it \",\n",
    "        \"I was a boring movie\",\n",
    "        'What a nice girl',\n",
    "        'She is a positive girl',\n",
    "        'fucked up',\n",
    "        'you suck',\n",
    "        'I got a great feeling about this',\n",
    "        'I am beautiful',\n",
    "        'She is a woman',\n",
    "        'I am a bastard lol!',\n",
    "        'I am laughing',\n",
    "        \"I love to laugh, it's the best feeling!\",\n",
    "        'He is showing off his abs']\n",
    "for tweet in tweets:\n",
    "  predicted_sentiment = predict_sentiment(tweet, preprocessing_pipeline, tokenizer1, model)\n",
    "  print(f\"Final Predicted Sentiment: {predicted_sentiment}\")"
   ]
  },
  {
   "cell_type": "code",
   "execution_count": null,
   "metadata": {
    "colab": {
     "base_uri": "https://localhost:8080/"
    },
    "id": "PEZEoPhUTpPQ",
    "outputId": "1d7301ff-828b-4387-919b-21292834a8c8"
   },
   "outputs": [],
   "source": [
    "import collections\n",
    "\n",
    "label_counts = collections.Counter(y_train.argmax(axis=1))\n",
    "print(label_counts)\n"
   ]
  },
  {
   "cell_type": "markdown",
   "metadata": {
    "id": "XFJtX0tn7-vy"
   },
   "source": [
    "## Adding MaxPool1D instead of Global average pooling"
   ]
  },
  {
   "cell_type": "code",
   "execution_count": null,
   "metadata": {
    "colab": {
     "base_uri": "https://localhost:8080/"
    },
    "id": "Q0mRcYamDw6j",
    "outputId": "6198404a-d15d-4efa-a8b5-ac7b267e1464"
   },
   "outputs": [],
   "source": [
    "x_train = np.array(x_train, dtype=np.int32)\n",
    "x_test=np.array(x_test,dtype=np.int32)\n",
    "y_train = np.array(y_train, dtype=np.float32)\n",
    "y_test=np.array(y_test,dtype=np.float32)\n",
    "x_train.shape,x_test.shape,y_train.shape,y_test.shape"
   ]
  },
  {
   "cell_type": "code",
   "execution_count": null,
   "metadata": {
    "colab": {
     "base_uri": "https://localhost:8080/",
     "height": 523
    },
    "id": "u3b79AH_7-Na",
    "outputId": "076f6db0-dc99-412a-9e4e-c464702bf9f6"
   },
   "outputs": [],
   "source": [
    "dep_model5=Sequential([\n",
    "    Embedding(input_dim=vocab_size,\n",
    "                             output_dim=100,\n",
    "                             input_length=26,\n",
    "                             weights=[loaded_embedding_matrix],\n",
    "                             trainable=True),\n",
    "    Bidirectional(LSTM(64, dropout=0.3, return_sequences=True, recurrent_dropout=0.3, kernel_regularizer=l2(0.001))),\n",
    "    MaxPooling1D(pool_size=2),\n",
    "    Flatten(),\n",
    "    BatchNormalization(),\n",
    "    Dense(64, activation='relu', kernel_regularizer=l2(0.001)),\n",
    "    BatchNormalization(),\n",
    "    Dropout(0.3),\n",
    "    Dense(3, activation='softmax')\n",
    "])\n",
    "opt=tf.keras.optimizers.AdamW(learning_rate=0.001,weight_decay=0.0001)\n",
    "dep_model5.compile(loss='categorical_crossentropy',\n",
    "                   optimizer=opt,\n",
    "                   metrics=['accuracy'])\n",
    "dep_model5.summary()"
   ]
  },
  {
   "cell_type": "code",
   "execution_count": null,
   "metadata": {
    "colab": {
     "base_uri": "https://localhost:8080/"
    },
    "id": "YDY-TFKh8LjG",
    "outputId": "b555cc88-31d4-4b26-c6b6-e290a432557a"
   },
   "outputs": [],
   "source": [
    "callbacks=[tf.keras.callbacks.EarlyStopping(monitor='val_loss',patience=3,restore_best_weights=True),\n",
    "           tf.keras.callbacks.ReduceLROnPlateau(monitor='val_loss', factor=0.5, patience=1, min_lr=1e-6)]\n",
    "history5=dep_model5.fit(x_train,y_train,\n",
    "                        epochs=20,\n",
    "                        validation_data=(x_test,y_test),\n",
    "                        batch_size=32,\n",
    "                        callbacks=callbacks)"
   ]
  },
  {
   "cell_type": "code",
   "execution_count": null,
   "metadata": {
    "colab": {
     "base_uri": "https://localhost:8080/",
     "height": 881
    },
    "id": "wWbVD2urFces",
    "outputId": "458ad7b5-a916-481c-dea1-3ab02cc258a7"
   },
   "outputs": [],
   "source": [
    "plot_loss_acc_curves(history5)"
   ]
  },
  {
   "cell_type": "code",
   "execution_count": null,
   "metadata": {
    "colab": {
     "base_uri": "https://localhost:8080/"
    },
    "id": "AKwkgX7tFf3o",
    "outputId": "d7461230-0ff7-4410-a6d2-caf38e7565d5"
   },
   "outputs": [],
   "source": [
    "dep_model5.evaluate(x_train,y_train),dep_model5.evaluate(x_test,y_test)"
   ]
  },
  {
   "cell_type": "code",
   "execution_count": null,
   "metadata": {
    "colab": {
     "base_uri": "https://localhost:8080/",
     "height": 587
    },
    "id": "btihVrwJFmBa",
    "outputId": "209a3c7d-b1aa-4709-e5dc-430f0f618b06"
   },
   "outputs": [],
   "source": [
    "y_test_classes=np.argmax(y_test,axis=1)\n",
    "y_pred_classes=np.argmax(dep_model5.predict(x_test),axis=1)\n",
    "cm=confusion_matrix(y_test_classes,y_pred_classes)\n",
    "class_labels=le.classes_\n",
    "plot_confusion_matrix(cm,class_labels)"
   ]
  },
  {
   "cell_type": "code",
   "execution_count": null,
   "metadata": {
    "colab": {
     "base_uri": "https://localhost:8080/"
    },
    "id": "ht2f9NHYF2Ti",
    "outputId": "9f85719c-c1ea-48d9-db68-de6118df87b5"
   },
   "outputs": [],
   "source": [
    "tweets=[\"I didn't like it \",\n",
    "        \"I was a boring movie\",\n",
    "        'What a nice girl',\n",
    "        'She is a positive girl',\n",
    "        'fucked up',\n",
    "        'you suck',\n",
    "        'I got a great feeling about this',\n",
    "        'I am beautiful',\n",
    "        'She is a woman',\n",
    "        'I am a bastard lol!',\n",
    "        'I am laughing',\n",
    "        'You are truely blessed',\n",
    "        \"I love to laugh, it's the best feeling!\",\n",
    "        'He is showing off his abs']\n",
    "for tweet in tweets:\n",
    "  predicted_sentiment = predict_sentiment(tweet, preprocessing_pipeline, tokenizer1, dep_model5)\n",
    "  print(f\"Final Predicted Sentiment: {predicted_sentiment}\")"
   ]
  },
  {
   "cell_type": "markdown",
   "metadata": {
    "id": "a4Zew_EsFVQ9"
   },
   "source": [
    "## Stacking two Bilstm layers"
   ]
  },
  {
   "cell_type": "code",
   "execution_count": null,
   "metadata": {
    "colab": {
     "base_uri": "https://localhost:8080/",
     "height": 490
    },
    "id": "-hgsBTqkFaQ9",
    "outputId": "172fbf30-7f27-4764-f8b0-07f9a6ed0ff7"
   },
   "outputs": [],
   "source": [
    "dep_model6=Sequential([\n",
    "    Embedding(input_dim=vocab_size,\n",
    "                             output_dim=100,\n",
    "                             input_length=26,\n",
    "                             weights=[loaded_embedding_matrix],\n",
    "                             trainable=True),\n",
    "    Bidirectional(LSTM(64, dropout=0.3, return_sequences=True, recurrent_dropout=0.3, kernel_regularizer=l2(0.001))),\n",
    "    Bidirectional(LSTM(32, dropout=0.3, return_sequences=False, recurrent_dropout=0.3, kernel_regularizer=l2(0.001))),\n",
    "    BatchNormalization(),\n",
    "    Dense(64, activation='relu', kernel_regularizer=l2(0.001)),\n",
    "    BatchNormalization(),\n",
    "    Dropout(0.3),\n",
    "    Dense(3, activation='softmax')\n",
    "])\n",
    "opt=tf.keras.optimizers.AdamW(learning_rate=0.001,weight_decay=0.0001)\n",
    "dep_model6.compile(loss='categorical_crossentropy',\n",
    "                   optimizer=opt,\n",
    "                   metrics=['accuracy'])\n",
    "dep_model6.summary()"
   ]
  },
  {
   "cell_type": "code",
   "execution_count": null,
   "metadata": {
    "colab": {
     "base_uri": "https://localhost:8080/"
    },
    "id": "XKiKD3iRfxae",
    "outputId": "f8bb6f1d-4494-4974-fa15-9253c2f6b23e"
   },
   "outputs": [],
   "source": [
    "callbacks=[tf.keras.callbacks.EarlyStopping(monitor='val_loss',patience=3,restore_best_weights=True),\n",
    "           tf.keras.callbacks.ReduceLROnPlateau(monitor='val_loss', factor=0.5, patience=1, min_lr=1e-6)]\n",
    "history6=dep_model6.fit(x_train,y_train,\n",
    "                        epochs=20,\n",
    "                        validation_data=(x_test,y_test),\n",
    "                        batch_size=32,\n",
    "                        callbacks=callbacks)"
   ]
  },
  {
   "cell_type": "code",
   "execution_count": null,
   "metadata": {
    "colab": {
     "base_uri": "https://localhost:8080/"
    },
    "id": "sShgU27O3f_9",
    "outputId": "65e64b4d-0e19-4943-b2b2-e6675e66be62"
   },
   "outputs": [],
   "source": [
    "dep_model6.evaluate(x_train,y_train),dep_model5.evaluate(x_test,y_test)"
   ]
  },
  {
   "cell_type": "code",
   "execution_count": null,
   "metadata": {
    "colab": {
     "base_uri": "https://localhost:8080/",
     "height": 587
    },
    "id": "frudKS233hz2",
    "outputId": "222ca9bd-542f-40f1-d6a4-04b6bb5ea228"
   },
   "outputs": [],
   "source": [
    "y_test_classes=np.argmax(y_test,axis=1)\n",
    "y_pred_classes=np.argmax(dep_model6.predict(x_test),axis=1)\n",
    "cm=confusion_matrix(y_test_classes,y_pred_classes)\n",
    "class_labels=le.classes_\n",
    "plot_confusion_matrix(cm,class_labels)"
   ]
  },
  {
   "cell_type": "code",
   "execution_count": null,
   "metadata": {
    "colab": {
     "base_uri": "https://localhost:8080/"
    },
    "id": "G3_8v4JM3iND",
    "outputId": "2212deca-bc86-4c94-83f2-87f02bb06f10"
   },
   "outputs": [],
   "source": [
    "tweets=[\"I didn't like it \",\n",
    "        \"I was a boring movie\",\n",
    "        'What a nice girl',\n",
    "        'She is a positive girl',\n",
    "        'fucked up',\n",
    "        'you suck',\n",
    "        'I got a great feeling about this',\n",
    "        'I am beautiful',\n",
    "        'She is a woman',\n",
    "        'I am a bastard lol!',\n",
    "        'Mind your language',\n",
    "        'I am laughing',\n",
    "        'You are truely blessed',\n",
    "        \"I love to laugh, it's the best feeling!\",\n",
    "        'He is showing off his abs']\n",
    "for tweet in tweets:\n",
    "  predicted_sentiment = predict_sentiment(tweet, preprocessing_pipeline, tokenizer1, dep_model6)\n",
    "  print(f\"Final Predicted Sentiment: {predicted_sentiment}\")"
   ]
  },
  {
   "cell_type": "code",
   "execution_count": null,
   "metadata": {
    "colab": {
     "base_uri": "https://localhost:8080/",
     "height": 881
    },
    "id": "BQoU8BZZ3q-_",
    "outputId": "5f4af925-5597-43b1-c3a8-3f1357d35d91"
   },
   "outputs": [],
   "source": [
    "plot_loss_acc_curves(history6)"
   ]
  },
  {
   "cell_type": "markdown",
   "metadata": {
    "id": "C1sXNIg3_6eI"
   },
   "source": [
    "## Implementing bilstm + attention"
   ]
  },
  {
   "cell_type": "code",
   "execution_count": null,
   "metadata": {
    "id": "hYbYzpmD_6UE"
   },
   "outputs": [],
   "source": [
    "from keras.layers import Attention,Layer,Input\n",
    "import tensorflow.keras.backend as K\n",
    "class AttentionLayer(Layer):\n",
    "    def __init__(self, **kwargs):\n",
    "        super(AttentionLayer, self).__init__(**kwargs)\n",
    "    def build(self,input_shape):\n",
    "      self.W=self.add_weight(name='attention_weights',\n",
    "                             shape=(input_shape[-1],1),\n",
    "                             initializer='random_normal',\n",
    "                             trainable=True,\n",
    "                             )\n",
    "      self.b=self.add_weight(name='attention_bias',\n",
    "                             shape=(1,),\n",
    "                             initializer='zeros',\n",
    "                             trainable=True)\n",
    "      super(AttentionLayer,self).build(input_shape)\n",
    "    def call(self,inputs):\n",
    "      score=K.tanh(K.dot(inputs,self.W)+self.b)\n",
    "      attention_weights=K.softmax(score,axis=1)\n",
    "      context_vector=inputs*attention_weights\n",
    "      return K.sum(context_vector,axis=1)"
   ]
  },
  {
   "cell_type": "code",
   "execution_count": null,
   "metadata": {
    "id": "3UK9pZ2mMH72"
   },
   "outputs": [],
   "source": [
    "inputs=Input(shape=(26,))\n",
    "x=Embedding(input_dim=vocab_size,\n",
    "            output_dim=100,\n",
    "            weights=[loaded_embedding_matrix],\n",
    "            trainable=True)(inputs)\n",
    "x=Bidirectional(LSTM(units=64,return_sequences=True,dropout=0.3,recurrent_dropout=0.3))(x)\n",
    "x=AttentionLayer()(x)\n",
    "x=Dropout(0.3)(x)\n",
    "x=Dense(64,activation='relu')(x)\n",
    "output=Dense(3,activation='softmax')(x)\n",
    "dep_model7=tf.keras.models.Model(inputs=inputs,outputs=output)\n",
    "\n",
    "opt=tf.keras.optimizers.AdamW(learning_rate=0.001,weight_decay=0.0001)\n",
    "dep_model7.compile(loss='categorical_crossentropy',\n",
    "              optimizer=opt,\n",
    "              metrics=['accuracy'])\n",
    "dep_model7.summary()"
   ]
  },
  {
   "cell_type": "code",
   "execution_count": null,
   "metadata": {
    "colab": {
     "base_uri": "https://localhost:8080/"
    },
    "id": "5LfljlAMPRCi",
    "outputId": "a0ef2426-64fc-4b9a-ab2d-abb7098dcba2"
   },
   "outputs": [],
   "source": [
    "callbacks=[\n",
    "    tf.keras.callbacks.EarlyStopping(monitor='val_loss',patience=3,restore_best_weights=True),\n",
    "    tf.keras.callbacks.ReduceLROnPlateau(monitor='val_loss',patience=1,factor=0.5,min_lr=1e-6)\n",
    "]\n",
    "dep_model7.fit(x_train,y_train,\n",
    "               epochs=20,\n",
    "               validation_data=(x_test,y_test),\n",
    "               batch_size=32,\n",
    "               callbacks=callbacks)"
   ]
  },
  {
   "cell_type": "code",
   "execution_count": null,
   "metadata": {
    "id": "zvlLMz3EQKm0"
   },
   "outputs": [],
   "source": [
    "dep_model7.evaluate(x_train,y_train),dep_model7.evaluate(x_test,y_test)"
   ]
  },
  {
   "cell_type": "markdown",
   "metadata": {
    "id": "e9luV90uOSgm"
   },
   "source": [
    "## Using BERT"
   ]
  },
  {
   "cell_type": "code",
   "execution_count": null,
   "metadata": {
    "colab": {
     "base_uri": "https://localhost:8080/"
    },
    "id": "sM3yVOUbz31D",
    "outputId": "570b8081-8945-463b-c685-067d3ba0e115"
   },
   "outputs": [],
   "source": [
    "!nvcc --version"
   ]
  },
  {
   "cell_type": "code",
   "execution_count": null,
   "metadata": {
    "id": "jGxedwxuP9OG"
   },
   "outputs": [],
   "source": [
    "from transformers import BertTokenizer,BertForSequenceClassification,Trainer, TrainingArguments,default_data_collator,AutoModelForSequenceClassification,AutoTokenizer,EarlyStoppingCallback\n",
    "import html\n",
    "from sklearn.preprocessing import LabelEncoder\n",
    "from sklearn.model_selection import train_test_split\n",
    "from datasets import Dataset\n",
    "from peft import LoraConfig, get_peft_model\n",
    "import torch\n",
    "from torch.utils.data import DataLoader\n",
    "from sklearn.metrics import accuracy_score, classification_report"
   ]
  },
  {
   "cell_type": "code",
   "execution_count": null,
   "metadata": {
    "colab": {
     "base_uri": "https://localhost:8080/",
     "height": 206
    },
    "id": "MYHGvFSyLwtq",
    "outputId": "76a77da2-7b69-40a1-e241-c9428aeaaa54"
   },
   "outputs": [],
   "source": [
    "csv_file = os.path.join(path, \"twitter_training.csv\")\n",
    "train_data = pd.read_csv(csv_file,header=None)\n",
    "csv_file=os.path.join(path,'twitter_validation.csv')\n",
    "test_data=pd.read_csv(csv_file,header=None)\n",
    "\n",
    "train_data.head()"
   ]
  },
  {
   "cell_type": "code",
   "execution_count": null,
   "metadata": {
    "id": "xHZv41UtMhoV"
   },
   "outputs": [],
   "source": [
    "train_data.columns=['tweet_id','state','sentiment','tweet']\n",
    "test_data.columns=['tweet_id','state','sentiment','tweet']"
   ]
  },
  {
   "cell_type": "code",
   "execution_count": null,
   "metadata": {
    "colab": {
     "base_uri": "https://localhost:8080/",
     "height": 269,
     "referenced_widgets": [
      "fe524943dff3446991c046f52abb8c3a",
      "2be8882e4d8640ccb0b06fc07db13cd6",
      "9c04d8b6b3464c4b840e83d9f2eae716",
      "f045fcffd9024e33aa33db9a17b645d5",
      "5afaaf1edb1b41e28543fb3f27e33da6",
      "da0a878afd654c55853233401f32e8ed",
      "0b757c2618564ffa84cedc51b32e2dce",
      "fb1c3543614a4d599ef96e7547ce65e1",
      "b8747e7f4e4c4719956e9aebdc41eefa",
      "e4c4bbab6f4b46c39154b25baa0b5d9a",
      "926d09adba524c03942c32f6dbceeca5",
      "16311d45020d422d9e8ebc2265d0969f",
      "967469fee8da44539fcc82be2e4224e3",
      "09d7581a8687467caa93e20becbcc901",
      "f3942f8cd0f8406ea928a1bc6dcc9477",
      "9f551c6006c24647914b71ff63818f3a",
      "055df568fb4749a2af8acee154481b44",
      "d9109fcca6e54c4780b0234bd4ba775c",
      "972f588e54364a2e9fdf6c116e3ab0b3",
      "74ada9da62564cbab7506a278431cafe",
      "bfc1db9f8af94afbbe5bc69b6943f8c6",
      "d734d523aa60451faa82eed207fb2fd0",
      "0cb78f240b15428da5b0239733eaa6e4",
      "a4a012e3311e4373ab814f9acd59e98f",
      "2eac03b818484aaabc6c81ac9558e9b1",
      "0c893c77c475422bae39403eb7aeea26",
      "df72cbc55ebe45a08be1dac2df381e98",
      "148ad2102bb943e6b91b9e85fe0632ea",
      "d7e7d470984a4c96a4e2675aabda7233",
      "2672a28b6d074a0d8309e2609accdc1d",
      "256ca334646043a2a6b8e7f4baac95eb",
      "517a4bd21b8849e687e960a1735d7943",
      "7a78a491690f48a4adbe89a57d194ab1",
      "1b5d99d6b23146fcb0b03037cac2bb6b",
      "0771e744a5dd43efb71783a818059952",
      "3cc784b17084497db8c99869b1553df7",
      "5f2390a368474e969c77ab9c8565447d",
      "511c7d696b924896b8c0058365d1328a",
      "5d2117efd3ae4e2fb8cdc73aef001afc",
      "c5775816b83c44a7a3b9ad4c2795fdb2",
      "f83bd5e6d12f4e48b6095d1ec8f31d63",
      "23fb91d9f5f345318eb929a4a3eb0e21",
      "0eb9d74710b74c79876cd328485b87a7",
      "a52eecad31724d89bccad0377e60c411"
     ]
    },
    "id": "UntJTCpgrwCM",
    "outputId": "765a3028-8e45-4604-bcf5-4e0ba501efb9"
   },
   "outputs": [],
   "source": [
    "tokenizer=BertTokenizer.from_pretrained('bert-base-uncased')"
   ]
  },
  {
   "cell_type": "code",
   "execution_count": null,
   "metadata": {
    "colab": {
     "base_uri": "https://localhost:8080/"
    },
    "id": "MGjloGrs3Rea",
    "outputId": "1b6f388e-309e-4075-db31-56ef002ff49c"
   },
   "outputs": [],
   "source": [
    "train_data1=train_data[(train_data['sentiment'] != 'Irrelevant')]\n",
    "np.unique(train_data1['sentiment'])"
   ]
  },
  {
   "cell_type": "code",
   "execution_count": null,
   "metadata": {
    "id": "TWuTYlpTZp-v"
   },
   "outputs": [],
   "source": [
    "def data_preprocessing(tweet):\n",
    "  if isinstance(tweet,str):\n",
    "    tweet=html.unescape(tweet)\n",
    "    tweet=re.sub(r'\\s+',' ',tweet).strip()\n",
    "    tweet=emoji.demojize(tweet,language='en')\n",
    "  return tweet"
   ]
  },
  {
   "cell_type": "code",
   "execution_count": null,
   "metadata": {
    "colab": {
     "base_uri": "https://localhost:8080/"
    },
    "id": "LWhMSaCViySz",
    "outputId": "3e553a70-d54c-425a-f71d-ba11f4e27d75"
   },
   "outputs": [],
   "source": [
    "train_data1['tweet_processed']=train_data1['tweet'].apply(data_preprocessing)"
   ]
  },
  {
   "cell_type": "code",
   "execution_count": null,
   "metadata": {
    "colab": {
     "base_uri": "https://localhost:8080/",
     "height": 458
    },
    "id": "6rQN4iKe056r",
    "outputId": "eadccb2e-3d8a-4823-cce1-2ea00dcca8dc"
   },
   "outputs": [],
   "source": [
    "train_data1['tweet_processed']"
   ]
  },
  {
   "cell_type": "code",
   "execution_count": null,
   "metadata": {
    "id": "NpPgMbsBsG2x"
   },
   "outputs": [],
   "source": [
    "x=list(train_data1['tweet_processed'].astype(str))\n",
    "y=list(train_data1['sentiment'])"
   ]
  },
  {
   "cell_type": "code",
   "execution_count": null,
   "metadata": {
    "id": "zBrt8Fi55ARz"
   },
   "outputs": [],
   "source": [
    "label_encoder = LabelEncoder()\n",
    "labels = label_encoder.fit_transform(y)"
   ]
  },
  {
   "cell_type": "code",
   "execution_count": null,
   "metadata": {
    "id": "8ElsLSHq9Nb0"
   },
   "outputs": [],
   "source": [
    "x_train,x_test,y_train,y_test=train_test_split(x,labels,test_size=0.2,random_state=42)"
   ]
  },
  {
   "cell_type": "code",
   "execution_count": null,
   "metadata": {
    "colab": {
     "base_uri": "https://localhost:8080/"
    },
    "id": "kJ38i6-owNse",
    "outputId": "ee9b4b33-d2df-4cbd-b402-aac9753de102"
   },
   "outputs": [],
   "source": [
    "train_encodings=tokenizer(x_train,truncation=True,padding=True,return_tensors='pt')\n",
    "train_encodings"
   ]
  },
  {
   "cell_type": "code",
   "execution_count": null,
   "metadata": {
    "colab": {
     "base_uri": "https://localhost:8080/"
    },
    "id": "SBl6jJ_O9QWq",
    "outputId": "d29f79d6-9df3-4a0b-fa55-9c7023b3c155"
   },
   "outputs": [],
   "source": [
    "test_encodings=tokenizer(x_test,truncation=True,padding=True,return_tensors='pt')\n",
    "test_encodings"
   ]
  },
  {
   "cell_type": "code",
   "execution_count": null,
   "metadata": {
    "id": "wDlYc5T29j02"
   },
   "outputs": [],
   "source": [
    "y_train_tensor = torch.tensor(y_train.tolist())\n",
    "y_test_tensor = torch.tensor(y_test.tolist())\n",
    "train_dataset = Dataset.from_dict({'input_ids': train_encodings['input_ids'],\n",
    "                                   'attention_mask': train_encodings['attention_mask'],\n",
    "                                   'labels': y_train_tensor})\n",
    "\n",
    "test_dataset = Dataset.from_dict({'input_ids': test_encodings['input_ids'],\n",
    "                                  'attention_mask': test_encodings['attention_mask'],\n",
    "                                  'labels': y_test_tensor})"
   ]
  },
  {
   "cell_type": "code",
   "execution_count": null,
   "metadata": {
    "id": "EuHCSfsAwnS1"
   },
   "outputs": [],
   "source": [
    "\"\"\"dataset = tf.data.Dataset.from_tensor_slices((\n",
    "    dict(encodings),\n",
    "    labels\n",
    "))\n",
    "batch_size=16\n",
    "train_dataset=dataset.shuffle(len(x)).batch(batch_size)\"\"\""
   ]
  },
  {
   "cell_type": "code",
   "execution_count": null,
   "metadata": {
    "id": "YpR4SxjsyOmi"
   },
   "outputs": [],
   "source": [
    "\"\"\"from torch.utils.data import Dataset\n",
    "import torch\n",
    "\n",
    "class TweetDataset(Dataset):\n",
    "    def __init__(self, encodings, labels):\n",
    "        self.encodings = encodings\n",
    "        self.labels = labels\n",
    "\n",
    "    def __getitem__(self, idx):\n",
    "        item = {key: torch.tensor(val[idx]) for key, val in self.encodings.items()}\n",
    "        item['labels'] = torch.tensor(self.labels[idx])\n",
    "\n",
    "        return item\n",
    "\n",
    "    def __len__(self):\n",
    "        return len(self.labels)\"\"\"\n"
   ]
  },
  {
   "cell_type": "code",
   "execution_count": null,
   "metadata": {
    "id": "L1x4rj-sydzC"
   },
   "outputs": [],
   "source": [
    "\"\"\"train_dataset=TweetDataset(train_encodings,labels)\"\"\""
   ]
  },
  {
   "cell_type": "code",
   "execution_count": null,
   "metadata": {
    "colab": {
     "base_uri": "https://localhost:8080/",
     "height": 156,
     "referenced_widgets": [
      "9af90131889d488d8f0874a14a158754",
      "054c75dc82ee45a696c5cd44070a6d23",
      "562190e44d0443299c2aaa89ffd88903",
      "c6acd761dd9e40ee9402792ac2431008",
      "1e1becac052a4575994a8463cdd3a30d",
      "dce0bda21748471f88f13e7241b53a62",
      "68ad83b7dd5b4a8daed828ad668279a8",
      "4f671ccc73f94e689c93bc374e75c0fd",
      "d670dc7fb81f4edf8326e9b36f099fcd",
      "3e852ed9ef8b4c45ac733a3d326ce58a",
      "8cca0fc0246244288941d9b317be7fce"
     ]
    },
    "id": "M3mXRwRSvBSG",
    "outputId": "977e84bd-d99f-4e06-a6c3-d053bbb2e446"
   },
   "outputs": [],
   "source": [
    "model=BertForSequenceClassification.from_pretrained('bert-base-uncased',num_labels=3)\n",
    "lora_config=LoraConfig(\n",
    "    r=8,\n",
    "    lora_alpha=32,\n",
    "    target_modules=['query','key','value'],\n",
    "    lora_dropout=0.1,\n",
    "    bias='none',\n",
    "    task_type='SEQ_CLS'\n",
    ")\n",
    "\n",
    "model=get_peft_model(model,lora_config)\n",
    "model.print_trainable_parameters()"
   ]
  },
  {
   "cell_type": "code",
   "execution_count": null,
   "metadata": {
    "id": "jgIvk09TaGSt"
   },
   "outputs": [],
   "source": [
    "class CustomTrainer(Trainer):\n",
    "    def get_train_dataloader(self,train_dataset=None):\n",
    "        return train_dataloader\n",
    "\n",
    "    def get_eval_dataloader(self,eval_dataset=None):\n",
    "        return eval_dataloader"
   ]
  },
  {
   "cell_type": "code",
   "execution_count": null,
   "metadata": {
    "id": "4O2M-YJMc8zy"
   },
   "outputs": [],
   "source": [
    "def compute_metrics(eval_pred):\n",
    "      logits, labels = eval_pred\n",
    "      preds = np.argmax(logits, axis=1)\n",
    "      acc = accuracy_score(labels, preds)\n",
    "      return {\"accuracy\": acc}"
   ]
  },
  {
   "cell_type": "code",
   "execution_count": null,
   "metadata": {
    "id": "UED-1nCQewwk"
   },
   "outputs": [],
   "source": [
    "def predict_sentiment_hf(tweet_text, tokenizer, model):\n",
    "    inputs = tokenizer(tweet_text, return_tensors=\"pt\", truncation=True, padding=True)\n",
    "    inputs = {k: v.to(model.device) for k, v in inputs.items() if k != \"token_type_ids\"}  # Remove token_type_ids for DistilBERT\n",
    "    model.eval()\n",
    "\n",
    "    with torch.no_grad():\n",
    "        outputs = model(**inputs)\n",
    "        logits = outputs.logits\n",
    "        probs = torch.softmax(logits, dim=1).cpu().numpy()\n",
    "\n",
    "    labels = [\"Negative\", \"Neutral\", \"Positive\"]\n",
    "    predicted = labels[np.argmax(probs)]\n",
    "\n",
    "    print(f\"Tweet: {tweet_text}\")\n",
    "    print(f\"Probabilities: {probs}\")\n",
    "    print(f\"Predicted Sentiment: {predicted}\")"
   ]
  },
  {
   "cell_type": "code",
   "execution_count": null,
   "metadata": {
    "colab": {
     "base_uri": "https://localhost:8080/",
     "height": 304
    },
    "id": "vJYJf8GfxTIh",
    "outputId": "9f3e35dd-76a3-423c-9727-59182111c487"
   },
   "outputs": [],
   "source": [
    "train_dataloader = DataLoader(\n",
    "    train_dataset, batch_size=8, num_workers=2, collate_fn=default_data_collator\n",
    ")\n",
    "\n",
    "eval_dataloader = DataLoader(\n",
    "    test_dataset, batch_size=8, num_workers=2, collate_fn=default_data_collator\n",
    ")\n",
    "\n",
    "\n",
    "training_args = TrainingArguments(\n",
    "    output_dir=\"./results\",\n",
    "    per_device_train_batch_size=8,\n",
    "    gradient_accumulation_steps=2,\n",
    "    warmup_steps=100,\n",
    "    num_train_epochs=5,\n",
    "    logging_dir=\"./logs\",\n",
    "    learning_rate=2e-5,\n",
    "    report_to=\"none\",\n",
    "    fp16=True,\n",
    "    logging_strategy='epoch',\n",
    "    eval_strategy='epoch',\n",
    "    save_strategy='epoch',\n",
    "    dataloader_num_workers=2,\n",
    "\n",
    ")\n",
    "\n",
    "trainer = CustomTrainer(\n",
    "    model=model,\n",
    "    args=training_args,\n",
    "    train_dataset=train_dataset,\n",
    "    eval_dataset=test_dataset,\n",
    "    data_collator=default_data_collator,\n",
    "    compute_metrics=compute_metrics,\n",
    ")\n",
    "\n",
    "trainer.train()"
   ]
  },
  {
   "cell_type": "code",
   "execution_count": null,
   "metadata": {
    "colab": {
     "base_uri": "https://localhost:8080/"
    },
    "id": "dT2jsoNjgPfv",
    "outputId": "43debab0-cf67-4b57-a52d-65794d535224"
   },
   "outputs": [],
   "source": [
    "trainer.save_model(\"/content/MyDrive/MyDrive/twitter_sentiment_analysis/bert_model\")\n",
    "tokenizer.save_pretrained(\"/content/MyDrive/MyDrive/twitter_sentiment_analysis/bert_tokenizer\")"
   ]
  },
  {
   "cell_type": "code",
   "execution_count": null,
   "metadata": {
    "colab": {
     "base_uri": "https://localhost:8080/",
     "height": 170,
     "referenced_widgets": [
      "e1c9221ad20d439382eeb17a20ef8041",
      "fbc6cf095e1948769560ca0c12b3857e",
      "d86039ee030a4db4851297bfb87812de",
      "632784898709438fb1cb4b410fa8c2b6",
      "21cc3beb739f444db8407d8240e54bf7",
      "9249fcbe9f3d49c0a0735a89c67b61be",
      "ed84e711cd5d45f2ac790018c41866b9",
      "697624538e394ef28476ab689d11ded9",
      "abb6f235e02a4e94bf4148ee0f2119ef",
      "435180c4bbe94927bb409e320ce3f55a",
      "635511e0909e4bb5ae4ba06aae416f68",
      "a767d94583ab4fc299859f595125b690",
      "9b7b734c4c984b40a49cde384e647fcb",
      "cb38196350264dca8b3c5b30e6bc770d",
      "fa6e51b6af7a46b592e599ff2a0d759c",
      "ba2a31dfa2604f3ab8520e10b751c0ae",
      "b1468e3f33e143ddb9675a590f8c8d81",
      "fd1972e82ae94190bed1c80ec1824e70",
      "bb3c8e0619694b418339adf8c9efce04",
      "f0fc6c2452404865a32efb23f2f94c25",
      "0ed493fbac9a49e3ae009245ff47104f",
      "73a56e43dc1b49579479a38434142427"
     ]
    },
    "id": "zple1SfKhIAU",
    "outputId": "7468ba84-87c1-4142-e05f-eb054d1f6618"
   },
   "outputs": [],
   "source": [
    "loaded_tokenizer = BertTokenizer.from_pretrained('/content/MyDrive/MyDrive/twitter_sentiment_analysis/bert_tokenizer')\n",
    "\n",
    "loaded_model = BertForSequenceClassification.from_pretrained(\n",
    "    '/content/MyDrive/MyDrive/twitter_sentiment_analysis/bert_model',\n",
    "    num_labels=3,\n",
    "    ignore_mismatched_sizes=True\n",
    ")"
   ]
  },
  {
   "cell_type": "code",
   "execution_count": null,
   "metadata": {
    "colab": {
     "base_uri": "https://localhost:8080/",
     "height": 124
    },
    "id": "JnLBmhbpS4KE",
    "outputId": "5fff393f-0884-487b-dafa-e172924dae6e"
   },
   "outputs": [],
   "source": [
    "results=trainer.evaluate()\n",
    "results"
   ]
  },
  {
   "cell_type": "code",
   "execution_count": null,
   "metadata": {
    "colab": {
     "base_uri": "https://localhost:8080/"
    },
    "id": "S50jCfLOe30U",
    "outputId": "163f7a19-5e44-4019-a1e4-d2f10471669b"
   },
   "outputs": [],
   "source": [
    "import numpy as np\n",
    "tweets=[\"I didn't like it \",\n",
    "        \"It was a boring movie\",\n",
    "        'What a nice girl',\n",
    "        'She is a positive girl',\n",
    "        'fucked up',\n",
    "        'you suck',\n",
    "        'I got a great feeling about this',\n",
    "        'I am beautiful',\n",
    "        'She is a woman',\n",
    "        'I am a bastard lol!',\n",
    "        'Mind your language',\n",
    "        'That was hillerious',\n",
    "        'I am laughing',\n",
    "        'I am going to kerala today',\n",
    "        'You are truely blessed',\n",
    "        \"I love to laugh, it's the best feeling!\",\n",
    "        'He is showing off his abs',\n",
    "        \"what I'm saying is that you are literally the Monday of my life.\",\n",
    "        \"Life's good, you should get one.\"]\n",
    "for tweet in tweets:\n",
    "  predict_sentiment_hf(tweet, loaded_tokenizer, loaded_model)\n",
    "  print('\\n')"
   ]
  },
  {
   "cell_type": "code",
   "execution_count": null,
   "metadata": {
    "colab": {
     "base_uri": "https://localhost:8080/"
    },
    "id": "MhW_RPoT23Gk",
    "outputId": "f2578a19-3124-4772-f562-3b173ae1fe60"
   },
   "outputs": [],
   "source": [
    "model.eval()\n",
    "preds = []\n",
    "true_labels = []\n",
    "\n",
    "with torch.no_grad():\n",
    "    for batch in eval_dataloader:\n",
    "        input_ids = batch['input_ids'].to(model.device)\n",
    "        attention_mask = batch['attention_mask'].to(model.device)\n",
    "        labels = batch['labels'].to(model.device)\n",
    "\n",
    "        outputs = model(input_ids=input_ids, attention_mask=attention_mask)\n",
    "        logits = outputs.logits\n",
    "        predictions = torch.argmax(logits, dim=-1)\n",
    "\n",
    "        preds.extend(predictions.cpu().numpy())\n",
    "        true_labels.extend(labels.cpu().numpy())\n",
    "\n",
    "accuracy = accuracy_score(true_labels, preds)\n",
    "report = classification_report(true_labels, preds)\n",
    "\n",
    "print(\"Accuracy:\", accuracy)\n",
    "print(\"Classification Report:\\n\", report)\n"
   ]
  },
  {
   "cell_type": "code",
   "execution_count": null,
   "metadata": {
    "id": "LTiHBTJpa1il"
   },
   "outputs": [],
   "source": [
    "def predict_sentiment_hf(tweet_text, tokenizer, model):\n",
    "    inputs = tokenizer(tweet_text, return_tensors=\"pt\", truncation=True, padding=True)\n",
    "    inputs = {k: v.to(model.device) for k, v in inputs.items()}\n",
    "    model.eval()\n",
    "\n",
    "    with torch.no_grad():\n",
    "        outputs = model(**inputs)\n",
    "        logits = outputs.logits\n",
    "        probs = torch.softmax(logits, dim=1).cpu().numpy()\n",
    "\n",
    "    labels = [\"Negative\", \"Neutral\", \"Positive\"]\n",
    "    predicted = labels[np.argmax(probs)]\n",
    "\n",
    "    print(f\"Tweet: {tweet_text}\")\n",
    "    print(f\"Probabilities: {probs}\")\n",
    "    print(f\"Predicted Sentiment: {predicted}\")"
   ]
  },
  {
   "cell_type": "code",
   "execution_count": null,
   "metadata": {
    "id": "JdLlqHaQd_t0"
   },
   "outputs": [],
   "source": [
    "import tweepy\n",
    "\n",
    "api_key = '<api-key>'\n",
    "api_key_secret = '<api-secret-key>'\n",
    "bearer_token = '<bearer_token>'\n",
    "\n",
    "client = tweepy.Client(bearer_token=bearer_token)\n",
    "\n",
    "query = 'AI OR machine learning -is:retweet lang:en'\n",
    "tweets = client.search_recent_tweets(\n",
    "    query=query,\n",
    "    max_results=10,\n",
    "    tweet_fields=[\"lang\"]\n",
    ")"
   ]
  },
  {
   "cell_type": "code",
   "execution_count": null,
   "metadata": {
    "colab": {
     "base_uri": "https://localhost:8080/"
    },
    "id": "FCZdKBGk1uA5",
    "outputId": "e60332c7-d61b-4a0e-d079-e6320ebab071"
   },
   "outputs": [],
   "source": [
    "for tweet in tweets.data:\n",
    "    if tweet.lang == \"en\":\n",
    "        print(tweet.text)"
   ]
  },
  {
   "cell_type": "code",
   "execution_count": null,
   "metadata": {
    "colab": {
     "base_uri": "https://localhost:8080/"
    },
    "id": "nr-rYE9xs5ST",
    "outputId": "a703dc3c-f2c1-476f-cae9-8ab094d2978e"
   },
   "outputs": [],
   "source": [
    "for tweet in tweets.data:\n",
    "    if tweet.lang == \"en\":\n",
    "        text = tweet.text\n",
    "        predict_sentiment_hf(text, tokenizer, model)\n",
    "        print('\\n')"
   ]
  },
  {
   "cell_type": "markdown",
   "metadata": {
    "id": "XBcryFgBzXrs"
   },
   "source": [
    "## DistilBert"
   ]
  },
  {
   "cell_type": "code",
   "execution_count": null,
   "metadata": {
    "colab": {
     "base_uri": "https://localhost:8080/",
     "height": 266,
     "referenced_widgets": [
      "925820fb37cd40bbbe9a1d9af825a026",
      "bc213134c18147199427bca64f2e7121",
      "33a7a231dfa6492cbb2b09ed5b7afce4",
      "327f43c3422d480285499e663617fa8c",
      "9b2f39fbda4a4fc2858dc9f584c765b3",
      "000a2bf1ca9c4c359bf176915ec8a0f4",
      "7b45926cb59c45059cec69404179fb33",
      "3dcdb2345d7746e08fb16e4fd70110b8",
      "27e59e65ad5f47a2859b16f2fe4ed973",
      "905be83c826f459982307054e50da139",
      "9c6deea58d83461d878a008dbaf013c3",
      "781dfad7937740389bbd19bfd7932357",
      "ae8f56736e0149e184cdb3278694a0b2",
      "5975f40d336c434f834e4a81fce20e18",
      "549184666a82486f90da1d3592b03d5c",
      "14895266fbf849159c5dc2ae17221319",
      "f1e4b0b7ac48460da09f859ca201d3c7",
      "42abac64ffd24dfdaa9970396f8c9341",
      "a01f6df227394e15b0e56ec0ad1ad954",
      "a067a48336b342f7a1e91337af08d5e2",
      "323605bcc56d47f9a8a3b986c030afb3",
      "796743d110da41d2bd45443c0e86eab2",
      "366719f4cdd54396967ae34d2a73bb37",
      "55795bf3434746f9855f62332dba7854",
      "630a25f829814da295829a89232af300",
      "5a7cc19efb0e4cb4bf1de47bd6487a70",
      "a009512cc6e24b899f26b6afa07db041",
      "4d8b471d99114104a069b63649f14be0",
      "1c87ff694f5a46be820c4a7902c30fad",
      "17d2addf7ccd4cd2812065b94f4022b6",
      "1c4ed11de0b6442f94832973db8423af",
      "f4865f1eb5d041c39b3ee25bfc7324ab",
      "7092802e0e4b4924ba49c9c546c13f95",
      "ae6f87445cc44e079dfee0a484e7c03d",
      "a17119e5a551486b8c793eea6922833d",
      "a045f6e753e84b2898774880115f4aba",
      "479430ba95674011b9bc0853cadb8ada",
      "68300b53ac1b46ac8208577e64ef207d",
      "434486c96d854a75829a5f996ae8a9e6",
      "30656c81626e41b1b6992ce89c260c19",
      "018b353ddaee49dbac7da0dd33690137",
      "06c2db7c9ddc4a4b8665e43bfc3bc25f",
      "02c843f228fa4606bfe8aca02d804f7b",
      "1b54e38963c84979ad2c3a5094010e00",
      "3489572e8efa4d6697342fae4cac433a",
      "c43c2abd676a4d639670962e97e86448",
      "b89291cc4f9b40b787fdea857459b834",
      "72fd8354b8b34b558eaee5bdc6e94bab",
      "7e4c1afa28884596856bd17b481f463d",
      "6e369e28553046a19ebb2eda93571942",
      "c454bbf318514f1289b49791af6c4e83",
      "5d155f8b6bda4be9a01b5ea4c96f5e52",
      "3a0b957531284e3097e07194f636d8ff",
      "f96e67d9ef4f4f72bfe6c739bbd64822",
      "013bc9447913496e830c783ba450706a"
     ]
    },
    "id": "--SE6INSfO3j",
    "outputId": "13753e44-e69b-41f1-9b0b-6f54213862df"
   },
   "outputs": [],
   "source": [
    "tokenizer1 = AutoTokenizer.from_pretrained('distilbert-base-uncased')\n",
    "model1 = AutoModelForSequenceClassification.from_pretrained('distilbert-base-uncased', num_labels=3)"
   ]
  },
  {
   "cell_type": "code",
   "execution_count": null,
   "metadata": {
    "colab": {
     "base_uri": "https://localhost:8080/"
    },
    "id": "g8o1iypezgQT",
    "outputId": "d691fb0a-af1a-4c06-b9a1-62805131098b"
   },
   "outputs": [],
   "source": [
    "train_encodings=tokenizer1(x_train,truncation=True,padding=True,return_tensors='pt')\n",
    "test_encodings=tokenizer1(x_test,truncation=True,padding=True,return_tensors='pt')\n",
    "train_encodings"
   ]
  },
  {
   "cell_type": "code",
   "execution_count": null,
   "metadata": {
    "id": "u8CYrb215fdx"
   },
   "outputs": [],
   "source": [
    "y_train_tensor = torch.tensor(y_train.tolist())\n",
    "y_test_tensor = torch.tensor(y_test.tolist())\n",
    "\n",
    "train_dataset=Dataset.from_dict({'input_ids':train_encodings['input_ids'],\n",
    "                                 'attention_mask':train_encodings['attention_mask'],\n",
    "                                 'labels':y_train_tensor})\n",
    "test_dataset=Dataset.from_dict({'input_ids':test_encodings['input_ids'],\n",
    "                                'attention_mask':test_encodings['attention_mask'],\n",
    "                                'labels':y_test_tensor})"
   ]
  },
  {
   "cell_type": "code",
   "execution_count": null,
   "metadata": {
    "colab": {
     "base_uri": "https://localhost:8080/"
    },
    "id": "wQJ4gGr71JVb",
    "outputId": "10158b4c-36bc-48a5-d6bb-7174153e3564"
   },
   "outputs": [],
   "source": [
    "lora_config=LoraConfig(\n",
    "    r=8,\n",
    "    lora_alpha=32,\n",
    "    target_modules = ['q_lin', 'k_lin', 'v_lin'],\n",
    "    lora_dropout=0.1,\n",
    "    bias='none',\n",
    "    task_type='SEQ_CLS'\n",
    ")\n",
    "\n",
    "model=get_peft_model(model1,lora_config)\n",
    "model.print_trainable_parameters()"
   ]
  },
  {
   "cell_type": "code",
   "execution_count": null,
   "metadata": {
    "colab": {
     "base_uri": "https://localhost:8080/"
    },
    "id": "uLYXOHLyM3I5",
    "outputId": "849720c8-9141-4358-fab2-4a5aafb5a409"
   },
   "outputs": [],
   "source": [
    "print(\"CUDA:\", torch.cuda.is_available())\n",
    "print(\"GPU:\", torch.cuda.get_device_name(0))\n",
    "print(\"TF32 supported:\", torch.backends.cuda.matmul.allow_tf32)"
   ]
  },
  {
   "cell_type": "code",
   "execution_count": null,
   "metadata": {
    "colab": {
     "base_uri": "https://localhost:8080/",
     "height": 423
    },
    "id": "-I3UTFDo1kP_",
    "outputId": "828db37d-728e-464a-ab23-f4d5cda3a1a6"
   },
   "outputs": [],
   "source": [
    "train_dataloader = DataLoader(\n",
    "    train_dataset, batch_size=8, num_workers=2, collate_fn=default_data_collator\n",
    ")\n",
    "\n",
    "eval_dataloader = DataLoader(\n",
    "    test_dataset, batch_size=8, num_workers=2, collate_fn=default_data_collator\n",
    ")\n",
    "\n",
    "\n",
    "training_args = TrainingArguments(\n",
    "    output_dir=\"./results\",\n",
    "    per_device_train_batch_size=8,\n",
    "    gradient_accumulation_steps=2,\n",
    "    warmup_steps=100,\n",
    "    num_train_epochs=10,\n",
    "    logging_dir=\"./logs\",\n",
    "    learning_rate=2e-5,\n",
    "    report_to=\"none\",\n",
    "    fp16=True,\n",
    "    logging_strategy='epoch',\n",
    "    eval_strategy='epoch',\n",
    "    save_strategy='epoch',\n",
    "    load_best_model_at_end=True,\n",
    "    metric_for_best_model='eval_loss',\n",
    "    dataloader_num_workers=2,\n",
    ")\n",
    "\n",
    "trainer = CustomTrainer(\n",
    "    model=model1,\n",
    "    args=training_args,\n",
    "    train_dataset=train_dataset,\n",
    "    eval_dataset=test_dataset,\n",
    "    data_collator=default_data_collator,\n",
    "    compute_metrics=compute_metrics,\n",
    "    callbacks=[EarlyStoppingCallback(early_stopping_patience=2)]\n",
    ")\n",
    "\n",
    "trainer.train()"
   ]
  },
  {
   "cell_type": "code",
   "execution_count": null,
   "metadata": {
    "colab": {
     "base_uri": "https://localhost:8080/",
     "height": 141
    },
    "id": "8aVew_tQ7-Gz",
    "outputId": "fdc04ccb-c14b-474c-c3c8-3d00334a5f18"
   },
   "outputs": [],
   "source": [
    "results=trainer.evaluate()\n",
    "results"
   ]
  },
  {
   "cell_type": "code",
   "execution_count": null,
   "metadata": {
    "colab": {
     "base_uri": "https://localhost:8080/",
     "height": 92
    },
    "id": "cIyHt0pC-45g",
    "outputId": "8926f3c5-98a2-4e72-f852-af9e671440c7"
   },
   "outputs": [],
   "source": [
    "train_metrics = trainer.evaluate(eval_dataset=train_dataset)\n",
    "print(\"Train:\", train_metrics)\n",
    "\n",
    "val_metrics = trainer.evaluate(eval_dataset=test_dataset)\n",
    "print(\"Validation:\", val_metrics)\n"
   ]
  },
  {
   "cell_type": "code",
   "execution_count": null,
   "metadata": {
    "id": "XWkB7rgZ1u6k"
   },
   "outputs": [],
   "source": [
    "trainer.save_model(\"/content/MyDrive/MyDrive/twitter_sentiment_analysis/distilbert_model\")\n",
    "tokenizer.save_pretrained(\"/content/MyDrive/MyDrive/twitter_sentiment_analysis/distilbert_tokenizer\")"
   ]
  },
  {
   "cell_type": "code",
   "execution_count": null,
   "metadata": {
    "colab": {
     "base_uri": "https://localhost:8080/"
    },
    "id": "VXxuj7F0PpQY",
    "outputId": "24f86d4a-b217-4ea0-c561-f8a4fe5efa13"
   },
   "outputs": [],
   "source": [
    "loaded_tokenizer1=AutoTokenizer.from_pretrained('/content/MyDrive/MyDrive/twitter_sentiment_analysis/distilbert_tokenizer')\n",
    "loaded_model1=AutoModelForSequenceClassification.from_pretrained('/content/MyDrive/MyDrive/twitter_sentiment_analysis/distilbert_model',num_labels=3)"
   ]
  },
  {
   "cell_type": "code",
   "execution_count": null,
   "metadata": {
    "id": "4ZfZaD5Gz209"
   },
   "outputs": [],
   "source": [
    "def predict_sentiment_hf(tweet_text, tokenizer, model):\n",
    "    inputs = tokenizer(tweet_text, return_tensors=\"pt\", truncation=True, padding=True)\n",
    "    inputs = {k: v.to(model.device) for k, v in inputs.items() if k != \"token_type_ids\"}  # Remove token_type_ids for DistilBERT\n",
    "    model.eval()\n",
    "\n",
    "    with torch.no_grad():\n",
    "        outputs = model(**inputs)\n",
    "        logits = outputs.logits\n",
    "        probs = torch.softmax(logits, dim=1).cpu().numpy()\n",
    "\n",
    "    labels = [\"Negative\", \"Neutral\", \"Positive\"]\n",
    "    predicted = labels[np.argmax(probs)]\n",
    "\n",
    "    print(f\"Tweet: {tweet_text}\")\n",
    "    print(f\"Probabilities: {probs}\")\n",
    "    print(f\"Predicted Sentiment: {predicted}\")\n"
   ]
  },
  {
   "cell_type": "code",
   "execution_count": null,
   "metadata": {
    "colab": {
     "base_uri": "https://localhost:8080/"
    },
    "id": "77YfwXYQ2Y-X",
    "outputId": "7ff1d790-0a3b-450e-ae4a-2c92fc34e501"
   },
   "outputs": [],
   "source": [
    "tweets=[\"I didn't like it \",\n",
    "        \"I was a boring movie\",\n",
    "        'What a nice girl',\n",
    "        'She is a positive girl',\n",
    "        'fucked up',\n",
    "        'you suck',\n",
    "        'I got a great feeling about this',\n",
    "        'I am beautiful',\n",
    "        'She is a woman',\n",
    "        'I am a bastard lol!',\n",
    "        'Mind your language',\n",
    "        'That was hillerious',\n",
    "        'I am laughing',\n",
    "        'I am going to kerala today',\n",
    "        'You are truely blessed',\n",
    "        \"I love to laugh, it's the best feeling!\",\n",
    "        'He is showing off his abs',\n",
    "        \"what I'm saying is that you are literally the Monday of my life.\",\n",
    "        \"Life's good, you should get one.\"]\n",
    "for tweet in tweets:\n",
    "  predict_sentiment_hf(tweet, tokenizer1, model1)\n",
    "  print('\\n')"
   ]
  },
  {
   "cell_type": "code",
   "execution_count": null,
   "metadata": {
    "colab": {
     "base_uri": "https://localhost:8080/"
    },
    "id": "yzEugoHDFFyI",
    "outputId": "bc1d5334-934e-480f-ae7b-07d31d0462e6"
   },
   "outputs": [],
   "source": [
    "for tweet in tweets.data:\n",
    "    if tweet.lang == \"en\":\n",
    "        text = tweet.text\n",
    "        predict_sentiment_hf(text, tokenizer, model1)\n",
    "        print('\\n')"
   ]
  },
  {
   "cell_type": "markdown",
   "metadata": {
    "id": "0bdmPS3XbCF0"
   },
   "source": [
    "## RoBERTa"
   ]
  },
  {
   "cell_type": "code",
   "execution_count": null,
   "metadata": {
    "colab": {
     "base_uri": "https://localhost:8080/"
    },
    "id": "z3_px0rc1XdX",
    "outputId": "3612eb99-748b-4ee6-e763-4f7303ef83d8"
   },
   "outputs": [],
   "source": [
    "tokenizer2=AutoTokenizer.from_pretrained('roberta-base')\n",
    "model2=AutoModelForSequenceClassification.from_pretrained('roberta-base',num_labels=3)"
   ]
  },
  {
   "cell_type": "code",
   "execution_count": null,
   "metadata": {
    "id": "V96m08iTe_dL"
   },
   "outputs": [],
   "source": [
    "from sklearn.model_selection import train_test_split\n",
    "x_train,x_test,y_train,y_test=train_test_split(x,labels,test_size=0.2,random_state=42)"
   ]
  },
  {
   "cell_type": "code",
   "execution_count": null,
   "metadata": {
    "id": "NUa1bwSkbdZA"
   },
   "outputs": [],
   "source": [
    "train_tokenizer2=tokenizer2(x_train,truncation=True,padding=True,return_tensors='pt')\n",
    "test_tokenizer2=tokenizer2(x_test,truncation=True,padding=True,return_tensors='pt')"
   ]
  },
  {
   "cell_type": "code",
   "execution_count": null,
   "metadata": {
    "id": "ROEizSX_ejhq"
   },
   "outputs": [],
   "source": [
    "train_dataset=Dataset.from_dict({'input_ids':train_tokenizer2['input_ids'],\n",
    "                                 'attention_mask':train_tokenizer2['attention_mask'],\n",
    "                                 'label':y_train_tensor})\n",
    "test_dataset=Dataset.from_dict({'input_ids':test_tokenizer2['input_ids'],\n",
    "                                'attention_mask':test_tokenizer2['attention_mask'],\n",
    "                                'label':y_test_tensor})"
   ]
  },
  {
   "cell_type": "code",
   "execution_count": null,
   "metadata": {
    "colab": {
     "base_uri": "https://localhost:8080/"
    },
    "id": "8PbYtL5YfOJU",
    "outputId": "bb06c67c-584e-4e12-be02-316b9e08c747"
   },
   "outputs": [],
   "source": [
    "lora_config=LoraConfig(\n",
    "    r=8,\n",
    "    lora_alpha=32,\n",
    "    target_modules = ['query', 'key', 'value'],\n",
    "    lora_dropout=0.1,\n",
    "    bias='none',\n",
    "    task_type='SEQ_CLS'\n",
    ")\n",
    "\n",
    "model2=get_peft_model(model2,lora_config)\n",
    "model2.print_trainable_parameters()"
   ]
  },
  {
   "cell_type": "code",
   "execution_count": null,
   "metadata": {
    "colab": {
     "base_uri": "https://localhost:8080/",
     "height": 461
    },
    "id": "Fjgj_V3Gf0uM",
    "outputId": "5aa6333d-5570-45f6-9ade-8cb5d4998bd3"
   },
   "outputs": [],
   "source": [
    "train_dataloader = DataLoader(\n",
    "    train_dataset, batch_size=8, num_workers=2, collate_fn=default_data_collator\n",
    ")\n",
    "\n",
    "eval_dataloader = DataLoader(\n",
    "    test_dataset, batch_size=8, num_workers=2, collate_fn=default_data_collator\n",
    ")\n",
    "\n",
    "\n",
    "training_args = TrainingArguments(\n",
    "    output_dir=\"./results\",\n",
    "    per_device_train_batch_size=8,\n",
    "    gradient_accumulation_steps=2,\n",
    "    warmup_steps=100,\n",
    "    num_train_epochs=10,\n",
    "    logging_dir=\"./logs\",\n",
    "    learning_rate=2e-5,\n",
    "    report_to=\"none\",\n",
    "    fp16=True,\n",
    "    logging_strategy='epoch',\n",
    "    eval_strategy='epoch',\n",
    "    save_strategy='epoch',\n",
    "    load_best_model_at_end=True,\n",
    "    metric_for_best_model='eval_loss',\n",
    "    dataloader_num_workers=2,\n",
    ")\n",
    "\n",
    "trainer = CustomTrainer(\n",
    "    model=model2,\n",
    "    args=training_args,\n",
    "    train_dataset=train_dataset,\n",
    "    eval_dataset=test_dataset,\n",
    "    data_collator=default_data_collator,\n",
    "    compute_metrics=compute_metrics,\n",
    "    callbacks=[EarlyStoppingCallback(early_stopping_patience=2)]\n",
    ")\n",
    "\n",
    "trainer.train()"
   ]
  },
  {
   "cell_type": "code",
   "execution_count": null,
   "metadata": {
    "colab": {
     "base_uri": "https://localhost:8080/"
    },
    "id": "DNNOzV0ljfS_",
    "outputId": "4c8b3515-d96a-4230-898a-64529076b28e"
   },
   "outputs": [],
   "source": [
    "trainer.save_model(\"/content/MyDrive/MyDrive/twitter_sentiment_analysis/roberta_model\")\n",
    "tokenizer2.save_pretrained(\"/content/MyDrive/MyDrive/twitter_sentiment_analysis/roberta_tokenizer\")"
   ]
  },
  {
   "cell_type": "code",
   "execution_count": null,
   "metadata": {
    "colab": {
     "base_uri": "https://localhost:8080/",
     "height": 54
    },
    "id": "sDCrtAzAhYSN",
    "outputId": "906d5e62-1c93-461e-d352-e1d763830f15"
   },
   "outputs": [],
   "source": [
    "results = trainer.evaluate(eval_dataset=test_dataset)\n",
    "print(results)"
   ]
  },
  {
   "cell_type": "code",
   "execution_count": null,
   "metadata": {
    "colab": {
     "base_uri": "https://localhost:8080/",
     "height": 188,
     "referenced_widgets": [
      "f161c0b7a70d4b2fb3d2500b03c79240",
      "2702819bc9ac45f8b758861a74a1bdf6",
      "a7e323bd6d9a44679f806ad857d088d4",
      "0bf965ebcc2244cc80938c2fde0f9fdf",
      "4c47fb5afa16445f9eb9b52f99e0a802",
      "652b88f7efcf4091b9663ac6094db87a",
      "b0439106a17542ed8718260327455976",
      "844f1191f1d44eeaab9ece0d2bc1eaae",
      "8472019920e64181b54135df4c172b74",
      "d668d0f753c04f88ad439d372d9f7853",
      "f8f904f64b2940cca9898f928a1298e6",
      "7b71cb2ea5e74e15b2ea0c89fe766cae",
      "fa0d3d1f0475473eb8ad8d45d0aa7f43",
      "ce04540a67d049efb2106df8f34e0e42",
      "4ccd03f0fcac48fca522ce30504499e8",
      "1dbb64778fec4544895ab718ec0e6dd2",
      "c6afe2a41bcf4b2494a612093ddfa044",
      "f19c97de33f54e778bd4b1fd18cecd65",
      "0414c68cf9674cb0a71b74fb3dfd3c5c",
      "9854334c0e8c479ca9dd1161f18cd179",
      "3bf3682a316244728dec3dabfaf4c222",
      "a8f27d9079e4476783775b395dd191d5"
     ]
    },
    "id": "Uk9-26RKXKPv",
    "outputId": "a90a5836-08af-4fe0-d6f5-5a3e3dd6fc51"
   },
   "outputs": [],
   "source": [
    "loaded_tokenizer=AutoTokenizer.from_pretrained('/content/MyDrive/MyDrive/twitter_sentiment_analysis/roberta_tokenizer')\n",
    "loaded_model=AutoModelForSequenceClassification.from_pretrained('/content/MyDrive/MyDrive/twitter_sentiment_analysis/roberta_model',num_labels=3)"
   ]
  },
  {
   "cell_type": "code",
   "execution_count": null,
   "metadata": {
    "id": "vpDhJWZWX4pB"
   },
   "outputs": [],
   "source": [
    "def predict_sentiment_roberta(tweet_text, tokenizer, model):\n",
    "    inputs = tokenizer(tweet_text, return_tensors=\"pt\", truncation=True, padding=True)\n",
    "    inputs = {k: v.to(model.device) for k, v in inputs.items()}\n",
    "    model.eval()\n",
    "\n",
    "    with torch.no_grad():\n",
    "        outputs = model(**inputs)\n",
    "        logits = outputs.logits\n",
    "        probs = torch.softmax(logits, dim=1).cpu().numpy()\n",
    "\n",
    "    labels = [\"Negative\", \"Neutral\", \"Positive\"]\n",
    "    predicted = labels[np.argmax(probs)]\n",
    "\n",
    "    print(f\"Tweet: {tweet_text}\")\n",
    "    print(f\"Probabilities: {probs}\")\n",
    "    print(f\"Predicted Sentiment: {predicted}\")"
   ]
  },
  {
   "cell_type": "code",
   "execution_count": null,
   "metadata": {
    "colab": {
     "base_uri": "https://localhost:8080/"
    },
    "id": "pZTaNcbEjAfX",
    "outputId": "0ede37d4-7376-40d3-9fe2-40ee896889a7"
   },
   "outputs": [],
   "source": [
    "tweets=[\"I didn't like it \",\n",
    "        \"I was a boring movie\",\n",
    "        'What a nice girl',\n",
    "        'She is a positive girl',\n",
    "        'fucked up',\n",
    "        'you suck',\n",
    "        'I got a great feeling about this',\n",
    "        'I am beautiful',\n",
    "        'She is a woman',\n",
    "        'I am a bastard lol!',\n",
    "        'Mind your language',\n",
    "        'That was hillerious',\n",
    "        'I am laughing',\n",
    "        'I am going to kerala today',\n",
    "        'You are truely blessed',\n",
    "        \"I love to laugh, it's the best feeling!\",\n",
    "        'He is showing off his abs',\n",
    "        \"what I'm saying is that you are literally the Monday of my life.\",\n",
    "        \"Life's good, you should get one.\"]\n",
    "for tweet in tweets:\n",
    "  predict_sentiment_roberta(tweet, loaded_tokenizer, loaded_model)\n",
    "  print('\\n')"
   ]
  },
  {
   "cell_type": "code",
   "execution_count": null,
   "metadata": {
    "id": "b0zZ3FL6jAMD"
   },
   "outputs": [],
   "source": [
    "import tweepy\n",
    "\n",
    "api_key = '<api-key>'\n",
    "api_key_secret = '<api-secret-key>'\n",
    "bearer_token = '<bearer_token>'\n",
    "\n",
    "client = tweepy.Client(bearer_token=bearer_token)\n",
    "\n",
    "query = 'AI OR machine learning -is:retweet lang:en'\n",
    "tweets = client.search_recent_tweets(\n",
    "    query=query,\n",
    "    max_results=10,\n",
    "    tweet_fields=[\"lang\"]\n",
    ")"
   ]
  },
  {
   "cell_type": "code",
   "execution_count": null,
   "metadata": {
    "colab": {
     "base_uri": "https://localhost:8080/"
    },
    "id": "48Wyk1CeZk2g",
    "outputId": "26d4a94d-075e-45cb-cae1-2a23f7e65ebf"
   },
   "outputs": [],
   "source": [
    "for tweet in tweets.data:\n",
    "    if tweet.lang == \"en\":\n",
    "        text = tweet.text\n",
    "        predict_sentiment_roberta(text, loaded_tokenizer, loaded_model)\n",
    "        print('\\n')"
   ]
  },
  {
   "cell_type": "code",
   "execution_count": null,
   "metadata": {
    "id": "K9E5rhzeaYqY"
   },
   "outputs": [],
   "source": []
  }
 ],
 "metadata": {
  "accelerator": "GPU",
  "colab": {
   "gpuType": "T4",
   "machine_shape": "hm",
   "provenance": []
  },
  "kernelspec": {
   "display_name": "Python 3",
   "name": "python3"
  },
  "language_info": {
   "name": "python"
  },
  "widgets": {
   "application/vnd.jupyter.widget-state+json": {
    "000a2bf1ca9c4c359bf176915ec8a0f4": {
     "model_module": "@jupyter-widgets/base",
     "model_module_version": "1.2.0",
     "model_name": "LayoutModel",
     "state": {
      "_model_module": "@jupyter-widgets/base",
      "_model_module_version": "1.2.0",
      "_model_name": "LayoutModel",
      "_view_count": null,
      "_view_module": "@jupyter-widgets/base",
      "_view_module_version": "1.2.0",
      "_view_name": "LayoutView",
      "align_content": null,
      "align_items": null,
      "align_self": null,
      "border": null,
      "bottom": null,
      "display": null,
      "flex": null,
      "flex_flow": null,
      "grid_area": null,
      "grid_auto_columns": null,
      "grid_auto_flow": null,
      "grid_auto_rows": null,
      "grid_column": null,
      "grid_gap": null,
      "grid_row": null,
      "grid_template_areas": null,
      "grid_template_columns": null,
      "grid_template_rows": null,
      "height": null,
      "justify_content": null,
      "justify_items": null,
      "left": null,
      "margin": null,
      "max_height": null,
      "max_width": null,
      "min_height": null,
      "min_width": null,
      "object_fit": null,
      "object_position": null,
      "order": null,
      "overflow": null,
      "overflow_x": null,
      "overflow_y": null,
      "padding": null,
      "right": null,
      "top": null,
      "visibility": null,
      "width": null
     }
    },
    "013bc9447913496e830c783ba450706a": {
     "model_module": "@jupyter-widgets/controls",
     "model_module_version": "1.5.0",
     "model_name": "DescriptionStyleModel",
     "state": {
      "_model_module": "@jupyter-widgets/controls",
      "_model_module_version": "1.5.0",
      "_model_name": "DescriptionStyleModel",
      "_view_count": null,
      "_view_module": "@jupyter-widgets/base",
      "_view_module_version": "1.2.0",
      "_view_name": "StyleView",
      "description_width": ""
     }
    },
    "018b353ddaee49dbac7da0dd33690137": {
     "model_module": "@jupyter-widgets/base",
     "model_module_version": "1.2.0",
     "model_name": "LayoutModel",
     "state": {
      "_model_module": "@jupyter-widgets/base",
      "_model_module_version": "1.2.0",
      "_model_name": "LayoutModel",
      "_view_count": null,
      "_view_module": "@jupyter-widgets/base",
      "_view_module_version": "1.2.0",
      "_view_name": "LayoutView",
      "align_content": null,
      "align_items": null,
      "align_self": null,
      "border": null,
      "bottom": null,
      "display": null,
      "flex": null,
      "flex_flow": null,
      "grid_area": null,
      "grid_auto_columns": null,
      "grid_auto_flow": null,
      "grid_auto_rows": null,
      "grid_column": null,
      "grid_gap": null,
      "grid_row": null,
      "grid_template_areas": null,
      "grid_template_columns": null,
      "grid_template_rows": null,
      "height": null,
      "justify_content": null,
      "justify_items": null,
      "left": null,
      "margin": null,
      "max_height": null,
      "max_width": null,
      "min_height": null,
      "min_width": null,
      "object_fit": null,
      "object_position": null,
      "order": null,
      "overflow": null,
      "overflow_x": null,
      "overflow_y": null,
      "padding": null,
      "right": null,
      "top": null,
      "visibility": null,
      "width": null
     }
    },
    "02c843f228fa4606bfe8aca02d804f7b": {
     "model_module": "@jupyter-widgets/base",
     "model_module_version": "1.2.0",
     "model_name": "LayoutModel",
     "state": {
      "_model_module": "@jupyter-widgets/base",
      "_model_module_version": "1.2.0",
      "_model_name": "LayoutModel",
      "_view_count": null,
      "_view_module": "@jupyter-widgets/base",
      "_view_module_version": "1.2.0",
      "_view_name": "LayoutView",
      "align_content": null,
      "align_items": null,
      "align_self": null,
      "border": null,
      "bottom": null,
      "display": null,
      "flex": null,
      "flex_flow": null,
      "grid_area": null,
      "grid_auto_columns": null,
      "grid_auto_flow": null,
      "grid_auto_rows": null,
      "grid_column": null,
      "grid_gap": null,
      "grid_row": null,
      "grid_template_areas": null,
      "grid_template_columns": null,
      "grid_template_rows": null,
      "height": null,
      "justify_content": null,
      "justify_items": null,
      "left": null,
      "margin": null,
      "max_height": null,
      "max_width": null,
      "min_height": null,
      "min_width": null,
      "object_fit": null,
      "object_position": null,
      "order": null,
      "overflow": null,
      "overflow_x": null,
      "overflow_y": null,
      "padding": null,
      "right": null,
      "top": null,
      "visibility": null,
      "width": null
     }
    },
    "0414c68cf9674cb0a71b74fb3dfd3c5c": {
     "model_module": "@jupyter-widgets/base",
     "model_module_version": "1.2.0",
     "model_name": "LayoutModel",
     "state": {
      "_model_module": "@jupyter-widgets/base",
      "_model_module_version": "1.2.0",
      "_model_name": "LayoutModel",
      "_view_count": null,
      "_view_module": "@jupyter-widgets/base",
      "_view_module_version": "1.2.0",
      "_view_name": "LayoutView",
      "align_content": null,
      "align_items": null,
      "align_self": null,
      "border": null,
      "bottom": null,
      "display": null,
      "flex": null,
      "flex_flow": null,
      "grid_area": null,
      "grid_auto_columns": null,
      "grid_auto_flow": null,
      "grid_auto_rows": null,
      "grid_column": null,
      "grid_gap": null,
      "grid_row": null,
      "grid_template_areas": null,
      "grid_template_columns": null,
      "grid_template_rows": null,
      "height": null,
      "justify_content": null,
      "justify_items": null,
      "left": null,
      "margin": null,
      "max_height": null,
      "max_width": null,
      "min_height": null,
      "min_width": null,
      "object_fit": null,
      "object_position": null,
      "order": null,
      "overflow": null,
      "overflow_x": null,
      "overflow_y": null,
      "padding": null,
      "right": null,
      "top": null,
      "visibility": null,
      "width": null
     }
    },
    "054c75dc82ee45a696c5cd44070a6d23": {
     "model_module": "@jupyter-widgets/controls",
     "model_module_version": "1.5.0",
     "model_name": "HTMLModel",
     "state": {
      "_dom_classes": [],
      "_model_module": "@jupyter-widgets/controls",
      "_model_module_version": "1.5.0",
      "_model_name": "HTMLModel",
      "_view_count": null,
      "_view_module": "@jupyter-widgets/controls",
      "_view_module_version": "1.5.0",
      "_view_name": "HTMLView",
      "description": "",
      "description_tooltip": null,
      "layout": "IPY_MODEL_dce0bda21748471f88f13e7241b53a62",
      "placeholder": "​",
      "style": "IPY_MODEL_68ad83b7dd5b4a8daed828ad668279a8",
      "value": "model.safetensors: 100%"
     }
    },
    "055df568fb4749a2af8acee154481b44": {
     "model_module": "@jupyter-widgets/base",
     "model_module_version": "1.2.0",
     "model_name": "LayoutModel",
     "state": {
      "_model_module": "@jupyter-widgets/base",
      "_model_module_version": "1.2.0",
      "_model_name": "LayoutModel",
      "_view_count": null,
      "_view_module": "@jupyter-widgets/base",
      "_view_module_version": "1.2.0",
      "_view_name": "LayoutView",
      "align_content": null,
      "align_items": null,
      "align_self": null,
      "border": null,
      "bottom": null,
      "display": null,
      "flex": null,
      "flex_flow": null,
      "grid_area": null,
      "grid_auto_columns": null,
      "grid_auto_flow": null,
      "grid_auto_rows": null,
      "grid_column": null,
      "grid_gap": null,
      "grid_row": null,
      "grid_template_areas": null,
      "grid_template_columns": null,
      "grid_template_rows": null,
      "height": null,
      "justify_content": null,
      "justify_items": null,
      "left": null,
      "margin": null,
      "max_height": null,
      "max_width": null,
      "min_height": null,
      "min_width": null,
      "object_fit": null,
      "object_position": null,
      "order": null,
      "overflow": null,
      "overflow_x": null,
      "overflow_y": null,
      "padding": null,
      "right": null,
      "top": null,
      "visibility": null,
      "width": null
     }
    },
    "06c2db7c9ddc4a4b8665e43bfc3bc25f": {
     "model_module": "@jupyter-widgets/controls",
     "model_module_version": "1.5.0",
     "model_name": "ProgressStyleModel",
     "state": {
      "_model_module": "@jupyter-widgets/controls",
      "_model_module_version": "1.5.0",
      "_model_name": "ProgressStyleModel",
      "_view_count": null,
      "_view_module": "@jupyter-widgets/base",
      "_view_module_version": "1.2.0",
      "_view_name": "StyleView",
      "bar_color": null,
      "description_width": ""
     }
    },
    "0771e744a5dd43efb71783a818059952": {
     "model_module": "@jupyter-widgets/controls",
     "model_module_version": "1.5.0",
     "model_name": "HTMLModel",
     "state": {
      "_dom_classes": [],
      "_model_module": "@jupyter-widgets/controls",
      "_model_module_version": "1.5.0",
      "_model_name": "HTMLModel",
      "_view_count": null,
      "_view_module": "@jupyter-widgets/controls",
      "_view_module_version": "1.5.0",
      "_view_name": "HTMLView",
      "description": "",
      "description_tooltip": null,
      "layout": "IPY_MODEL_5d2117efd3ae4e2fb8cdc73aef001afc",
      "placeholder": "​",
      "style": "IPY_MODEL_c5775816b83c44a7a3b9ad4c2795fdb2",
      "value": "config.json: 100%"
     }
    },
    "09d7581a8687467caa93e20becbcc901": {
     "model_module": "@jupyter-widgets/controls",
     "model_module_version": "1.5.0",
     "model_name": "FloatProgressModel",
     "state": {
      "_dom_classes": [],
      "_model_module": "@jupyter-widgets/controls",
      "_model_module_version": "1.5.0",
      "_model_name": "FloatProgressModel",
      "_view_count": null,
      "_view_module": "@jupyter-widgets/controls",
      "_view_module_version": "1.5.0",
      "_view_name": "ProgressView",
      "bar_style": "success",
      "description": "",
      "description_tooltip": null,
      "layout": "IPY_MODEL_972f588e54364a2e9fdf6c116e3ab0b3",
      "max": 231508,
      "min": 0,
      "orientation": "horizontal",
      "style": "IPY_MODEL_74ada9da62564cbab7506a278431cafe",
      "value": 231508
     }
    },
    "0b757c2618564ffa84cedc51b32e2dce": {
     "model_module": "@jupyter-widgets/controls",
     "model_module_version": "1.5.0",
     "model_name": "DescriptionStyleModel",
     "state": {
      "_model_module": "@jupyter-widgets/controls",
      "_model_module_version": "1.5.0",
      "_model_name": "DescriptionStyleModel",
      "_view_count": null,
      "_view_module": "@jupyter-widgets/base",
      "_view_module_version": "1.2.0",
      "_view_name": "StyleView",
      "description_width": ""
     }
    },
    "0bf965ebcc2244cc80938c2fde0f9fdf": {
     "model_module": "@jupyter-widgets/controls",
     "model_module_version": "1.5.0",
     "model_name": "HTMLModel",
     "state": {
      "_dom_classes": [],
      "_model_module": "@jupyter-widgets/controls",
      "_model_module_version": "1.5.0",
      "_model_name": "HTMLModel",
      "_view_count": null,
      "_view_module": "@jupyter-widgets/controls",
      "_view_module_version": "1.5.0",
      "_view_name": "HTMLView",
      "description": "",
      "description_tooltip": null,
      "layout": "IPY_MODEL_d668d0f753c04f88ad439d372d9f7853",
      "placeholder": "​",
      "style": "IPY_MODEL_f8f904f64b2940cca9898f928a1298e6",
      "value": " 481/481 [00:00&lt;00:00, 6.82kB/s]"
     }
    },
    "0c893c77c475422bae39403eb7aeea26": {
     "model_module": "@jupyter-widgets/controls",
     "model_module_version": "1.5.0",
     "model_name": "HTMLModel",
     "state": {
      "_dom_classes": [],
      "_model_module": "@jupyter-widgets/controls",
      "_model_module_version": "1.5.0",
      "_model_name": "HTMLModel",
      "_view_count": null,
      "_view_module": "@jupyter-widgets/controls",
      "_view_module_version": "1.5.0",
      "_view_name": "HTMLView",
      "description": "",
      "description_tooltip": null,
      "layout": "IPY_MODEL_517a4bd21b8849e687e960a1735d7943",
      "placeholder": "​",
      "style": "IPY_MODEL_7a78a491690f48a4adbe89a57d194ab1",
      "value": " 466k/466k [00:00&lt;00:00, 3.07MB/s]"
     }
    },
    "0cb78f240b15428da5b0239733eaa6e4": {
     "model_module": "@jupyter-widgets/controls",
     "model_module_version": "1.5.0",
     "model_name": "HBoxModel",
     "state": {
      "_dom_classes": [],
      "_model_module": "@jupyter-widgets/controls",
      "_model_module_version": "1.5.0",
      "_model_name": "HBoxModel",
      "_view_count": null,
      "_view_module": "@jupyter-widgets/controls",
      "_view_module_version": "1.5.0",
      "_view_name": "HBoxView",
      "box_style": "",
      "children": [
       "IPY_MODEL_a4a012e3311e4373ab814f9acd59e98f",
       "IPY_MODEL_2eac03b818484aaabc6c81ac9558e9b1",
       "IPY_MODEL_0c893c77c475422bae39403eb7aeea26"
      ],
      "layout": "IPY_MODEL_df72cbc55ebe45a08be1dac2df381e98"
     }
    },
    "0eb9d74710b74c79876cd328485b87a7": {
     "model_module": "@jupyter-widgets/base",
     "model_module_version": "1.2.0",
     "model_name": "LayoutModel",
     "state": {
      "_model_module": "@jupyter-widgets/base",
      "_model_module_version": "1.2.0",
      "_model_name": "LayoutModel",
      "_view_count": null,
      "_view_module": "@jupyter-widgets/base",
      "_view_module_version": "1.2.0",
      "_view_name": "LayoutView",
      "align_content": null,
      "align_items": null,
      "align_self": null,
      "border": null,
      "bottom": null,
      "display": null,
      "flex": null,
      "flex_flow": null,
      "grid_area": null,
      "grid_auto_columns": null,
      "grid_auto_flow": null,
      "grid_auto_rows": null,
      "grid_column": null,
      "grid_gap": null,
      "grid_row": null,
      "grid_template_areas": null,
      "grid_template_columns": null,
      "grid_template_rows": null,
      "height": null,
      "justify_content": null,
      "justify_items": null,
      "left": null,
      "margin": null,
      "max_height": null,
      "max_width": null,
      "min_height": null,
      "min_width": null,
      "object_fit": null,
      "object_position": null,
      "order": null,
      "overflow": null,
      "overflow_x": null,
      "overflow_y": null,
      "padding": null,
      "right": null,
      "top": null,
      "visibility": null,
      "width": null
     }
    },
    "0ed493fbac9a49e3ae009245ff47104f": {
     "model_module": "@jupyter-widgets/base",
     "model_module_version": "1.2.0",
     "model_name": "LayoutModel",
     "state": {
      "_model_module": "@jupyter-widgets/base",
      "_model_module_version": "1.2.0",
      "_model_name": "LayoutModel",
      "_view_count": null,
      "_view_module": "@jupyter-widgets/base",
      "_view_module_version": "1.2.0",
      "_view_name": "LayoutView",
      "align_content": null,
      "align_items": null,
      "align_self": null,
      "border": null,
      "bottom": null,
      "display": null,
      "flex": null,
      "flex_flow": null,
      "grid_area": null,
      "grid_auto_columns": null,
      "grid_auto_flow": null,
      "grid_auto_rows": null,
      "grid_column": null,
      "grid_gap": null,
      "grid_row": null,
      "grid_template_areas": null,
      "grid_template_columns": null,
      "grid_template_rows": null,
      "height": null,
      "justify_content": null,
      "justify_items": null,
      "left": null,
      "margin": null,
      "max_height": null,
      "max_width": null,
      "min_height": null,
      "min_width": null,
      "object_fit": null,
      "object_position": null,
      "order": null,
      "overflow": null,
      "overflow_x": null,
      "overflow_y": null,
      "padding": null,
      "right": null,
      "top": null,
      "visibility": null,
      "width": null
     }
    },
    "14895266fbf849159c5dc2ae17221319": {
     "model_module": "@jupyter-widgets/base",
     "model_module_version": "1.2.0",
     "model_name": "LayoutModel",
     "state": {
      "_model_module": "@jupyter-widgets/base",
      "_model_module_version": "1.2.0",
      "_model_name": "LayoutModel",
      "_view_count": null,
      "_view_module": "@jupyter-widgets/base",
      "_view_module_version": "1.2.0",
      "_view_name": "LayoutView",
      "align_content": null,
      "align_items": null,
      "align_self": null,
      "border": null,
      "bottom": null,
      "display": null,
      "flex": null,
      "flex_flow": null,
      "grid_area": null,
      "grid_auto_columns": null,
      "grid_auto_flow": null,
      "grid_auto_rows": null,
      "grid_column": null,
      "grid_gap": null,
      "grid_row": null,
      "grid_template_areas": null,
      "grid_template_columns": null,
      "grid_template_rows": null,
      "height": null,
      "justify_content": null,
      "justify_items": null,
      "left": null,
      "margin": null,
      "max_height": null,
      "max_width": null,
      "min_height": null,
      "min_width": null,
      "object_fit": null,
      "object_position": null,
      "order": null,
      "overflow": null,
      "overflow_x": null,
      "overflow_y": null,
      "padding": null,
      "right": null,
      "top": null,
      "visibility": null,
      "width": null
     }
    },
    "148ad2102bb943e6b91b9e85fe0632ea": {
     "model_module": "@jupyter-widgets/base",
     "model_module_version": "1.2.0",
     "model_name": "LayoutModel",
     "state": {
      "_model_module": "@jupyter-widgets/base",
      "_model_module_version": "1.2.0",
      "_model_name": "LayoutModel",
      "_view_count": null,
      "_view_module": "@jupyter-widgets/base",
      "_view_module_version": "1.2.0",
      "_view_name": "LayoutView",
      "align_content": null,
      "align_items": null,
      "align_self": null,
      "border": null,
      "bottom": null,
      "display": null,
      "flex": null,
      "flex_flow": null,
      "grid_area": null,
      "grid_auto_columns": null,
      "grid_auto_flow": null,
      "grid_auto_rows": null,
      "grid_column": null,
      "grid_gap": null,
      "grid_row": null,
      "grid_template_areas": null,
      "grid_template_columns": null,
      "grid_template_rows": null,
      "height": null,
      "justify_content": null,
      "justify_items": null,
      "left": null,
      "margin": null,
      "max_height": null,
      "max_width": null,
      "min_height": null,
      "min_width": null,
      "object_fit": null,
      "object_position": null,
      "order": null,
      "overflow": null,
      "overflow_x": null,
      "overflow_y": null,
      "padding": null,
      "right": null,
      "top": null,
      "visibility": null,
      "width": null
     }
    },
    "16311d45020d422d9e8ebc2265d0969f": {
     "model_module": "@jupyter-widgets/controls",
     "model_module_version": "1.5.0",
     "model_name": "HBoxModel",
     "state": {
      "_dom_classes": [],
      "_model_module": "@jupyter-widgets/controls",
      "_model_module_version": "1.5.0",
      "_model_name": "HBoxModel",
      "_view_count": null,
      "_view_module": "@jupyter-widgets/controls",
      "_view_module_version": "1.5.0",
      "_view_name": "HBoxView",
      "box_style": "",
      "children": [
       "IPY_MODEL_967469fee8da44539fcc82be2e4224e3",
       "IPY_MODEL_09d7581a8687467caa93e20becbcc901",
       "IPY_MODEL_f3942f8cd0f8406ea928a1bc6dcc9477"
      ],
      "layout": "IPY_MODEL_9f551c6006c24647914b71ff63818f3a"
     }
    },
    "17d2addf7ccd4cd2812065b94f4022b6": {
     "model_module": "@jupyter-widgets/base",
     "model_module_version": "1.2.0",
     "model_name": "LayoutModel",
     "state": {
      "_model_module": "@jupyter-widgets/base",
      "_model_module_version": "1.2.0",
      "_model_name": "LayoutModel",
      "_view_count": null,
      "_view_module": "@jupyter-widgets/base",
      "_view_module_version": "1.2.0",
      "_view_name": "LayoutView",
      "align_content": null,
      "align_items": null,
      "align_self": null,
      "border": null,
      "bottom": null,
      "display": null,
      "flex": null,
      "flex_flow": null,
      "grid_area": null,
      "grid_auto_columns": null,
      "grid_auto_flow": null,
      "grid_auto_rows": null,
      "grid_column": null,
      "grid_gap": null,
      "grid_row": null,
      "grid_template_areas": null,
      "grid_template_columns": null,
      "grid_template_rows": null,
      "height": null,
      "justify_content": null,
      "justify_items": null,
      "left": null,
      "margin": null,
      "max_height": null,
      "max_width": null,
      "min_height": null,
      "min_width": null,
      "object_fit": null,
      "object_position": null,
      "order": null,
      "overflow": null,
      "overflow_x": null,
      "overflow_y": null,
      "padding": null,
      "right": null,
      "top": null,
      "visibility": null,
      "width": null
     }
    },
    "1b54e38963c84979ad2c3a5094010e00": {
     "model_module": "@jupyter-widgets/controls",
     "model_module_version": "1.5.0",
     "model_name": "DescriptionStyleModel",
     "state": {
      "_model_module": "@jupyter-widgets/controls",
      "_model_module_version": "1.5.0",
      "_model_name": "DescriptionStyleModel",
      "_view_count": null,
      "_view_module": "@jupyter-widgets/base",
      "_view_module_version": "1.2.0",
      "_view_name": "StyleView",
      "description_width": ""
     }
    },
    "1b5d99d6b23146fcb0b03037cac2bb6b": {
     "model_module": "@jupyter-widgets/controls",
     "model_module_version": "1.5.0",
     "model_name": "HBoxModel",
     "state": {
      "_dom_classes": [],
      "_model_module": "@jupyter-widgets/controls",
      "_model_module_version": "1.5.0",
      "_model_name": "HBoxModel",
      "_view_count": null,
      "_view_module": "@jupyter-widgets/controls",
      "_view_module_version": "1.5.0",
      "_view_name": "HBoxView",
      "box_style": "",
      "children": [
       "IPY_MODEL_0771e744a5dd43efb71783a818059952",
       "IPY_MODEL_3cc784b17084497db8c99869b1553df7",
       "IPY_MODEL_5f2390a368474e969c77ab9c8565447d"
      ],
      "layout": "IPY_MODEL_511c7d696b924896b8c0058365d1328a"
     }
    },
    "1c4ed11de0b6442f94832973db8423af": {
     "model_module": "@jupyter-widgets/controls",
     "model_module_version": "1.5.0",
     "model_name": "ProgressStyleModel",
     "state": {
      "_model_module": "@jupyter-widgets/controls",
      "_model_module_version": "1.5.0",
      "_model_name": "ProgressStyleModel",
      "_view_count": null,
      "_view_module": "@jupyter-widgets/base",
      "_view_module_version": "1.2.0",
      "_view_name": "StyleView",
      "bar_color": null,
      "description_width": ""
     }
    },
    "1c87ff694f5a46be820c4a7902c30fad": {
     "model_module": "@jupyter-widgets/controls",
     "model_module_version": "1.5.0",
     "model_name": "DescriptionStyleModel",
     "state": {
      "_model_module": "@jupyter-widgets/controls",
      "_model_module_version": "1.5.0",
      "_model_name": "DescriptionStyleModel",
      "_view_count": null,
      "_view_module": "@jupyter-widgets/base",
      "_view_module_version": "1.2.0",
      "_view_name": "StyleView",
      "description_width": ""
     }
    },
    "1dbb64778fec4544895ab718ec0e6dd2": {
     "model_module": "@jupyter-widgets/base",
     "model_module_version": "1.2.0",
     "model_name": "LayoutModel",
     "state": {
      "_model_module": "@jupyter-widgets/base",
      "_model_module_version": "1.2.0",
      "_model_name": "LayoutModel",
      "_view_count": null,
      "_view_module": "@jupyter-widgets/base",
      "_view_module_version": "1.2.0",
      "_view_name": "LayoutView",
      "align_content": null,
      "align_items": null,
      "align_self": null,
      "border": null,
      "bottom": null,
      "display": null,
      "flex": null,
      "flex_flow": null,
      "grid_area": null,
      "grid_auto_columns": null,
      "grid_auto_flow": null,
      "grid_auto_rows": null,
      "grid_column": null,
      "grid_gap": null,
      "grid_row": null,
      "grid_template_areas": null,
      "grid_template_columns": null,
      "grid_template_rows": null,
      "height": null,
      "justify_content": null,
      "justify_items": null,
      "left": null,
      "margin": null,
      "max_height": null,
      "max_width": null,
      "min_height": null,
      "min_width": null,
      "object_fit": null,
      "object_position": null,
      "order": null,
      "overflow": null,
      "overflow_x": null,
      "overflow_y": null,
      "padding": null,
      "right": null,
      "top": null,
      "visibility": null,
      "width": null
     }
    },
    "1e1becac052a4575994a8463cdd3a30d": {
     "model_module": "@jupyter-widgets/base",
     "model_module_version": "1.2.0",
     "model_name": "LayoutModel",
     "state": {
      "_model_module": "@jupyter-widgets/base",
      "_model_module_version": "1.2.0",
      "_model_name": "LayoutModel",
      "_view_count": null,
      "_view_module": "@jupyter-widgets/base",
      "_view_module_version": "1.2.0",
      "_view_name": "LayoutView",
      "align_content": null,
      "align_items": null,
      "align_self": null,
      "border": null,
      "bottom": null,
      "display": null,
      "flex": null,
      "flex_flow": null,
      "grid_area": null,
      "grid_auto_columns": null,
      "grid_auto_flow": null,
      "grid_auto_rows": null,
      "grid_column": null,
      "grid_gap": null,
      "grid_row": null,
      "grid_template_areas": null,
      "grid_template_columns": null,
      "grid_template_rows": null,
      "height": null,
      "justify_content": null,
      "justify_items": null,
      "left": null,
      "margin": null,
      "max_height": null,
      "max_width": null,
      "min_height": null,
      "min_width": null,
      "object_fit": null,
      "object_position": null,
      "order": null,
      "overflow": null,
      "overflow_x": null,
      "overflow_y": null,
      "padding": null,
      "right": null,
      "top": null,
      "visibility": null,
      "width": null
     }
    },
    "21cc3beb739f444db8407d8240e54bf7": {
     "model_module": "@jupyter-widgets/base",
     "model_module_version": "1.2.0",
     "model_name": "LayoutModel",
     "state": {
      "_model_module": "@jupyter-widgets/base",
      "_model_module_version": "1.2.0",
      "_model_name": "LayoutModel",
      "_view_count": null,
      "_view_module": "@jupyter-widgets/base",
      "_view_module_version": "1.2.0",
      "_view_name": "LayoutView",
      "align_content": null,
      "align_items": null,
      "align_self": null,
      "border": null,
      "bottom": null,
      "display": null,
      "flex": null,
      "flex_flow": null,
      "grid_area": null,
      "grid_auto_columns": null,
      "grid_auto_flow": null,
      "grid_auto_rows": null,
      "grid_column": null,
      "grid_gap": null,
      "grid_row": null,
      "grid_template_areas": null,
      "grid_template_columns": null,
      "grid_template_rows": null,
      "height": null,
      "justify_content": null,
      "justify_items": null,
      "left": null,
      "margin": null,
      "max_height": null,
      "max_width": null,
      "min_height": null,
      "min_width": null,
      "object_fit": null,
      "object_position": null,
      "order": null,
      "overflow": null,
      "overflow_x": null,
      "overflow_y": null,
      "padding": null,
      "right": null,
      "top": null,
      "visibility": null,
      "width": null
     }
    },
    "23fb91d9f5f345318eb929a4a3eb0e21": {
     "model_module": "@jupyter-widgets/controls",
     "model_module_version": "1.5.0",
     "model_name": "ProgressStyleModel",
     "state": {
      "_model_module": "@jupyter-widgets/controls",
      "_model_module_version": "1.5.0",
      "_model_name": "ProgressStyleModel",
      "_view_count": null,
      "_view_module": "@jupyter-widgets/base",
      "_view_module_version": "1.2.0",
      "_view_name": "StyleView",
      "bar_color": null,
      "description_width": ""
     }
    },
    "256ca334646043a2a6b8e7f4baac95eb": {
     "model_module": "@jupyter-widgets/controls",
     "model_module_version": "1.5.0",
     "model_name": "ProgressStyleModel",
     "state": {
      "_model_module": "@jupyter-widgets/controls",
      "_model_module_version": "1.5.0",
      "_model_name": "ProgressStyleModel",
      "_view_count": null,
      "_view_module": "@jupyter-widgets/base",
      "_view_module_version": "1.2.0",
      "_view_name": "StyleView",
      "bar_color": null,
      "description_width": ""
     }
    },
    "2672a28b6d074a0d8309e2609accdc1d": {
     "model_module": "@jupyter-widgets/base",
     "model_module_version": "1.2.0",
     "model_name": "LayoutModel",
     "state": {
      "_model_module": "@jupyter-widgets/base",
      "_model_module_version": "1.2.0",
      "_model_name": "LayoutModel",
      "_view_count": null,
      "_view_module": "@jupyter-widgets/base",
      "_view_module_version": "1.2.0",
      "_view_name": "LayoutView",
      "align_content": null,
      "align_items": null,
      "align_self": null,
      "border": null,
      "bottom": null,
      "display": null,
      "flex": null,
      "flex_flow": null,
      "grid_area": null,
      "grid_auto_columns": null,
      "grid_auto_flow": null,
      "grid_auto_rows": null,
      "grid_column": null,
      "grid_gap": null,
      "grid_row": null,
      "grid_template_areas": null,
      "grid_template_columns": null,
      "grid_template_rows": null,
      "height": null,
      "justify_content": null,
      "justify_items": null,
      "left": null,
      "margin": null,
      "max_height": null,
      "max_width": null,
      "min_height": null,
      "min_width": null,
      "object_fit": null,
      "object_position": null,
      "order": null,
      "overflow": null,
      "overflow_x": null,
      "overflow_y": null,
      "padding": null,
      "right": null,
      "top": null,
      "visibility": null,
      "width": null
     }
    },
    "2702819bc9ac45f8b758861a74a1bdf6": {
     "model_module": "@jupyter-widgets/controls",
     "model_module_version": "1.5.0",
     "model_name": "HTMLModel",
     "state": {
      "_dom_classes": [],
      "_model_module": "@jupyter-widgets/controls",
      "_model_module_version": "1.5.0",
      "_model_name": "HTMLModel",
      "_view_count": null,
      "_view_module": "@jupyter-widgets/controls",
      "_view_module_version": "1.5.0",
      "_view_name": "HTMLView",
      "description": "",
      "description_tooltip": null,
      "layout": "IPY_MODEL_652b88f7efcf4091b9663ac6094db87a",
      "placeholder": "​",
      "style": "IPY_MODEL_b0439106a17542ed8718260327455976",
      "value": "config.json: 100%"
     }
    },
    "27e59e65ad5f47a2859b16f2fe4ed973": {
     "model_module": "@jupyter-widgets/controls",
     "model_module_version": "1.5.0",
     "model_name": "ProgressStyleModel",
     "state": {
      "_model_module": "@jupyter-widgets/controls",
      "_model_module_version": "1.5.0",
      "_model_name": "ProgressStyleModel",
      "_view_count": null,
      "_view_module": "@jupyter-widgets/base",
      "_view_module_version": "1.2.0",
      "_view_name": "StyleView",
      "bar_color": null,
      "description_width": ""
     }
    },
    "2be8882e4d8640ccb0b06fc07db13cd6": {
     "model_module": "@jupyter-widgets/controls",
     "model_module_version": "1.5.0",
     "model_name": "HTMLModel",
     "state": {
      "_dom_classes": [],
      "_model_module": "@jupyter-widgets/controls",
      "_model_module_version": "1.5.0",
      "_model_name": "HTMLModel",
      "_view_count": null,
      "_view_module": "@jupyter-widgets/controls",
      "_view_module_version": "1.5.0",
      "_view_name": "HTMLView",
      "description": "",
      "description_tooltip": null,
      "layout": "IPY_MODEL_da0a878afd654c55853233401f32e8ed",
      "placeholder": "​",
      "style": "IPY_MODEL_0b757c2618564ffa84cedc51b32e2dce",
      "value": "tokenizer_config.json: 100%"
     }
    },
    "2eac03b818484aaabc6c81ac9558e9b1": {
     "model_module": "@jupyter-widgets/controls",
     "model_module_version": "1.5.0",
     "model_name": "FloatProgressModel",
     "state": {
      "_dom_classes": [],
      "_model_module": "@jupyter-widgets/controls",
      "_model_module_version": "1.5.0",
      "_model_name": "FloatProgressModel",
      "_view_count": null,
      "_view_module": "@jupyter-widgets/controls",
      "_view_module_version": "1.5.0",
      "_view_name": "ProgressView",
      "bar_style": "success",
      "description": "",
      "description_tooltip": null,
      "layout": "IPY_MODEL_2672a28b6d074a0d8309e2609accdc1d",
      "max": 466062,
      "min": 0,
      "orientation": "horizontal",
      "style": "IPY_MODEL_256ca334646043a2a6b8e7f4baac95eb",
      "value": 466062
     }
    },
    "30656c81626e41b1b6992ce89c260c19": {
     "model_module": "@jupyter-widgets/controls",
     "model_module_version": "1.5.0",
     "model_name": "DescriptionStyleModel",
     "state": {
      "_model_module": "@jupyter-widgets/controls",
      "_model_module_version": "1.5.0",
      "_model_name": "DescriptionStyleModel",
      "_view_count": null,
      "_view_module": "@jupyter-widgets/base",
      "_view_module_version": "1.2.0",
      "_view_name": "StyleView",
      "description_width": ""
     }
    },
    "323605bcc56d47f9a8a3b986c030afb3": {
     "model_module": "@jupyter-widgets/base",
     "model_module_version": "1.2.0",
     "model_name": "LayoutModel",
     "state": {
      "_model_module": "@jupyter-widgets/base",
      "_model_module_version": "1.2.0",
      "_model_name": "LayoutModel",
      "_view_count": null,
      "_view_module": "@jupyter-widgets/base",
      "_view_module_version": "1.2.0",
      "_view_name": "LayoutView",
      "align_content": null,
      "align_items": null,
      "align_self": null,
      "border": null,
      "bottom": null,
      "display": null,
      "flex": null,
      "flex_flow": null,
      "grid_area": null,
      "grid_auto_columns": null,
      "grid_auto_flow": null,
      "grid_auto_rows": null,
      "grid_column": null,
      "grid_gap": null,
      "grid_row": null,
      "grid_template_areas": null,
      "grid_template_columns": null,
      "grid_template_rows": null,
      "height": null,
      "justify_content": null,
      "justify_items": null,
      "left": null,
      "margin": null,
      "max_height": null,
      "max_width": null,
      "min_height": null,
      "min_width": null,
      "object_fit": null,
      "object_position": null,
      "order": null,
      "overflow": null,
      "overflow_x": null,
      "overflow_y": null,
      "padding": null,
      "right": null,
      "top": null,
      "visibility": null,
      "width": null
     }
    },
    "327f43c3422d480285499e663617fa8c": {
     "model_module": "@jupyter-widgets/controls",
     "model_module_version": "1.5.0",
     "model_name": "HTMLModel",
     "state": {
      "_dom_classes": [],
      "_model_module": "@jupyter-widgets/controls",
      "_model_module_version": "1.5.0",
      "_model_name": "HTMLModel",
      "_view_count": null,
      "_view_module": "@jupyter-widgets/controls",
      "_view_module_version": "1.5.0",
      "_view_name": "HTMLView",
      "description": "",
      "description_tooltip": null,
      "layout": "IPY_MODEL_905be83c826f459982307054e50da139",
      "placeholder": "​",
      "style": "IPY_MODEL_9c6deea58d83461d878a008dbaf013c3",
      "value": " 48.0/48.0 [00:00&lt;00:00, 4.18kB/s]"
     }
    },
    "33a7a231dfa6492cbb2b09ed5b7afce4": {
     "model_module": "@jupyter-widgets/controls",
     "model_module_version": "1.5.0",
     "model_name": "FloatProgressModel",
     "state": {
      "_dom_classes": [],
      "_model_module": "@jupyter-widgets/controls",
      "_model_module_version": "1.5.0",
      "_model_name": "FloatProgressModel",
      "_view_count": null,
      "_view_module": "@jupyter-widgets/controls",
      "_view_module_version": "1.5.0",
      "_view_name": "ProgressView",
      "bar_style": "success",
      "description": "",
      "description_tooltip": null,
      "layout": "IPY_MODEL_3dcdb2345d7746e08fb16e4fd70110b8",
      "max": 48,
      "min": 0,
      "orientation": "horizontal",
      "style": "IPY_MODEL_27e59e65ad5f47a2859b16f2fe4ed973",
      "value": 48
     }
    },
    "3489572e8efa4d6697342fae4cac433a": {
     "model_module": "@jupyter-widgets/controls",
     "model_module_version": "1.5.0",
     "model_name": "HBoxModel",
     "state": {
      "_dom_classes": [],
      "_model_module": "@jupyter-widgets/controls",
      "_model_module_version": "1.5.0",
      "_model_name": "HBoxModel",
      "_view_count": null,
      "_view_module": "@jupyter-widgets/controls",
      "_view_module_version": "1.5.0",
      "_view_name": "HBoxView",
      "box_style": "",
      "children": [
       "IPY_MODEL_c43c2abd676a4d639670962e97e86448",
       "IPY_MODEL_b89291cc4f9b40b787fdea857459b834",
       "IPY_MODEL_72fd8354b8b34b558eaee5bdc6e94bab"
      ],
      "layout": "IPY_MODEL_7e4c1afa28884596856bd17b481f463d"
     }
    },
    "366719f4cdd54396967ae34d2a73bb37": {
     "model_module": "@jupyter-widgets/controls",
     "model_module_version": "1.5.0",
     "model_name": "HBoxModel",
     "state": {
      "_dom_classes": [],
      "_model_module": "@jupyter-widgets/controls",
      "_model_module_version": "1.5.0",
      "_model_name": "HBoxModel",
      "_view_count": null,
      "_view_module": "@jupyter-widgets/controls",
      "_view_module_version": "1.5.0",
      "_view_name": "HBoxView",
      "box_style": "",
      "children": [
       "IPY_MODEL_55795bf3434746f9855f62332dba7854",
       "IPY_MODEL_630a25f829814da295829a89232af300",
       "IPY_MODEL_5a7cc19efb0e4cb4bf1de47bd6487a70"
      ],
      "layout": "IPY_MODEL_a009512cc6e24b899f26b6afa07db041"
     }
    },
    "3a0b957531284e3097e07194f636d8ff": {
     "model_module": "@jupyter-widgets/controls",
     "model_module_version": "1.5.0",
     "model_name": "ProgressStyleModel",
     "state": {
      "_model_module": "@jupyter-widgets/controls",
      "_model_module_version": "1.5.0",
      "_model_name": "ProgressStyleModel",
      "_view_count": null,
      "_view_module": "@jupyter-widgets/base",
      "_view_module_version": "1.2.0",
      "_view_name": "StyleView",
      "bar_color": null,
      "description_width": ""
     }
    },
    "3bf3682a316244728dec3dabfaf4c222": {
     "model_module": "@jupyter-widgets/base",
     "model_module_version": "1.2.0",
     "model_name": "LayoutModel",
     "state": {
      "_model_module": "@jupyter-widgets/base",
      "_model_module_version": "1.2.0",
      "_model_name": "LayoutModel",
      "_view_count": null,
      "_view_module": "@jupyter-widgets/base",
      "_view_module_version": "1.2.0",
      "_view_name": "LayoutView",
      "align_content": null,
      "align_items": null,
      "align_self": null,
      "border": null,
      "bottom": null,
      "display": null,
      "flex": null,
      "flex_flow": null,
      "grid_area": null,
      "grid_auto_columns": null,
      "grid_auto_flow": null,
      "grid_auto_rows": null,
      "grid_column": null,
      "grid_gap": null,
      "grid_row": null,
      "grid_template_areas": null,
      "grid_template_columns": null,
      "grid_template_rows": null,
      "height": null,
      "justify_content": null,
      "justify_items": null,
      "left": null,
      "margin": null,
      "max_height": null,
      "max_width": null,
      "min_height": null,
      "min_width": null,
      "object_fit": null,
      "object_position": null,
      "order": null,
      "overflow": null,
      "overflow_x": null,
      "overflow_y": null,
      "padding": null,
      "right": null,
      "top": null,
      "visibility": null,
      "width": null
     }
    },
    "3cc784b17084497db8c99869b1553df7": {
     "model_module": "@jupyter-widgets/controls",
     "model_module_version": "1.5.0",
     "model_name": "FloatProgressModel",
     "state": {
      "_dom_classes": [],
      "_model_module": "@jupyter-widgets/controls",
      "_model_module_version": "1.5.0",
      "_model_name": "FloatProgressModel",
      "_view_count": null,
      "_view_module": "@jupyter-widgets/controls",
      "_view_module_version": "1.5.0",
      "_view_name": "ProgressView",
      "bar_style": "success",
      "description": "",
      "description_tooltip": null,
      "layout": "IPY_MODEL_f83bd5e6d12f4e48b6095d1ec8f31d63",
      "max": 570,
      "min": 0,
      "orientation": "horizontal",
      "style": "IPY_MODEL_23fb91d9f5f345318eb929a4a3eb0e21",
      "value": 570
     }
    },
    "3dcdb2345d7746e08fb16e4fd70110b8": {
     "model_module": "@jupyter-widgets/base",
     "model_module_version": "1.2.0",
     "model_name": "LayoutModel",
     "state": {
      "_model_module": "@jupyter-widgets/base",
      "_model_module_version": "1.2.0",
      "_model_name": "LayoutModel",
      "_view_count": null,
      "_view_module": "@jupyter-widgets/base",
      "_view_module_version": "1.2.0",
      "_view_name": "LayoutView",
      "align_content": null,
      "align_items": null,
      "align_self": null,
      "border": null,
      "bottom": null,
      "display": null,
      "flex": null,
      "flex_flow": null,
      "grid_area": null,
      "grid_auto_columns": null,
      "grid_auto_flow": null,
      "grid_auto_rows": null,
      "grid_column": null,
      "grid_gap": null,
      "grid_row": null,
      "grid_template_areas": null,
      "grid_template_columns": null,
      "grid_template_rows": null,
      "height": null,
      "justify_content": null,
      "justify_items": null,
      "left": null,
      "margin": null,
      "max_height": null,
      "max_width": null,
      "min_height": null,
      "min_width": null,
      "object_fit": null,
      "object_position": null,
      "order": null,
      "overflow": null,
      "overflow_x": null,
      "overflow_y": null,
      "padding": null,
      "right": null,
      "top": null,
      "visibility": null,
      "width": null
     }
    },
    "3e852ed9ef8b4c45ac733a3d326ce58a": {
     "model_module": "@jupyter-widgets/base",
     "model_module_version": "1.2.0",
     "model_name": "LayoutModel",
     "state": {
      "_model_module": "@jupyter-widgets/base",
      "_model_module_version": "1.2.0",
      "_model_name": "LayoutModel",
      "_view_count": null,
      "_view_module": "@jupyter-widgets/base",
      "_view_module_version": "1.2.0",
      "_view_name": "LayoutView",
      "align_content": null,
      "align_items": null,
      "align_self": null,
      "border": null,
      "bottom": null,
      "display": null,
      "flex": null,
      "flex_flow": null,
      "grid_area": null,
      "grid_auto_columns": null,
      "grid_auto_flow": null,
      "grid_auto_rows": null,
      "grid_column": null,
      "grid_gap": null,
      "grid_row": null,
      "grid_template_areas": null,
      "grid_template_columns": null,
      "grid_template_rows": null,
      "height": null,
      "justify_content": null,
      "justify_items": null,
      "left": null,
      "margin": null,
      "max_height": null,
      "max_width": null,
      "min_height": null,
      "min_width": null,
      "object_fit": null,
      "object_position": null,
      "order": null,
      "overflow": null,
      "overflow_x": null,
      "overflow_y": null,
      "padding": null,
      "right": null,
      "top": null,
      "visibility": null,
      "width": null
     }
    },
    "42abac64ffd24dfdaa9970396f8c9341": {
     "model_module": "@jupyter-widgets/controls",
     "model_module_version": "1.5.0",
     "model_name": "DescriptionStyleModel",
     "state": {
      "_model_module": "@jupyter-widgets/controls",
      "_model_module_version": "1.5.0",
      "_model_name": "DescriptionStyleModel",
      "_view_count": null,
      "_view_module": "@jupyter-widgets/base",
      "_view_module_version": "1.2.0",
      "_view_name": "StyleView",
      "description_width": ""
     }
    },
    "434486c96d854a75829a5f996ae8a9e6": {
     "model_module": "@jupyter-widgets/base",
     "model_module_version": "1.2.0",
     "model_name": "LayoutModel",
     "state": {
      "_model_module": "@jupyter-widgets/base",
      "_model_module_version": "1.2.0",
      "_model_name": "LayoutModel",
      "_view_count": null,
      "_view_module": "@jupyter-widgets/base",
      "_view_module_version": "1.2.0",
      "_view_name": "LayoutView",
      "align_content": null,
      "align_items": null,
      "align_self": null,
      "border": null,
      "bottom": null,
      "display": null,
      "flex": null,
      "flex_flow": null,
      "grid_area": null,
      "grid_auto_columns": null,
      "grid_auto_flow": null,
      "grid_auto_rows": null,
      "grid_column": null,
      "grid_gap": null,
      "grid_row": null,
      "grid_template_areas": null,
      "grid_template_columns": null,
      "grid_template_rows": null,
      "height": null,
      "justify_content": null,
      "justify_items": null,
      "left": null,
      "margin": null,
      "max_height": null,
      "max_width": null,
      "min_height": null,
      "min_width": null,
      "object_fit": null,
      "object_position": null,
      "order": null,
      "overflow": null,
      "overflow_x": null,
      "overflow_y": null,
      "padding": null,
      "right": null,
      "top": null,
      "visibility": null,
      "width": null
     }
    },
    "435180c4bbe94927bb409e320ce3f55a": {
     "model_module": "@jupyter-widgets/base",
     "model_module_version": "1.2.0",
     "model_name": "LayoutModel",
     "state": {
      "_model_module": "@jupyter-widgets/base",
      "_model_module_version": "1.2.0",
      "_model_name": "LayoutModel",
      "_view_count": null,
      "_view_module": "@jupyter-widgets/base",
      "_view_module_version": "1.2.0",
      "_view_name": "LayoutView",
      "align_content": null,
      "align_items": null,
      "align_self": null,
      "border": null,
      "bottom": null,
      "display": null,
      "flex": null,
      "flex_flow": null,
      "grid_area": null,
      "grid_auto_columns": null,
      "grid_auto_flow": null,
      "grid_auto_rows": null,
      "grid_column": null,
      "grid_gap": null,
      "grid_row": null,
      "grid_template_areas": null,
      "grid_template_columns": null,
      "grid_template_rows": null,
      "height": null,
      "justify_content": null,
      "justify_items": null,
      "left": null,
      "margin": null,
      "max_height": null,
      "max_width": null,
      "min_height": null,
      "min_width": null,
      "object_fit": null,
      "object_position": null,
      "order": null,
      "overflow": null,
      "overflow_x": null,
      "overflow_y": null,
      "padding": null,
      "right": null,
      "top": null,
      "visibility": null,
      "width": null
     }
    },
    "479430ba95674011b9bc0853cadb8ada": {
     "model_module": "@jupyter-widgets/controls",
     "model_module_version": "1.5.0",
     "model_name": "HTMLModel",
     "state": {
      "_dom_classes": [],
      "_model_module": "@jupyter-widgets/controls",
      "_model_module_version": "1.5.0",
      "_model_name": "HTMLModel",
      "_view_count": null,
      "_view_module": "@jupyter-widgets/controls",
      "_view_module_version": "1.5.0",
      "_view_name": "HTMLView",
      "description": "",
      "description_tooltip": null,
      "layout": "IPY_MODEL_02c843f228fa4606bfe8aca02d804f7b",
      "placeholder": "​",
      "style": "IPY_MODEL_1b54e38963c84979ad2c3a5094010e00",
      "value": " 466k/466k [00:00&lt;00:00, 6.33MB/s]"
     }
    },
    "4c47fb5afa16445f9eb9b52f99e0a802": {
     "model_module": "@jupyter-widgets/base",
     "model_module_version": "1.2.0",
     "model_name": "LayoutModel",
     "state": {
      "_model_module": "@jupyter-widgets/base",
      "_model_module_version": "1.2.0",
      "_model_name": "LayoutModel",
      "_view_count": null,
      "_view_module": "@jupyter-widgets/base",
      "_view_module_version": "1.2.0",
      "_view_name": "LayoutView",
      "align_content": null,
      "align_items": null,
      "align_self": null,
      "border": null,
      "bottom": null,
      "display": null,
      "flex": null,
      "flex_flow": null,
      "grid_area": null,
      "grid_auto_columns": null,
      "grid_auto_flow": null,
      "grid_auto_rows": null,
      "grid_column": null,
      "grid_gap": null,
      "grid_row": null,
      "grid_template_areas": null,
      "grid_template_columns": null,
      "grid_template_rows": null,
      "height": null,
      "justify_content": null,
      "justify_items": null,
      "left": null,
      "margin": null,
      "max_height": null,
      "max_width": null,
      "min_height": null,
      "min_width": null,
      "object_fit": null,
      "object_position": null,
      "order": null,
      "overflow": null,
      "overflow_x": null,
      "overflow_y": null,
      "padding": null,
      "right": null,
      "top": null,
      "visibility": null,
      "width": null
     }
    },
    "4ccd03f0fcac48fca522ce30504499e8": {
     "model_module": "@jupyter-widgets/controls",
     "model_module_version": "1.5.0",
     "model_name": "HTMLModel",
     "state": {
      "_dom_classes": [],
      "_model_module": "@jupyter-widgets/controls",
      "_model_module_version": "1.5.0",
      "_model_name": "HTMLModel",
      "_view_count": null,
      "_view_module": "@jupyter-widgets/controls",
      "_view_module_version": "1.5.0",
      "_view_name": "HTMLView",
      "description": "",
      "description_tooltip": null,
      "layout": "IPY_MODEL_3bf3682a316244728dec3dabfaf4c222",
      "placeholder": "​",
      "style": "IPY_MODEL_a8f27d9079e4476783775b395dd191d5",
      "value": " 499M/499M [00:05&lt;00:00, 141MB/s]"
     }
    },
    "4d8b471d99114104a069b63649f14be0": {
     "model_module": "@jupyter-widgets/base",
     "model_module_version": "1.2.0",
     "model_name": "LayoutModel",
     "state": {
      "_model_module": "@jupyter-widgets/base",
      "_model_module_version": "1.2.0",
      "_model_name": "LayoutModel",
      "_view_count": null,
      "_view_module": "@jupyter-widgets/base",
      "_view_module_version": "1.2.0",
      "_view_name": "LayoutView",
      "align_content": null,
      "align_items": null,
      "align_self": null,
      "border": null,
      "bottom": null,
      "display": null,
      "flex": null,
      "flex_flow": null,
      "grid_area": null,
      "grid_auto_columns": null,
      "grid_auto_flow": null,
      "grid_auto_rows": null,
      "grid_column": null,
      "grid_gap": null,
      "grid_row": null,
      "grid_template_areas": null,
      "grid_template_columns": null,
      "grid_template_rows": null,
      "height": null,
      "justify_content": null,
      "justify_items": null,
      "left": null,
      "margin": null,
      "max_height": null,
      "max_width": null,
      "min_height": null,
      "min_width": null,
      "object_fit": null,
      "object_position": null,
      "order": null,
      "overflow": null,
      "overflow_x": null,
      "overflow_y": null,
      "padding": null,
      "right": null,
      "top": null,
      "visibility": null,
      "width": null
     }
    },
    "4f671ccc73f94e689c93bc374e75c0fd": {
     "model_module": "@jupyter-widgets/base",
     "model_module_version": "1.2.0",
     "model_name": "LayoutModel",
     "state": {
      "_model_module": "@jupyter-widgets/base",
      "_model_module_version": "1.2.0",
      "_model_name": "LayoutModel",
      "_view_count": null,
      "_view_module": "@jupyter-widgets/base",
      "_view_module_version": "1.2.0",
      "_view_name": "LayoutView",
      "align_content": null,
      "align_items": null,
      "align_self": null,
      "border": null,
      "bottom": null,
      "display": null,
      "flex": null,
      "flex_flow": null,
      "grid_area": null,
      "grid_auto_columns": null,
      "grid_auto_flow": null,
      "grid_auto_rows": null,
      "grid_column": null,
      "grid_gap": null,
      "grid_row": null,
      "grid_template_areas": null,
      "grid_template_columns": null,
      "grid_template_rows": null,
      "height": null,
      "justify_content": null,
      "justify_items": null,
      "left": null,
      "margin": null,
      "max_height": null,
      "max_width": null,
      "min_height": null,
      "min_width": null,
      "object_fit": null,
      "object_position": null,
      "order": null,
      "overflow": null,
      "overflow_x": null,
      "overflow_y": null,
      "padding": null,
      "right": null,
      "top": null,
      "visibility": null,
      "width": null
     }
    },
    "511c7d696b924896b8c0058365d1328a": {
     "model_module": "@jupyter-widgets/base",
     "model_module_version": "1.2.0",
     "model_name": "LayoutModel",
     "state": {
      "_model_module": "@jupyter-widgets/base",
      "_model_module_version": "1.2.0",
      "_model_name": "LayoutModel",
      "_view_count": null,
      "_view_module": "@jupyter-widgets/base",
      "_view_module_version": "1.2.0",
      "_view_name": "LayoutView",
      "align_content": null,
      "align_items": null,
      "align_self": null,
      "border": null,
      "bottom": null,
      "display": null,
      "flex": null,
      "flex_flow": null,
      "grid_area": null,
      "grid_auto_columns": null,
      "grid_auto_flow": null,
      "grid_auto_rows": null,
      "grid_column": null,
      "grid_gap": null,
      "grid_row": null,
      "grid_template_areas": null,
      "grid_template_columns": null,
      "grid_template_rows": null,
      "height": null,
      "justify_content": null,
      "justify_items": null,
      "left": null,
      "margin": null,
      "max_height": null,
      "max_width": null,
      "min_height": null,
      "min_width": null,
      "object_fit": null,
      "object_position": null,
      "order": null,
      "overflow": null,
      "overflow_x": null,
      "overflow_y": null,
      "padding": null,
      "right": null,
      "top": null,
      "visibility": null,
      "width": null
     }
    },
    "517a4bd21b8849e687e960a1735d7943": {
     "model_module": "@jupyter-widgets/base",
     "model_module_version": "1.2.0",
     "model_name": "LayoutModel",
     "state": {
      "_model_module": "@jupyter-widgets/base",
      "_model_module_version": "1.2.0",
      "_model_name": "LayoutModel",
      "_view_count": null,
      "_view_module": "@jupyter-widgets/base",
      "_view_module_version": "1.2.0",
      "_view_name": "LayoutView",
      "align_content": null,
      "align_items": null,
      "align_self": null,
      "border": null,
      "bottom": null,
      "display": null,
      "flex": null,
      "flex_flow": null,
      "grid_area": null,
      "grid_auto_columns": null,
      "grid_auto_flow": null,
      "grid_auto_rows": null,
      "grid_column": null,
      "grid_gap": null,
      "grid_row": null,
      "grid_template_areas": null,
      "grid_template_columns": null,
      "grid_template_rows": null,
      "height": null,
      "justify_content": null,
      "justify_items": null,
      "left": null,
      "margin": null,
      "max_height": null,
      "max_width": null,
      "min_height": null,
      "min_width": null,
      "object_fit": null,
      "object_position": null,
      "order": null,
      "overflow": null,
      "overflow_x": null,
      "overflow_y": null,
      "padding": null,
      "right": null,
      "top": null,
      "visibility": null,
      "width": null
     }
    },
    "549184666a82486f90da1d3592b03d5c": {
     "model_module": "@jupyter-widgets/controls",
     "model_module_version": "1.5.0",
     "model_name": "HTMLModel",
     "state": {
      "_dom_classes": [],
      "_model_module": "@jupyter-widgets/controls",
      "_model_module_version": "1.5.0",
      "_model_name": "HTMLModel",
      "_view_count": null,
      "_view_module": "@jupyter-widgets/controls",
      "_view_module_version": "1.5.0",
      "_view_name": "HTMLView",
      "description": "",
      "description_tooltip": null,
      "layout": "IPY_MODEL_323605bcc56d47f9a8a3b986c030afb3",
      "placeholder": "​",
      "style": "IPY_MODEL_796743d110da41d2bd45443c0e86eab2",
      "value": " 483/483 [00:00&lt;00:00, 37.1kB/s]"
     }
    },
    "55795bf3434746f9855f62332dba7854": {
     "model_module": "@jupyter-widgets/controls",
     "model_module_version": "1.5.0",
     "model_name": "HTMLModel",
     "state": {
      "_dom_classes": [],
      "_model_module": "@jupyter-widgets/controls",
      "_model_module_version": "1.5.0",
      "_model_name": "HTMLModel",
      "_view_count": null,
      "_view_module": "@jupyter-widgets/controls",
      "_view_module_version": "1.5.0",
      "_view_name": "HTMLView",
      "description": "",
      "description_tooltip": null,
      "layout": "IPY_MODEL_4d8b471d99114104a069b63649f14be0",
      "placeholder": "​",
      "style": "IPY_MODEL_1c87ff694f5a46be820c4a7902c30fad",
      "value": "vocab.txt: 100%"
     }
    },
    "562190e44d0443299c2aaa89ffd88903": {
     "model_module": "@jupyter-widgets/controls",
     "model_module_version": "1.5.0",
     "model_name": "FloatProgressModel",
     "state": {
      "_dom_classes": [],
      "_model_module": "@jupyter-widgets/controls",
      "_model_module_version": "1.5.0",
      "_model_name": "FloatProgressModel",
      "_view_count": null,
      "_view_module": "@jupyter-widgets/controls",
      "_view_module_version": "1.5.0",
      "_view_name": "ProgressView",
      "bar_style": "success",
      "description": "",
      "description_tooltip": null,
      "layout": "IPY_MODEL_4f671ccc73f94e689c93bc374e75c0fd",
      "max": 440449768,
      "min": 0,
      "orientation": "horizontal",
      "style": "IPY_MODEL_d670dc7fb81f4edf8326e9b36f099fcd",
      "value": 440449768
     }
    },
    "5975f40d336c434f834e4a81fce20e18": {
     "model_module": "@jupyter-widgets/controls",
     "model_module_version": "1.5.0",
     "model_name": "FloatProgressModel",
     "state": {
      "_dom_classes": [],
      "_model_module": "@jupyter-widgets/controls",
      "_model_module_version": "1.5.0",
      "_model_name": "FloatProgressModel",
      "_view_count": null,
      "_view_module": "@jupyter-widgets/controls",
      "_view_module_version": "1.5.0",
      "_view_name": "ProgressView",
      "bar_style": "success",
      "description": "",
      "description_tooltip": null,
      "layout": "IPY_MODEL_a01f6df227394e15b0e56ec0ad1ad954",
      "max": 483,
      "min": 0,
      "orientation": "horizontal",
      "style": "IPY_MODEL_a067a48336b342f7a1e91337af08d5e2",
      "value": 483
     }
    },
    "5a7cc19efb0e4cb4bf1de47bd6487a70": {
     "model_module": "@jupyter-widgets/controls",
     "model_module_version": "1.5.0",
     "model_name": "HTMLModel",
     "state": {
      "_dom_classes": [],
      "_model_module": "@jupyter-widgets/controls",
      "_model_module_version": "1.5.0",
      "_model_name": "HTMLModel",
      "_view_count": null,
      "_view_module": "@jupyter-widgets/controls",
      "_view_module_version": "1.5.0",
      "_view_name": "HTMLView",
      "description": "",
      "description_tooltip": null,
      "layout": "IPY_MODEL_f4865f1eb5d041c39b3ee25bfc7324ab",
      "placeholder": "​",
      "style": "IPY_MODEL_7092802e0e4b4924ba49c9c546c13f95",
      "value": " 232k/232k [00:00&lt;00:00, 2.15MB/s]"
     }
    },
    "5afaaf1edb1b41e28543fb3f27e33da6": {
     "model_module": "@jupyter-widgets/base",
     "model_module_version": "1.2.0",
     "model_name": "LayoutModel",
     "state": {
      "_model_module": "@jupyter-widgets/base",
      "_model_module_version": "1.2.0",
      "_model_name": "LayoutModel",
      "_view_count": null,
      "_view_module": "@jupyter-widgets/base",
      "_view_module_version": "1.2.0",
      "_view_name": "LayoutView",
      "align_content": null,
      "align_items": null,
      "align_self": null,
      "border": null,
      "bottom": null,
      "display": null,
      "flex": null,
      "flex_flow": null,
      "grid_area": null,
      "grid_auto_columns": null,
      "grid_auto_flow": null,
      "grid_auto_rows": null,
      "grid_column": null,
      "grid_gap": null,
      "grid_row": null,
      "grid_template_areas": null,
      "grid_template_columns": null,
      "grid_template_rows": null,
      "height": null,
      "justify_content": null,
      "justify_items": null,
      "left": null,
      "margin": null,
      "max_height": null,
      "max_width": null,
      "min_height": null,
      "min_width": null,
      "object_fit": null,
      "object_position": null,
      "order": null,
      "overflow": null,
      "overflow_x": null,
      "overflow_y": null,
      "padding": null,
      "right": null,
      "top": null,
      "visibility": null,
      "width": null
     }
    },
    "5d155f8b6bda4be9a01b5ea4c96f5e52": {
     "model_module": "@jupyter-widgets/base",
     "model_module_version": "1.2.0",
     "model_name": "LayoutModel",
     "state": {
      "_model_module": "@jupyter-widgets/base",
      "_model_module_version": "1.2.0",
      "_model_name": "LayoutModel",
      "_view_count": null,
      "_view_module": "@jupyter-widgets/base",
      "_view_module_version": "1.2.0",
      "_view_name": "LayoutView",
      "align_content": null,
      "align_items": null,
      "align_self": null,
      "border": null,
      "bottom": null,
      "display": null,
      "flex": null,
      "flex_flow": null,
      "grid_area": null,
      "grid_auto_columns": null,
      "grid_auto_flow": null,
      "grid_auto_rows": null,
      "grid_column": null,
      "grid_gap": null,
      "grid_row": null,
      "grid_template_areas": null,
      "grid_template_columns": null,
      "grid_template_rows": null,
      "height": null,
      "justify_content": null,
      "justify_items": null,
      "left": null,
      "margin": null,
      "max_height": null,
      "max_width": null,
      "min_height": null,
      "min_width": null,
      "object_fit": null,
      "object_position": null,
      "order": null,
      "overflow": null,
      "overflow_x": null,
      "overflow_y": null,
      "padding": null,
      "right": null,
      "top": null,
      "visibility": null,
      "width": null
     }
    },
    "5d2117efd3ae4e2fb8cdc73aef001afc": {
     "model_module": "@jupyter-widgets/base",
     "model_module_version": "1.2.0",
     "model_name": "LayoutModel",
     "state": {
      "_model_module": "@jupyter-widgets/base",
      "_model_module_version": "1.2.0",
      "_model_name": "LayoutModel",
      "_view_count": null,
      "_view_module": "@jupyter-widgets/base",
      "_view_module_version": "1.2.0",
      "_view_name": "LayoutView",
      "align_content": null,
      "align_items": null,
      "align_self": null,
      "border": null,
      "bottom": null,
      "display": null,
      "flex": null,
      "flex_flow": null,
      "grid_area": null,
      "grid_auto_columns": null,
      "grid_auto_flow": null,
      "grid_auto_rows": null,
      "grid_column": null,
      "grid_gap": null,
      "grid_row": null,
      "grid_template_areas": null,
      "grid_template_columns": null,
      "grid_template_rows": null,
      "height": null,
      "justify_content": null,
      "justify_items": null,
      "left": null,
      "margin": null,
      "max_height": null,
      "max_width": null,
      "min_height": null,
      "min_width": null,
      "object_fit": null,
      "object_position": null,
      "order": null,
      "overflow": null,
      "overflow_x": null,
      "overflow_y": null,
      "padding": null,
      "right": null,
      "top": null,
      "visibility": null,
      "width": null
     }
    },
    "5f2390a368474e969c77ab9c8565447d": {
     "model_module": "@jupyter-widgets/controls",
     "model_module_version": "1.5.0",
     "model_name": "HTMLModel",
     "state": {
      "_dom_classes": [],
      "_model_module": "@jupyter-widgets/controls",
      "_model_module_version": "1.5.0",
      "_model_name": "HTMLModel",
      "_view_count": null,
      "_view_module": "@jupyter-widgets/controls",
      "_view_module_version": "1.5.0",
      "_view_name": "HTMLView",
      "description": "",
      "description_tooltip": null,
      "layout": "IPY_MODEL_0eb9d74710b74c79876cd328485b87a7",
      "placeholder": "​",
      "style": "IPY_MODEL_a52eecad31724d89bccad0377e60c411",
      "value": " 570/570 [00:00&lt;00:00, 49.6kB/s]"
     }
    },
    "630a25f829814da295829a89232af300": {
     "model_module": "@jupyter-widgets/controls",
     "model_module_version": "1.5.0",
     "model_name": "FloatProgressModel",
     "state": {
      "_dom_classes": [],
      "_model_module": "@jupyter-widgets/controls",
      "_model_module_version": "1.5.0",
      "_model_name": "FloatProgressModel",
      "_view_count": null,
      "_view_module": "@jupyter-widgets/controls",
      "_view_module_version": "1.5.0",
      "_view_name": "ProgressView",
      "bar_style": "success",
      "description": "",
      "description_tooltip": null,
      "layout": "IPY_MODEL_17d2addf7ccd4cd2812065b94f4022b6",
      "max": 231508,
      "min": 0,
      "orientation": "horizontal",
      "style": "IPY_MODEL_1c4ed11de0b6442f94832973db8423af",
      "value": 231508
     }
    },
    "632784898709438fb1cb4b410fa8c2b6": {
     "model_module": "@jupyter-widgets/controls",
     "model_module_version": "1.5.0",
     "model_name": "HTMLModel",
     "state": {
      "_dom_classes": [],
      "_model_module": "@jupyter-widgets/controls",
      "_model_module_version": "1.5.0",
      "_model_name": "HTMLModel",
      "_view_count": null,
      "_view_module": "@jupyter-widgets/controls",
      "_view_module_version": "1.5.0",
      "_view_name": "HTMLView",
      "description": "",
      "description_tooltip": null,
      "layout": "IPY_MODEL_435180c4bbe94927bb409e320ce3f55a",
      "placeholder": "​",
      "style": "IPY_MODEL_635511e0909e4bb5ae4ba06aae416f68",
      "value": " 570/570 [00:00&lt;00:00, 39.5kB/s]"
     }
    },
    "635511e0909e4bb5ae4ba06aae416f68": {
     "model_module": "@jupyter-widgets/controls",
     "model_module_version": "1.5.0",
     "model_name": "DescriptionStyleModel",
     "state": {
      "_model_module": "@jupyter-widgets/controls",
      "_model_module_version": "1.5.0",
      "_model_name": "DescriptionStyleModel",
      "_view_count": null,
      "_view_module": "@jupyter-widgets/base",
      "_view_module_version": "1.2.0",
      "_view_name": "StyleView",
      "description_width": ""
     }
    },
    "652b88f7efcf4091b9663ac6094db87a": {
     "model_module": "@jupyter-widgets/base",
     "model_module_version": "1.2.0",
     "model_name": "LayoutModel",
     "state": {
      "_model_module": "@jupyter-widgets/base",
      "_model_module_version": "1.2.0",
      "_model_name": "LayoutModel",
      "_view_count": null,
      "_view_module": "@jupyter-widgets/base",
      "_view_module_version": "1.2.0",
      "_view_name": "LayoutView",
      "align_content": null,
      "align_items": null,
      "align_self": null,
      "border": null,
      "bottom": null,
      "display": null,
      "flex": null,
      "flex_flow": null,
      "grid_area": null,
      "grid_auto_columns": null,
      "grid_auto_flow": null,
      "grid_auto_rows": null,
      "grid_column": null,
      "grid_gap": null,
      "grid_row": null,
      "grid_template_areas": null,
      "grid_template_columns": null,
      "grid_template_rows": null,
      "height": null,
      "justify_content": null,
      "justify_items": null,
      "left": null,
      "margin": null,
      "max_height": null,
      "max_width": null,
      "min_height": null,
      "min_width": null,
      "object_fit": null,
      "object_position": null,
      "order": null,
      "overflow": null,
      "overflow_x": null,
      "overflow_y": null,
      "padding": null,
      "right": null,
      "top": null,
      "visibility": null,
      "width": null
     }
    },
    "68300b53ac1b46ac8208577e64ef207d": {
     "model_module": "@jupyter-widgets/base",
     "model_module_version": "1.2.0",
     "model_name": "LayoutModel",
     "state": {
      "_model_module": "@jupyter-widgets/base",
      "_model_module_version": "1.2.0",
      "_model_name": "LayoutModel",
      "_view_count": null,
      "_view_module": "@jupyter-widgets/base",
      "_view_module_version": "1.2.0",
      "_view_name": "LayoutView",
      "align_content": null,
      "align_items": null,
      "align_self": null,
      "border": null,
      "bottom": null,
      "display": null,
      "flex": null,
      "flex_flow": null,
      "grid_area": null,
      "grid_auto_columns": null,
      "grid_auto_flow": null,
      "grid_auto_rows": null,
      "grid_column": null,
      "grid_gap": null,
      "grid_row": null,
      "grid_template_areas": null,
      "grid_template_columns": null,
      "grid_template_rows": null,
      "height": null,
      "justify_content": null,
      "justify_items": null,
      "left": null,
      "margin": null,
      "max_height": null,
      "max_width": null,
      "min_height": null,
      "min_width": null,
      "object_fit": null,
      "object_position": null,
      "order": null,
      "overflow": null,
      "overflow_x": null,
      "overflow_y": null,
      "padding": null,
      "right": null,
      "top": null,
      "visibility": null,
      "width": null
     }
    },
    "68ad83b7dd5b4a8daed828ad668279a8": {
     "model_module": "@jupyter-widgets/controls",
     "model_module_version": "1.5.0",
     "model_name": "DescriptionStyleModel",
     "state": {
      "_model_module": "@jupyter-widgets/controls",
      "_model_module_version": "1.5.0",
      "_model_name": "DescriptionStyleModel",
      "_view_count": null,
      "_view_module": "@jupyter-widgets/base",
      "_view_module_version": "1.2.0",
      "_view_name": "StyleView",
      "description_width": ""
     }
    },
    "697624538e394ef28476ab689d11ded9": {
     "model_module": "@jupyter-widgets/base",
     "model_module_version": "1.2.0",
     "model_name": "LayoutModel",
     "state": {
      "_model_module": "@jupyter-widgets/base",
      "_model_module_version": "1.2.0",
      "_model_name": "LayoutModel",
      "_view_count": null,
      "_view_module": "@jupyter-widgets/base",
      "_view_module_version": "1.2.0",
      "_view_name": "LayoutView",
      "align_content": null,
      "align_items": null,
      "align_self": null,
      "border": null,
      "bottom": null,
      "display": null,
      "flex": null,
      "flex_flow": null,
      "grid_area": null,
      "grid_auto_columns": null,
      "grid_auto_flow": null,
      "grid_auto_rows": null,
      "grid_column": null,
      "grid_gap": null,
      "grid_row": null,
      "grid_template_areas": null,
      "grid_template_columns": null,
      "grid_template_rows": null,
      "height": null,
      "justify_content": null,
      "justify_items": null,
      "left": null,
      "margin": null,
      "max_height": null,
      "max_width": null,
      "min_height": null,
      "min_width": null,
      "object_fit": null,
      "object_position": null,
      "order": null,
      "overflow": null,
      "overflow_x": null,
      "overflow_y": null,
      "padding": null,
      "right": null,
      "top": null,
      "visibility": null,
      "width": null
     }
    },
    "6e369e28553046a19ebb2eda93571942": {
     "model_module": "@jupyter-widgets/base",
     "model_module_version": "1.2.0",
     "model_name": "LayoutModel",
     "state": {
      "_model_module": "@jupyter-widgets/base",
      "_model_module_version": "1.2.0",
      "_model_name": "LayoutModel",
      "_view_count": null,
      "_view_module": "@jupyter-widgets/base",
      "_view_module_version": "1.2.0",
      "_view_name": "LayoutView",
      "align_content": null,
      "align_items": null,
      "align_self": null,
      "border": null,
      "bottom": null,
      "display": null,
      "flex": null,
      "flex_flow": null,
      "grid_area": null,
      "grid_auto_columns": null,
      "grid_auto_flow": null,
      "grid_auto_rows": null,
      "grid_column": null,
      "grid_gap": null,
      "grid_row": null,
      "grid_template_areas": null,
      "grid_template_columns": null,
      "grid_template_rows": null,
      "height": null,
      "justify_content": null,
      "justify_items": null,
      "left": null,
      "margin": null,
      "max_height": null,
      "max_width": null,
      "min_height": null,
      "min_width": null,
      "object_fit": null,
      "object_position": null,
      "order": null,
      "overflow": null,
      "overflow_x": null,
      "overflow_y": null,
      "padding": null,
      "right": null,
      "top": null,
      "visibility": null,
      "width": null
     }
    },
    "7092802e0e4b4924ba49c9c546c13f95": {
     "model_module": "@jupyter-widgets/controls",
     "model_module_version": "1.5.0",
     "model_name": "DescriptionStyleModel",
     "state": {
      "_model_module": "@jupyter-widgets/controls",
      "_model_module_version": "1.5.0",
      "_model_name": "DescriptionStyleModel",
      "_view_count": null,
      "_view_module": "@jupyter-widgets/base",
      "_view_module_version": "1.2.0",
      "_view_name": "StyleView",
      "description_width": ""
     }
    },
    "72fd8354b8b34b558eaee5bdc6e94bab": {
     "model_module": "@jupyter-widgets/controls",
     "model_module_version": "1.5.0",
     "model_name": "HTMLModel",
     "state": {
      "_dom_classes": [],
      "_model_module": "@jupyter-widgets/controls",
      "_model_module_version": "1.5.0",
      "_model_name": "HTMLModel",
      "_view_count": null,
      "_view_module": "@jupyter-widgets/controls",
      "_view_module_version": "1.5.0",
      "_view_name": "HTMLView",
      "description": "",
      "description_tooltip": null,
      "layout": "IPY_MODEL_f96e67d9ef4f4f72bfe6c739bbd64822",
      "placeholder": "​",
      "style": "IPY_MODEL_013bc9447913496e830c783ba450706a",
      "value": " 268M/268M [00:03&lt;00:00, 38.2MB/s]"
     }
    },
    "73a56e43dc1b49579479a38434142427": {
     "model_module": "@jupyter-widgets/controls",
     "model_module_version": "1.5.0",
     "model_name": "DescriptionStyleModel",
     "state": {
      "_model_module": "@jupyter-widgets/controls",
      "_model_module_version": "1.5.0",
      "_model_name": "DescriptionStyleModel",
      "_view_count": null,
      "_view_module": "@jupyter-widgets/base",
      "_view_module_version": "1.2.0",
      "_view_name": "StyleView",
      "description_width": ""
     }
    },
    "74ada9da62564cbab7506a278431cafe": {
     "model_module": "@jupyter-widgets/controls",
     "model_module_version": "1.5.0",
     "model_name": "ProgressStyleModel",
     "state": {
      "_model_module": "@jupyter-widgets/controls",
      "_model_module_version": "1.5.0",
      "_model_name": "ProgressStyleModel",
      "_view_count": null,
      "_view_module": "@jupyter-widgets/base",
      "_view_module_version": "1.2.0",
      "_view_name": "StyleView",
      "bar_color": null,
      "description_width": ""
     }
    },
    "781dfad7937740389bbd19bfd7932357": {
     "model_module": "@jupyter-widgets/controls",
     "model_module_version": "1.5.0",
     "model_name": "HBoxModel",
     "state": {
      "_dom_classes": [],
      "_model_module": "@jupyter-widgets/controls",
      "_model_module_version": "1.5.0",
      "_model_name": "HBoxModel",
      "_view_count": null,
      "_view_module": "@jupyter-widgets/controls",
      "_view_module_version": "1.5.0",
      "_view_name": "HBoxView",
      "box_style": "",
      "children": [
       "IPY_MODEL_ae8f56736e0149e184cdb3278694a0b2",
       "IPY_MODEL_5975f40d336c434f834e4a81fce20e18",
       "IPY_MODEL_549184666a82486f90da1d3592b03d5c"
      ],
      "layout": "IPY_MODEL_14895266fbf849159c5dc2ae17221319"
     }
    },
    "796743d110da41d2bd45443c0e86eab2": {
     "model_module": "@jupyter-widgets/controls",
     "model_module_version": "1.5.0",
     "model_name": "DescriptionStyleModel",
     "state": {
      "_model_module": "@jupyter-widgets/controls",
      "_model_module_version": "1.5.0",
      "_model_name": "DescriptionStyleModel",
      "_view_count": null,
      "_view_module": "@jupyter-widgets/base",
      "_view_module_version": "1.2.0",
      "_view_name": "StyleView",
      "description_width": ""
     }
    },
    "7a78a491690f48a4adbe89a57d194ab1": {
     "model_module": "@jupyter-widgets/controls",
     "model_module_version": "1.5.0",
     "model_name": "DescriptionStyleModel",
     "state": {
      "_model_module": "@jupyter-widgets/controls",
      "_model_module_version": "1.5.0",
      "_model_name": "DescriptionStyleModel",
      "_view_count": null,
      "_view_module": "@jupyter-widgets/base",
      "_view_module_version": "1.2.0",
      "_view_name": "StyleView",
      "description_width": ""
     }
    },
    "7b45926cb59c45059cec69404179fb33": {
     "model_module": "@jupyter-widgets/controls",
     "model_module_version": "1.5.0",
     "model_name": "DescriptionStyleModel",
     "state": {
      "_model_module": "@jupyter-widgets/controls",
      "_model_module_version": "1.5.0",
      "_model_name": "DescriptionStyleModel",
      "_view_count": null,
      "_view_module": "@jupyter-widgets/base",
      "_view_module_version": "1.2.0",
      "_view_name": "StyleView",
      "description_width": ""
     }
    },
    "7b71cb2ea5e74e15b2ea0c89fe766cae": {
     "model_module": "@jupyter-widgets/controls",
     "model_module_version": "1.5.0",
     "model_name": "HBoxModel",
     "state": {
      "_dom_classes": [],
      "_model_module": "@jupyter-widgets/controls",
      "_model_module_version": "1.5.0",
      "_model_name": "HBoxModel",
      "_view_count": null,
      "_view_module": "@jupyter-widgets/controls",
      "_view_module_version": "1.5.0",
      "_view_name": "HBoxView",
      "box_style": "",
      "children": [
       "IPY_MODEL_fa0d3d1f0475473eb8ad8d45d0aa7f43",
       "IPY_MODEL_ce04540a67d049efb2106df8f34e0e42",
       "IPY_MODEL_4ccd03f0fcac48fca522ce30504499e8"
      ],
      "layout": "IPY_MODEL_1dbb64778fec4544895ab718ec0e6dd2"
     }
    },
    "7e4c1afa28884596856bd17b481f463d": {
     "model_module": "@jupyter-widgets/base",
     "model_module_version": "1.2.0",
     "model_name": "LayoutModel",
     "state": {
      "_model_module": "@jupyter-widgets/base",
      "_model_module_version": "1.2.0",
      "_model_name": "LayoutModel",
      "_view_count": null,
      "_view_module": "@jupyter-widgets/base",
      "_view_module_version": "1.2.0",
      "_view_name": "LayoutView",
      "align_content": null,
      "align_items": null,
      "align_self": null,
      "border": null,
      "bottom": null,
      "display": null,
      "flex": null,
      "flex_flow": null,
      "grid_area": null,
      "grid_auto_columns": null,
      "grid_auto_flow": null,
      "grid_auto_rows": null,
      "grid_column": null,
      "grid_gap": null,
      "grid_row": null,
      "grid_template_areas": null,
      "grid_template_columns": null,
      "grid_template_rows": null,
      "height": null,
      "justify_content": null,
      "justify_items": null,
      "left": null,
      "margin": null,
      "max_height": null,
      "max_width": null,
      "min_height": null,
      "min_width": null,
      "object_fit": null,
      "object_position": null,
      "order": null,
      "overflow": null,
      "overflow_x": null,
      "overflow_y": null,
      "padding": null,
      "right": null,
      "top": null,
      "visibility": null,
      "width": null
     }
    },
    "844f1191f1d44eeaab9ece0d2bc1eaae": {
     "model_module": "@jupyter-widgets/base",
     "model_module_version": "1.2.0",
     "model_name": "LayoutModel",
     "state": {
      "_model_module": "@jupyter-widgets/base",
      "_model_module_version": "1.2.0",
      "_model_name": "LayoutModel",
      "_view_count": null,
      "_view_module": "@jupyter-widgets/base",
      "_view_module_version": "1.2.0",
      "_view_name": "LayoutView",
      "align_content": null,
      "align_items": null,
      "align_self": null,
      "border": null,
      "bottom": null,
      "display": null,
      "flex": null,
      "flex_flow": null,
      "grid_area": null,
      "grid_auto_columns": null,
      "grid_auto_flow": null,
      "grid_auto_rows": null,
      "grid_column": null,
      "grid_gap": null,
      "grid_row": null,
      "grid_template_areas": null,
      "grid_template_columns": null,
      "grid_template_rows": null,
      "height": null,
      "justify_content": null,
      "justify_items": null,
      "left": null,
      "margin": null,
      "max_height": null,
      "max_width": null,
      "min_height": null,
      "min_width": null,
      "object_fit": null,
      "object_position": null,
      "order": null,
      "overflow": null,
      "overflow_x": null,
      "overflow_y": null,
      "padding": null,
      "right": null,
      "top": null,
      "visibility": null,
      "width": null
     }
    },
    "8472019920e64181b54135df4c172b74": {
     "model_module": "@jupyter-widgets/controls",
     "model_module_version": "1.5.0",
     "model_name": "ProgressStyleModel",
     "state": {
      "_model_module": "@jupyter-widgets/controls",
      "_model_module_version": "1.5.0",
      "_model_name": "ProgressStyleModel",
      "_view_count": null,
      "_view_module": "@jupyter-widgets/base",
      "_view_module_version": "1.2.0",
      "_view_name": "StyleView",
      "bar_color": null,
      "description_width": ""
     }
    },
    "8cca0fc0246244288941d9b317be7fce": {
     "model_module": "@jupyter-widgets/controls",
     "model_module_version": "1.5.0",
     "model_name": "DescriptionStyleModel",
     "state": {
      "_model_module": "@jupyter-widgets/controls",
      "_model_module_version": "1.5.0",
      "_model_name": "DescriptionStyleModel",
      "_view_count": null,
      "_view_module": "@jupyter-widgets/base",
      "_view_module_version": "1.2.0",
      "_view_name": "StyleView",
      "description_width": ""
     }
    },
    "905be83c826f459982307054e50da139": {
     "model_module": "@jupyter-widgets/base",
     "model_module_version": "1.2.0",
     "model_name": "LayoutModel",
     "state": {
      "_model_module": "@jupyter-widgets/base",
      "_model_module_version": "1.2.0",
      "_model_name": "LayoutModel",
      "_view_count": null,
      "_view_module": "@jupyter-widgets/base",
      "_view_module_version": "1.2.0",
      "_view_name": "LayoutView",
      "align_content": null,
      "align_items": null,
      "align_self": null,
      "border": null,
      "bottom": null,
      "display": null,
      "flex": null,
      "flex_flow": null,
      "grid_area": null,
      "grid_auto_columns": null,
      "grid_auto_flow": null,
      "grid_auto_rows": null,
      "grid_column": null,
      "grid_gap": null,
      "grid_row": null,
      "grid_template_areas": null,
      "grid_template_columns": null,
      "grid_template_rows": null,
      "height": null,
      "justify_content": null,
      "justify_items": null,
      "left": null,
      "margin": null,
      "max_height": null,
      "max_width": null,
      "min_height": null,
      "min_width": null,
      "object_fit": null,
      "object_position": null,
      "order": null,
      "overflow": null,
      "overflow_x": null,
      "overflow_y": null,
      "padding": null,
      "right": null,
      "top": null,
      "visibility": null,
      "width": null
     }
    },
    "9249fcbe9f3d49c0a0735a89c67b61be": {
     "model_module": "@jupyter-widgets/base",
     "model_module_version": "1.2.0",
     "model_name": "LayoutModel",
     "state": {
      "_model_module": "@jupyter-widgets/base",
      "_model_module_version": "1.2.0",
      "_model_name": "LayoutModel",
      "_view_count": null,
      "_view_module": "@jupyter-widgets/base",
      "_view_module_version": "1.2.0",
      "_view_name": "LayoutView",
      "align_content": null,
      "align_items": null,
      "align_self": null,
      "border": null,
      "bottom": null,
      "display": null,
      "flex": null,
      "flex_flow": null,
      "grid_area": null,
      "grid_auto_columns": null,
      "grid_auto_flow": null,
      "grid_auto_rows": null,
      "grid_column": null,
      "grid_gap": null,
      "grid_row": null,
      "grid_template_areas": null,
      "grid_template_columns": null,
      "grid_template_rows": null,
      "height": null,
      "justify_content": null,
      "justify_items": null,
      "left": null,
      "margin": null,
      "max_height": null,
      "max_width": null,
      "min_height": null,
      "min_width": null,
      "object_fit": null,
      "object_position": null,
      "order": null,
      "overflow": null,
      "overflow_x": null,
      "overflow_y": null,
      "padding": null,
      "right": null,
      "top": null,
      "visibility": null,
      "width": null
     }
    },
    "925820fb37cd40bbbe9a1d9af825a026": {
     "model_module": "@jupyter-widgets/controls",
     "model_module_version": "1.5.0",
     "model_name": "HBoxModel",
     "state": {
      "_dom_classes": [],
      "_model_module": "@jupyter-widgets/controls",
      "_model_module_version": "1.5.0",
      "_model_name": "HBoxModel",
      "_view_count": null,
      "_view_module": "@jupyter-widgets/controls",
      "_view_module_version": "1.5.0",
      "_view_name": "HBoxView",
      "box_style": "",
      "children": [
       "IPY_MODEL_bc213134c18147199427bca64f2e7121",
       "IPY_MODEL_33a7a231dfa6492cbb2b09ed5b7afce4",
       "IPY_MODEL_327f43c3422d480285499e663617fa8c"
      ],
      "layout": "IPY_MODEL_9b2f39fbda4a4fc2858dc9f584c765b3"
     }
    },
    "926d09adba524c03942c32f6dbceeca5": {
     "model_module": "@jupyter-widgets/controls",
     "model_module_version": "1.5.0",
     "model_name": "DescriptionStyleModel",
     "state": {
      "_model_module": "@jupyter-widgets/controls",
      "_model_module_version": "1.5.0",
      "_model_name": "DescriptionStyleModel",
      "_view_count": null,
      "_view_module": "@jupyter-widgets/base",
      "_view_module_version": "1.2.0",
      "_view_name": "StyleView",
      "description_width": ""
     }
    },
    "967469fee8da44539fcc82be2e4224e3": {
     "model_module": "@jupyter-widgets/controls",
     "model_module_version": "1.5.0",
     "model_name": "HTMLModel",
     "state": {
      "_dom_classes": [],
      "_model_module": "@jupyter-widgets/controls",
      "_model_module_version": "1.5.0",
      "_model_name": "HTMLModel",
      "_view_count": null,
      "_view_module": "@jupyter-widgets/controls",
      "_view_module_version": "1.5.0",
      "_view_name": "HTMLView",
      "description": "",
      "description_tooltip": null,
      "layout": "IPY_MODEL_055df568fb4749a2af8acee154481b44",
      "placeholder": "​",
      "style": "IPY_MODEL_d9109fcca6e54c4780b0234bd4ba775c",
      "value": "vocab.txt: 100%"
     }
    },
    "972f588e54364a2e9fdf6c116e3ab0b3": {
     "model_module": "@jupyter-widgets/base",
     "model_module_version": "1.2.0",
     "model_name": "LayoutModel",
     "state": {
      "_model_module": "@jupyter-widgets/base",
      "_model_module_version": "1.2.0",
      "_model_name": "LayoutModel",
      "_view_count": null,
      "_view_module": "@jupyter-widgets/base",
      "_view_module_version": "1.2.0",
      "_view_name": "LayoutView",
      "align_content": null,
      "align_items": null,
      "align_self": null,
      "border": null,
      "bottom": null,
      "display": null,
      "flex": null,
      "flex_flow": null,
      "grid_area": null,
      "grid_auto_columns": null,
      "grid_auto_flow": null,
      "grid_auto_rows": null,
      "grid_column": null,
      "grid_gap": null,
      "grid_row": null,
      "grid_template_areas": null,
      "grid_template_columns": null,
      "grid_template_rows": null,
      "height": null,
      "justify_content": null,
      "justify_items": null,
      "left": null,
      "margin": null,
      "max_height": null,
      "max_width": null,
      "min_height": null,
      "min_width": null,
      "object_fit": null,
      "object_position": null,
      "order": null,
      "overflow": null,
      "overflow_x": null,
      "overflow_y": null,
      "padding": null,
      "right": null,
      "top": null,
      "visibility": null,
      "width": null
     }
    },
    "9854334c0e8c479ca9dd1161f18cd179": {
     "model_module": "@jupyter-widgets/controls",
     "model_module_version": "1.5.0",
     "model_name": "ProgressStyleModel",
     "state": {
      "_model_module": "@jupyter-widgets/controls",
      "_model_module_version": "1.5.0",
      "_model_name": "ProgressStyleModel",
      "_view_count": null,
      "_view_module": "@jupyter-widgets/base",
      "_view_module_version": "1.2.0",
      "_view_name": "StyleView",
      "bar_color": null,
      "description_width": ""
     }
    },
    "9af90131889d488d8f0874a14a158754": {
     "model_module": "@jupyter-widgets/controls",
     "model_module_version": "1.5.0",
     "model_name": "HBoxModel",
     "state": {
      "_dom_classes": [],
      "_model_module": "@jupyter-widgets/controls",
      "_model_module_version": "1.5.0",
      "_model_name": "HBoxModel",
      "_view_count": null,
      "_view_module": "@jupyter-widgets/controls",
      "_view_module_version": "1.5.0",
      "_view_name": "HBoxView",
      "box_style": "",
      "children": [
       "IPY_MODEL_054c75dc82ee45a696c5cd44070a6d23",
       "IPY_MODEL_562190e44d0443299c2aaa89ffd88903",
       "IPY_MODEL_c6acd761dd9e40ee9402792ac2431008"
      ],
      "layout": "IPY_MODEL_1e1becac052a4575994a8463cdd3a30d"
     }
    },
    "9b2f39fbda4a4fc2858dc9f584c765b3": {
     "model_module": "@jupyter-widgets/base",
     "model_module_version": "1.2.0",
     "model_name": "LayoutModel",
     "state": {
      "_model_module": "@jupyter-widgets/base",
      "_model_module_version": "1.2.0",
      "_model_name": "LayoutModel",
      "_view_count": null,
      "_view_module": "@jupyter-widgets/base",
      "_view_module_version": "1.2.0",
      "_view_name": "LayoutView",
      "align_content": null,
      "align_items": null,
      "align_self": null,
      "border": null,
      "bottom": null,
      "display": null,
      "flex": null,
      "flex_flow": null,
      "grid_area": null,
      "grid_auto_columns": null,
      "grid_auto_flow": null,
      "grid_auto_rows": null,
      "grid_column": null,
      "grid_gap": null,
      "grid_row": null,
      "grid_template_areas": null,
      "grid_template_columns": null,
      "grid_template_rows": null,
      "height": null,
      "justify_content": null,
      "justify_items": null,
      "left": null,
      "margin": null,
      "max_height": null,
      "max_width": null,
      "min_height": null,
      "min_width": null,
      "object_fit": null,
      "object_position": null,
      "order": null,
      "overflow": null,
      "overflow_x": null,
      "overflow_y": null,
      "padding": null,
      "right": null,
      "top": null,
      "visibility": null,
      "width": null
     }
    },
    "9b7b734c4c984b40a49cde384e647fcb": {
     "model_module": "@jupyter-widgets/controls",
     "model_module_version": "1.5.0",
     "model_name": "HTMLModel",
     "state": {
      "_dom_classes": [],
      "_model_module": "@jupyter-widgets/controls",
      "_model_module_version": "1.5.0",
      "_model_name": "HTMLModel",
      "_view_count": null,
      "_view_module": "@jupyter-widgets/controls",
      "_view_module_version": "1.5.0",
      "_view_name": "HTMLView",
      "description": "",
      "description_tooltip": null,
      "layout": "IPY_MODEL_b1468e3f33e143ddb9675a590f8c8d81",
      "placeholder": "​",
      "style": "IPY_MODEL_fd1972e82ae94190bed1c80ec1824e70",
      "value": "model.safetensors: 100%"
     }
    },
    "9c04d8b6b3464c4b840e83d9f2eae716": {
     "model_module": "@jupyter-widgets/controls",
     "model_module_version": "1.5.0",
     "model_name": "FloatProgressModel",
     "state": {
      "_dom_classes": [],
      "_model_module": "@jupyter-widgets/controls",
      "_model_module_version": "1.5.0",
      "_model_name": "FloatProgressModel",
      "_view_count": null,
      "_view_module": "@jupyter-widgets/controls",
      "_view_module_version": "1.5.0",
      "_view_name": "ProgressView",
      "bar_style": "success",
      "description": "",
      "description_tooltip": null,
      "layout": "IPY_MODEL_fb1c3543614a4d599ef96e7547ce65e1",
      "max": 48,
      "min": 0,
      "orientation": "horizontal",
      "style": "IPY_MODEL_b8747e7f4e4c4719956e9aebdc41eefa",
      "value": 48
     }
    },
    "9c6deea58d83461d878a008dbaf013c3": {
     "model_module": "@jupyter-widgets/controls",
     "model_module_version": "1.5.0",
     "model_name": "DescriptionStyleModel",
     "state": {
      "_model_module": "@jupyter-widgets/controls",
      "_model_module_version": "1.5.0",
      "_model_name": "DescriptionStyleModel",
      "_view_count": null,
      "_view_module": "@jupyter-widgets/base",
      "_view_module_version": "1.2.0",
      "_view_name": "StyleView",
      "description_width": ""
     }
    },
    "9f551c6006c24647914b71ff63818f3a": {
     "model_module": "@jupyter-widgets/base",
     "model_module_version": "1.2.0",
     "model_name": "LayoutModel",
     "state": {
      "_model_module": "@jupyter-widgets/base",
      "_model_module_version": "1.2.0",
      "_model_name": "LayoutModel",
      "_view_count": null,
      "_view_module": "@jupyter-widgets/base",
      "_view_module_version": "1.2.0",
      "_view_name": "LayoutView",
      "align_content": null,
      "align_items": null,
      "align_self": null,
      "border": null,
      "bottom": null,
      "display": null,
      "flex": null,
      "flex_flow": null,
      "grid_area": null,
      "grid_auto_columns": null,
      "grid_auto_flow": null,
      "grid_auto_rows": null,
      "grid_column": null,
      "grid_gap": null,
      "grid_row": null,
      "grid_template_areas": null,
      "grid_template_columns": null,
      "grid_template_rows": null,
      "height": null,
      "justify_content": null,
      "justify_items": null,
      "left": null,
      "margin": null,
      "max_height": null,
      "max_width": null,
      "min_height": null,
      "min_width": null,
      "object_fit": null,
      "object_position": null,
      "order": null,
      "overflow": null,
      "overflow_x": null,
      "overflow_y": null,
      "padding": null,
      "right": null,
      "top": null,
      "visibility": null,
      "width": null
     }
    },
    "a009512cc6e24b899f26b6afa07db041": {
     "model_module": "@jupyter-widgets/base",
     "model_module_version": "1.2.0",
     "model_name": "LayoutModel",
     "state": {
      "_model_module": "@jupyter-widgets/base",
      "_model_module_version": "1.2.0",
      "_model_name": "LayoutModel",
      "_view_count": null,
      "_view_module": "@jupyter-widgets/base",
      "_view_module_version": "1.2.0",
      "_view_name": "LayoutView",
      "align_content": null,
      "align_items": null,
      "align_self": null,
      "border": null,
      "bottom": null,
      "display": null,
      "flex": null,
      "flex_flow": null,
      "grid_area": null,
      "grid_auto_columns": null,
      "grid_auto_flow": null,
      "grid_auto_rows": null,
      "grid_column": null,
      "grid_gap": null,
      "grid_row": null,
      "grid_template_areas": null,
      "grid_template_columns": null,
      "grid_template_rows": null,
      "height": null,
      "justify_content": null,
      "justify_items": null,
      "left": null,
      "margin": null,
      "max_height": null,
      "max_width": null,
      "min_height": null,
      "min_width": null,
      "object_fit": null,
      "object_position": null,
      "order": null,
      "overflow": null,
      "overflow_x": null,
      "overflow_y": null,
      "padding": null,
      "right": null,
      "top": null,
      "visibility": null,
      "width": null
     }
    },
    "a01f6df227394e15b0e56ec0ad1ad954": {
     "model_module": "@jupyter-widgets/base",
     "model_module_version": "1.2.0",
     "model_name": "LayoutModel",
     "state": {
      "_model_module": "@jupyter-widgets/base",
      "_model_module_version": "1.2.0",
      "_model_name": "LayoutModel",
      "_view_count": null,
      "_view_module": "@jupyter-widgets/base",
      "_view_module_version": "1.2.0",
      "_view_name": "LayoutView",
      "align_content": null,
      "align_items": null,
      "align_self": null,
      "border": null,
      "bottom": null,
      "display": null,
      "flex": null,
      "flex_flow": null,
      "grid_area": null,
      "grid_auto_columns": null,
      "grid_auto_flow": null,
      "grid_auto_rows": null,
      "grid_column": null,
      "grid_gap": null,
      "grid_row": null,
      "grid_template_areas": null,
      "grid_template_columns": null,
      "grid_template_rows": null,
      "height": null,
      "justify_content": null,
      "justify_items": null,
      "left": null,
      "margin": null,
      "max_height": null,
      "max_width": null,
      "min_height": null,
      "min_width": null,
      "object_fit": null,
      "object_position": null,
      "order": null,
      "overflow": null,
      "overflow_x": null,
      "overflow_y": null,
      "padding": null,
      "right": null,
      "top": null,
      "visibility": null,
      "width": null
     }
    },
    "a045f6e753e84b2898774880115f4aba": {
     "model_module": "@jupyter-widgets/controls",
     "model_module_version": "1.5.0",
     "model_name": "FloatProgressModel",
     "state": {
      "_dom_classes": [],
      "_model_module": "@jupyter-widgets/controls",
      "_model_module_version": "1.5.0",
      "_model_name": "FloatProgressModel",
      "_view_count": null,
      "_view_module": "@jupyter-widgets/controls",
      "_view_module_version": "1.5.0",
      "_view_name": "ProgressView",
      "bar_style": "success",
      "description": "",
      "description_tooltip": null,
      "layout": "IPY_MODEL_018b353ddaee49dbac7da0dd33690137",
      "max": 466062,
      "min": 0,
      "orientation": "horizontal",
      "style": "IPY_MODEL_06c2db7c9ddc4a4b8665e43bfc3bc25f",
      "value": 466062
     }
    },
    "a067a48336b342f7a1e91337af08d5e2": {
     "model_module": "@jupyter-widgets/controls",
     "model_module_version": "1.5.0",
     "model_name": "ProgressStyleModel",
     "state": {
      "_model_module": "@jupyter-widgets/controls",
      "_model_module_version": "1.5.0",
      "_model_name": "ProgressStyleModel",
      "_view_count": null,
      "_view_module": "@jupyter-widgets/base",
      "_view_module_version": "1.2.0",
      "_view_name": "StyleView",
      "bar_color": null,
      "description_width": ""
     }
    },
    "a17119e5a551486b8c793eea6922833d": {
     "model_module": "@jupyter-widgets/controls",
     "model_module_version": "1.5.0",
     "model_name": "HTMLModel",
     "state": {
      "_dom_classes": [],
      "_model_module": "@jupyter-widgets/controls",
      "_model_module_version": "1.5.0",
      "_model_name": "HTMLModel",
      "_view_count": null,
      "_view_module": "@jupyter-widgets/controls",
      "_view_module_version": "1.5.0",
      "_view_name": "HTMLView",
      "description": "",
      "description_tooltip": null,
      "layout": "IPY_MODEL_434486c96d854a75829a5f996ae8a9e6",
      "placeholder": "​",
      "style": "IPY_MODEL_30656c81626e41b1b6992ce89c260c19",
      "value": "tokenizer.json: 100%"
     }
    },
    "a4a012e3311e4373ab814f9acd59e98f": {
     "model_module": "@jupyter-widgets/controls",
     "model_module_version": "1.5.0",
     "model_name": "HTMLModel",
     "state": {
      "_dom_classes": [],
      "_model_module": "@jupyter-widgets/controls",
      "_model_module_version": "1.5.0",
      "_model_name": "HTMLModel",
      "_view_count": null,
      "_view_module": "@jupyter-widgets/controls",
      "_view_module_version": "1.5.0",
      "_view_name": "HTMLView",
      "description": "",
      "description_tooltip": null,
      "layout": "IPY_MODEL_148ad2102bb943e6b91b9e85fe0632ea",
      "placeholder": "​",
      "style": "IPY_MODEL_d7e7d470984a4c96a4e2675aabda7233",
      "value": "tokenizer.json: 100%"
     }
    },
    "a52eecad31724d89bccad0377e60c411": {
     "model_module": "@jupyter-widgets/controls",
     "model_module_version": "1.5.0",
     "model_name": "DescriptionStyleModel",
     "state": {
      "_model_module": "@jupyter-widgets/controls",
      "_model_module_version": "1.5.0",
      "_model_name": "DescriptionStyleModel",
      "_view_count": null,
      "_view_module": "@jupyter-widgets/base",
      "_view_module_version": "1.2.0",
      "_view_name": "StyleView",
      "description_width": ""
     }
    },
    "a767d94583ab4fc299859f595125b690": {
     "model_module": "@jupyter-widgets/controls",
     "model_module_version": "1.5.0",
     "model_name": "HBoxModel",
     "state": {
      "_dom_classes": [],
      "_model_module": "@jupyter-widgets/controls",
      "_model_module_version": "1.5.0",
      "_model_name": "HBoxModel",
      "_view_count": null,
      "_view_module": "@jupyter-widgets/controls",
      "_view_module_version": "1.5.0",
      "_view_name": "HBoxView",
      "box_style": "",
      "children": [
       "IPY_MODEL_9b7b734c4c984b40a49cde384e647fcb",
       "IPY_MODEL_cb38196350264dca8b3c5b30e6bc770d",
       "IPY_MODEL_fa6e51b6af7a46b592e599ff2a0d759c"
      ],
      "layout": "IPY_MODEL_ba2a31dfa2604f3ab8520e10b751c0ae"
     }
    },
    "a7e323bd6d9a44679f806ad857d088d4": {
     "model_module": "@jupyter-widgets/controls",
     "model_module_version": "1.5.0",
     "model_name": "FloatProgressModel",
     "state": {
      "_dom_classes": [],
      "_model_module": "@jupyter-widgets/controls",
      "_model_module_version": "1.5.0",
      "_model_name": "FloatProgressModel",
      "_view_count": null,
      "_view_module": "@jupyter-widgets/controls",
      "_view_module_version": "1.5.0",
      "_view_name": "ProgressView",
      "bar_style": "success",
      "description": "",
      "description_tooltip": null,
      "layout": "IPY_MODEL_844f1191f1d44eeaab9ece0d2bc1eaae",
      "max": 481,
      "min": 0,
      "orientation": "horizontal",
      "style": "IPY_MODEL_8472019920e64181b54135df4c172b74",
      "value": 481
     }
    },
    "a8f27d9079e4476783775b395dd191d5": {
     "model_module": "@jupyter-widgets/controls",
     "model_module_version": "1.5.0",
     "model_name": "DescriptionStyleModel",
     "state": {
      "_model_module": "@jupyter-widgets/controls",
      "_model_module_version": "1.5.0",
      "_model_name": "DescriptionStyleModel",
      "_view_count": null,
      "_view_module": "@jupyter-widgets/base",
      "_view_module_version": "1.2.0",
      "_view_name": "StyleView",
      "description_width": ""
     }
    },
    "abb6f235e02a4e94bf4148ee0f2119ef": {
     "model_module": "@jupyter-widgets/controls",
     "model_module_version": "1.5.0",
     "model_name": "ProgressStyleModel",
     "state": {
      "_model_module": "@jupyter-widgets/controls",
      "_model_module_version": "1.5.0",
      "_model_name": "ProgressStyleModel",
      "_view_count": null,
      "_view_module": "@jupyter-widgets/base",
      "_view_module_version": "1.2.0",
      "_view_name": "StyleView",
      "bar_color": null,
      "description_width": ""
     }
    },
    "ae6f87445cc44e079dfee0a484e7c03d": {
     "model_module": "@jupyter-widgets/controls",
     "model_module_version": "1.5.0",
     "model_name": "HBoxModel",
     "state": {
      "_dom_classes": [],
      "_model_module": "@jupyter-widgets/controls",
      "_model_module_version": "1.5.0",
      "_model_name": "HBoxModel",
      "_view_count": null,
      "_view_module": "@jupyter-widgets/controls",
      "_view_module_version": "1.5.0",
      "_view_name": "HBoxView",
      "box_style": "",
      "children": [
       "IPY_MODEL_a17119e5a551486b8c793eea6922833d",
       "IPY_MODEL_a045f6e753e84b2898774880115f4aba",
       "IPY_MODEL_479430ba95674011b9bc0853cadb8ada"
      ],
      "layout": "IPY_MODEL_68300b53ac1b46ac8208577e64ef207d"
     }
    },
    "ae8f56736e0149e184cdb3278694a0b2": {
     "model_module": "@jupyter-widgets/controls",
     "model_module_version": "1.5.0",
     "model_name": "HTMLModel",
     "state": {
      "_dom_classes": [],
      "_model_module": "@jupyter-widgets/controls",
      "_model_module_version": "1.5.0",
      "_model_name": "HTMLModel",
      "_view_count": null,
      "_view_module": "@jupyter-widgets/controls",
      "_view_module_version": "1.5.0",
      "_view_name": "HTMLView",
      "description": "",
      "description_tooltip": null,
      "layout": "IPY_MODEL_f1e4b0b7ac48460da09f859ca201d3c7",
      "placeholder": "​",
      "style": "IPY_MODEL_42abac64ffd24dfdaa9970396f8c9341",
      "value": "config.json: 100%"
     }
    },
    "b0439106a17542ed8718260327455976": {
     "model_module": "@jupyter-widgets/controls",
     "model_module_version": "1.5.0",
     "model_name": "DescriptionStyleModel",
     "state": {
      "_model_module": "@jupyter-widgets/controls",
      "_model_module_version": "1.5.0",
      "_model_name": "DescriptionStyleModel",
      "_view_count": null,
      "_view_module": "@jupyter-widgets/base",
      "_view_module_version": "1.2.0",
      "_view_name": "StyleView",
      "description_width": ""
     }
    },
    "b1468e3f33e143ddb9675a590f8c8d81": {
     "model_module": "@jupyter-widgets/base",
     "model_module_version": "1.2.0",
     "model_name": "LayoutModel",
     "state": {
      "_model_module": "@jupyter-widgets/base",
      "_model_module_version": "1.2.0",
      "_model_name": "LayoutModel",
      "_view_count": null,
      "_view_module": "@jupyter-widgets/base",
      "_view_module_version": "1.2.0",
      "_view_name": "LayoutView",
      "align_content": null,
      "align_items": null,
      "align_self": null,
      "border": null,
      "bottom": null,
      "display": null,
      "flex": null,
      "flex_flow": null,
      "grid_area": null,
      "grid_auto_columns": null,
      "grid_auto_flow": null,
      "grid_auto_rows": null,
      "grid_column": null,
      "grid_gap": null,
      "grid_row": null,
      "grid_template_areas": null,
      "grid_template_columns": null,
      "grid_template_rows": null,
      "height": null,
      "justify_content": null,
      "justify_items": null,
      "left": null,
      "margin": null,
      "max_height": null,
      "max_width": null,
      "min_height": null,
      "min_width": null,
      "object_fit": null,
      "object_position": null,
      "order": null,
      "overflow": null,
      "overflow_x": null,
      "overflow_y": null,
      "padding": null,
      "right": null,
      "top": null,
      "visibility": null,
      "width": null
     }
    },
    "b8747e7f4e4c4719956e9aebdc41eefa": {
     "model_module": "@jupyter-widgets/controls",
     "model_module_version": "1.5.0",
     "model_name": "ProgressStyleModel",
     "state": {
      "_model_module": "@jupyter-widgets/controls",
      "_model_module_version": "1.5.0",
      "_model_name": "ProgressStyleModel",
      "_view_count": null,
      "_view_module": "@jupyter-widgets/base",
      "_view_module_version": "1.2.0",
      "_view_name": "StyleView",
      "bar_color": null,
      "description_width": ""
     }
    },
    "b89291cc4f9b40b787fdea857459b834": {
     "model_module": "@jupyter-widgets/controls",
     "model_module_version": "1.5.0",
     "model_name": "FloatProgressModel",
     "state": {
      "_dom_classes": [],
      "_model_module": "@jupyter-widgets/controls",
      "_model_module_version": "1.5.0",
      "_model_name": "FloatProgressModel",
      "_view_count": null,
      "_view_module": "@jupyter-widgets/controls",
      "_view_module_version": "1.5.0",
      "_view_name": "ProgressView",
      "bar_style": "success",
      "description": "",
      "description_tooltip": null,
      "layout": "IPY_MODEL_5d155f8b6bda4be9a01b5ea4c96f5e52",
      "max": 267954768,
      "min": 0,
      "orientation": "horizontal",
      "style": "IPY_MODEL_3a0b957531284e3097e07194f636d8ff",
      "value": 267954768
     }
    },
    "ba2a31dfa2604f3ab8520e10b751c0ae": {
     "model_module": "@jupyter-widgets/base",
     "model_module_version": "1.2.0",
     "model_name": "LayoutModel",
     "state": {
      "_model_module": "@jupyter-widgets/base",
      "_model_module_version": "1.2.0",
      "_model_name": "LayoutModel",
      "_view_count": null,
      "_view_module": "@jupyter-widgets/base",
      "_view_module_version": "1.2.0",
      "_view_name": "LayoutView",
      "align_content": null,
      "align_items": null,
      "align_self": null,
      "border": null,
      "bottom": null,
      "display": null,
      "flex": null,
      "flex_flow": null,
      "grid_area": null,
      "grid_auto_columns": null,
      "grid_auto_flow": null,
      "grid_auto_rows": null,
      "grid_column": null,
      "grid_gap": null,
      "grid_row": null,
      "grid_template_areas": null,
      "grid_template_columns": null,
      "grid_template_rows": null,
      "height": null,
      "justify_content": null,
      "justify_items": null,
      "left": null,
      "margin": null,
      "max_height": null,
      "max_width": null,
      "min_height": null,
      "min_width": null,
      "object_fit": null,
      "object_position": null,
      "order": null,
      "overflow": null,
      "overflow_x": null,
      "overflow_y": null,
      "padding": null,
      "right": null,
      "top": null,
      "visibility": null,
      "width": null
     }
    },
    "bb3c8e0619694b418339adf8c9efce04": {
     "model_module": "@jupyter-widgets/base",
     "model_module_version": "1.2.0",
     "model_name": "LayoutModel",
     "state": {
      "_model_module": "@jupyter-widgets/base",
      "_model_module_version": "1.2.0",
      "_model_name": "LayoutModel",
      "_view_count": null,
      "_view_module": "@jupyter-widgets/base",
      "_view_module_version": "1.2.0",
      "_view_name": "LayoutView",
      "align_content": null,
      "align_items": null,
      "align_self": null,
      "border": null,
      "bottom": null,
      "display": null,
      "flex": null,
      "flex_flow": null,
      "grid_area": null,
      "grid_auto_columns": null,
      "grid_auto_flow": null,
      "grid_auto_rows": null,
      "grid_column": null,
      "grid_gap": null,
      "grid_row": null,
      "grid_template_areas": null,
      "grid_template_columns": null,
      "grid_template_rows": null,
      "height": null,
      "justify_content": null,
      "justify_items": null,
      "left": null,
      "margin": null,
      "max_height": null,
      "max_width": null,
      "min_height": null,
      "min_width": null,
      "object_fit": null,
      "object_position": null,
      "order": null,
      "overflow": null,
      "overflow_x": null,
      "overflow_y": null,
      "padding": null,
      "right": null,
      "top": null,
      "visibility": null,
      "width": null
     }
    },
    "bc213134c18147199427bca64f2e7121": {
     "model_module": "@jupyter-widgets/controls",
     "model_module_version": "1.5.0",
     "model_name": "HTMLModel",
     "state": {
      "_dom_classes": [],
      "_model_module": "@jupyter-widgets/controls",
      "_model_module_version": "1.5.0",
      "_model_name": "HTMLModel",
      "_view_count": null,
      "_view_module": "@jupyter-widgets/controls",
      "_view_module_version": "1.5.0",
      "_view_name": "HTMLView",
      "description": "",
      "description_tooltip": null,
      "layout": "IPY_MODEL_000a2bf1ca9c4c359bf176915ec8a0f4",
      "placeholder": "​",
      "style": "IPY_MODEL_7b45926cb59c45059cec69404179fb33",
      "value": "tokenizer_config.json: 100%"
     }
    },
    "bfc1db9f8af94afbbe5bc69b6943f8c6": {
     "model_module": "@jupyter-widgets/base",
     "model_module_version": "1.2.0",
     "model_name": "LayoutModel",
     "state": {
      "_model_module": "@jupyter-widgets/base",
      "_model_module_version": "1.2.0",
      "_model_name": "LayoutModel",
      "_view_count": null,
      "_view_module": "@jupyter-widgets/base",
      "_view_module_version": "1.2.0",
      "_view_name": "LayoutView",
      "align_content": null,
      "align_items": null,
      "align_self": null,
      "border": null,
      "bottom": null,
      "display": null,
      "flex": null,
      "flex_flow": null,
      "grid_area": null,
      "grid_auto_columns": null,
      "grid_auto_flow": null,
      "grid_auto_rows": null,
      "grid_column": null,
      "grid_gap": null,
      "grid_row": null,
      "grid_template_areas": null,
      "grid_template_columns": null,
      "grid_template_rows": null,
      "height": null,
      "justify_content": null,
      "justify_items": null,
      "left": null,
      "margin": null,
      "max_height": null,
      "max_width": null,
      "min_height": null,
      "min_width": null,
      "object_fit": null,
      "object_position": null,
      "order": null,
      "overflow": null,
      "overflow_x": null,
      "overflow_y": null,
      "padding": null,
      "right": null,
      "top": null,
      "visibility": null,
      "width": null
     }
    },
    "c43c2abd676a4d639670962e97e86448": {
     "model_module": "@jupyter-widgets/controls",
     "model_module_version": "1.5.0",
     "model_name": "HTMLModel",
     "state": {
      "_dom_classes": [],
      "_model_module": "@jupyter-widgets/controls",
      "_model_module_version": "1.5.0",
      "_model_name": "HTMLModel",
      "_view_count": null,
      "_view_module": "@jupyter-widgets/controls",
      "_view_module_version": "1.5.0",
      "_view_name": "HTMLView",
      "description": "",
      "description_tooltip": null,
      "layout": "IPY_MODEL_6e369e28553046a19ebb2eda93571942",
      "placeholder": "​",
      "style": "IPY_MODEL_c454bbf318514f1289b49791af6c4e83",
      "value": "model.safetensors: 100%"
     }
    },
    "c454bbf318514f1289b49791af6c4e83": {
     "model_module": "@jupyter-widgets/controls",
     "model_module_version": "1.5.0",
     "model_name": "DescriptionStyleModel",
     "state": {
      "_model_module": "@jupyter-widgets/controls",
      "_model_module_version": "1.5.0",
      "_model_name": "DescriptionStyleModel",
      "_view_count": null,
      "_view_module": "@jupyter-widgets/base",
      "_view_module_version": "1.2.0",
      "_view_name": "StyleView",
      "description_width": ""
     }
    },
    "c5775816b83c44a7a3b9ad4c2795fdb2": {
     "model_module": "@jupyter-widgets/controls",
     "model_module_version": "1.5.0",
     "model_name": "DescriptionStyleModel",
     "state": {
      "_model_module": "@jupyter-widgets/controls",
      "_model_module_version": "1.5.0",
      "_model_name": "DescriptionStyleModel",
      "_view_count": null,
      "_view_module": "@jupyter-widgets/base",
      "_view_module_version": "1.2.0",
      "_view_name": "StyleView",
      "description_width": ""
     }
    },
    "c6acd761dd9e40ee9402792ac2431008": {
     "model_module": "@jupyter-widgets/controls",
     "model_module_version": "1.5.0",
     "model_name": "HTMLModel",
     "state": {
      "_dom_classes": [],
      "_model_module": "@jupyter-widgets/controls",
      "_model_module_version": "1.5.0",
      "_model_name": "HTMLModel",
      "_view_count": null,
      "_view_module": "@jupyter-widgets/controls",
      "_view_module_version": "1.5.0",
      "_view_name": "HTMLView",
      "description": "",
      "description_tooltip": null,
      "layout": "IPY_MODEL_3e852ed9ef8b4c45ac733a3d326ce58a",
      "placeholder": "​",
      "style": "IPY_MODEL_8cca0fc0246244288941d9b317be7fce",
      "value": " 440M/440M [00:01&lt;00:00, 280MB/s]"
     }
    },
    "c6afe2a41bcf4b2494a612093ddfa044": {
     "model_module": "@jupyter-widgets/base",
     "model_module_version": "1.2.0",
     "model_name": "LayoutModel",
     "state": {
      "_model_module": "@jupyter-widgets/base",
      "_model_module_version": "1.2.0",
      "_model_name": "LayoutModel",
      "_view_count": null,
      "_view_module": "@jupyter-widgets/base",
      "_view_module_version": "1.2.0",
      "_view_name": "LayoutView",
      "align_content": null,
      "align_items": null,
      "align_self": null,
      "border": null,
      "bottom": null,
      "display": null,
      "flex": null,
      "flex_flow": null,
      "grid_area": null,
      "grid_auto_columns": null,
      "grid_auto_flow": null,
      "grid_auto_rows": null,
      "grid_column": null,
      "grid_gap": null,
      "grid_row": null,
      "grid_template_areas": null,
      "grid_template_columns": null,
      "grid_template_rows": null,
      "height": null,
      "justify_content": null,
      "justify_items": null,
      "left": null,
      "margin": null,
      "max_height": null,
      "max_width": null,
      "min_height": null,
      "min_width": null,
      "object_fit": null,
      "object_position": null,
      "order": null,
      "overflow": null,
      "overflow_x": null,
      "overflow_y": null,
      "padding": null,
      "right": null,
      "top": null,
      "visibility": null,
      "width": null
     }
    },
    "cb38196350264dca8b3c5b30e6bc770d": {
     "model_module": "@jupyter-widgets/controls",
     "model_module_version": "1.5.0",
     "model_name": "FloatProgressModel",
     "state": {
      "_dom_classes": [],
      "_model_module": "@jupyter-widgets/controls",
      "_model_module_version": "1.5.0",
      "_model_name": "FloatProgressModel",
      "_view_count": null,
      "_view_module": "@jupyter-widgets/controls",
      "_view_module_version": "1.5.0",
      "_view_name": "ProgressView",
      "bar_style": "success",
      "description": "",
      "description_tooltip": null,
      "layout": "IPY_MODEL_bb3c8e0619694b418339adf8c9efce04",
      "max": 440449768,
      "min": 0,
      "orientation": "horizontal",
      "style": "IPY_MODEL_f0fc6c2452404865a32efb23f2f94c25",
      "value": 440449768
     }
    },
    "ce04540a67d049efb2106df8f34e0e42": {
     "model_module": "@jupyter-widgets/controls",
     "model_module_version": "1.5.0",
     "model_name": "FloatProgressModel",
     "state": {
      "_dom_classes": [],
      "_model_module": "@jupyter-widgets/controls",
      "_model_module_version": "1.5.0",
      "_model_name": "FloatProgressModel",
      "_view_count": null,
      "_view_module": "@jupyter-widgets/controls",
      "_view_module_version": "1.5.0",
      "_view_name": "ProgressView",
      "bar_style": "success",
      "description": "",
      "description_tooltip": null,
      "layout": "IPY_MODEL_0414c68cf9674cb0a71b74fb3dfd3c5c",
      "max": 498818054,
      "min": 0,
      "orientation": "horizontal",
      "style": "IPY_MODEL_9854334c0e8c479ca9dd1161f18cd179",
      "value": 498818054
     }
    },
    "d668d0f753c04f88ad439d372d9f7853": {
     "model_module": "@jupyter-widgets/base",
     "model_module_version": "1.2.0",
     "model_name": "LayoutModel",
     "state": {
      "_model_module": "@jupyter-widgets/base",
      "_model_module_version": "1.2.0",
      "_model_name": "LayoutModel",
      "_view_count": null,
      "_view_module": "@jupyter-widgets/base",
      "_view_module_version": "1.2.0",
      "_view_name": "LayoutView",
      "align_content": null,
      "align_items": null,
      "align_self": null,
      "border": null,
      "bottom": null,
      "display": null,
      "flex": null,
      "flex_flow": null,
      "grid_area": null,
      "grid_auto_columns": null,
      "grid_auto_flow": null,
      "grid_auto_rows": null,
      "grid_column": null,
      "grid_gap": null,
      "grid_row": null,
      "grid_template_areas": null,
      "grid_template_columns": null,
      "grid_template_rows": null,
      "height": null,
      "justify_content": null,
      "justify_items": null,
      "left": null,
      "margin": null,
      "max_height": null,
      "max_width": null,
      "min_height": null,
      "min_width": null,
      "object_fit": null,
      "object_position": null,
      "order": null,
      "overflow": null,
      "overflow_x": null,
      "overflow_y": null,
      "padding": null,
      "right": null,
      "top": null,
      "visibility": null,
      "width": null
     }
    },
    "d670dc7fb81f4edf8326e9b36f099fcd": {
     "model_module": "@jupyter-widgets/controls",
     "model_module_version": "1.5.0",
     "model_name": "ProgressStyleModel",
     "state": {
      "_model_module": "@jupyter-widgets/controls",
      "_model_module_version": "1.5.0",
      "_model_name": "ProgressStyleModel",
      "_view_count": null,
      "_view_module": "@jupyter-widgets/base",
      "_view_module_version": "1.2.0",
      "_view_name": "StyleView",
      "bar_color": null,
      "description_width": ""
     }
    },
    "d734d523aa60451faa82eed207fb2fd0": {
     "model_module": "@jupyter-widgets/controls",
     "model_module_version": "1.5.0",
     "model_name": "DescriptionStyleModel",
     "state": {
      "_model_module": "@jupyter-widgets/controls",
      "_model_module_version": "1.5.0",
      "_model_name": "DescriptionStyleModel",
      "_view_count": null,
      "_view_module": "@jupyter-widgets/base",
      "_view_module_version": "1.2.0",
      "_view_name": "StyleView",
      "description_width": ""
     }
    },
    "d7e7d470984a4c96a4e2675aabda7233": {
     "model_module": "@jupyter-widgets/controls",
     "model_module_version": "1.5.0",
     "model_name": "DescriptionStyleModel",
     "state": {
      "_model_module": "@jupyter-widgets/controls",
      "_model_module_version": "1.5.0",
      "_model_name": "DescriptionStyleModel",
      "_view_count": null,
      "_view_module": "@jupyter-widgets/base",
      "_view_module_version": "1.2.0",
      "_view_name": "StyleView",
      "description_width": ""
     }
    },
    "d86039ee030a4db4851297bfb87812de": {
     "model_module": "@jupyter-widgets/controls",
     "model_module_version": "1.5.0",
     "model_name": "FloatProgressModel",
     "state": {
      "_dom_classes": [],
      "_model_module": "@jupyter-widgets/controls",
      "_model_module_version": "1.5.0",
      "_model_name": "FloatProgressModel",
      "_view_count": null,
      "_view_module": "@jupyter-widgets/controls",
      "_view_module_version": "1.5.0",
      "_view_name": "ProgressView",
      "bar_style": "success",
      "description": "",
      "description_tooltip": null,
      "layout": "IPY_MODEL_697624538e394ef28476ab689d11ded9",
      "max": 570,
      "min": 0,
      "orientation": "horizontal",
      "style": "IPY_MODEL_abb6f235e02a4e94bf4148ee0f2119ef",
      "value": 570
     }
    },
    "d9109fcca6e54c4780b0234bd4ba775c": {
     "model_module": "@jupyter-widgets/controls",
     "model_module_version": "1.5.0",
     "model_name": "DescriptionStyleModel",
     "state": {
      "_model_module": "@jupyter-widgets/controls",
      "_model_module_version": "1.5.0",
      "_model_name": "DescriptionStyleModel",
      "_view_count": null,
      "_view_module": "@jupyter-widgets/base",
      "_view_module_version": "1.2.0",
      "_view_name": "StyleView",
      "description_width": ""
     }
    },
    "da0a878afd654c55853233401f32e8ed": {
     "model_module": "@jupyter-widgets/base",
     "model_module_version": "1.2.0",
     "model_name": "LayoutModel",
     "state": {
      "_model_module": "@jupyter-widgets/base",
      "_model_module_version": "1.2.0",
      "_model_name": "LayoutModel",
      "_view_count": null,
      "_view_module": "@jupyter-widgets/base",
      "_view_module_version": "1.2.0",
      "_view_name": "LayoutView",
      "align_content": null,
      "align_items": null,
      "align_self": null,
      "border": null,
      "bottom": null,
      "display": null,
      "flex": null,
      "flex_flow": null,
      "grid_area": null,
      "grid_auto_columns": null,
      "grid_auto_flow": null,
      "grid_auto_rows": null,
      "grid_column": null,
      "grid_gap": null,
      "grid_row": null,
      "grid_template_areas": null,
      "grid_template_columns": null,
      "grid_template_rows": null,
      "height": null,
      "justify_content": null,
      "justify_items": null,
      "left": null,
      "margin": null,
      "max_height": null,
      "max_width": null,
      "min_height": null,
      "min_width": null,
      "object_fit": null,
      "object_position": null,
      "order": null,
      "overflow": null,
      "overflow_x": null,
      "overflow_y": null,
      "padding": null,
      "right": null,
      "top": null,
      "visibility": null,
      "width": null
     }
    },
    "dce0bda21748471f88f13e7241b53a62": {
     "model_module": "@jupyter-widgets/base",
     "model_module_version": "1.2.0",
     "model_name": "LayoutModel",
     "state": {
      "_model_module": "@jupyter-widgets/base",
      "_model_module_version": "1.2.0",
      "_model_name": "LayoutModel",
      "_view_count": null,
      "_view_module": "@jupyter-widgets/base",
      "_view_module_version": "1.2.0",
      "_view_name": "LayoutView",
      "align_content": null,
      "align_items": null,
      "align_self": null,
      "border": null,
      "bottom": null,
      "display": null,
      "flex": null,
      "flex_flow": null,
      "grid_area": null,
      "grid_auto_columns": null,
      "grid_auto_flow": null,
      "grid_auto_rows": null,
      "grid_column": null,
      "grid_gap": null,
      "grid_row": null,
      "grid_template_areas": null,
      "grid_template_columns": null,
      "grid_template_rows": null,
      "height": null,
      "justify_content": null,
      "justify_items": null,
      "left": null,
      "margin": null,
      "max_height": null,
      "max_width": null,
      "min_height": null,
      "min_width": null,
      "object_fit": null,
      "object_position": null,
      "order": null,
      "overflow": null,
      "overflow_x": null,
      "overflow_y": null,
      "padding": null,
      "right": null,
      "top": null,
      "visibility": null,
      "width": null
     }
    },
    "df72cbc55ebe45a08be1dac2df381e98": {
     "model_module": "@jupyter-widgets/base",
     "model_module_version": "1.2.0",
     "model_name": "LayoutModel",
     "state": {
      "_model_module": "@jupyter-widgets/base",
      "_model_module_version": "1.2.0",
      "_model_name": "LayoutModel",
      "_view_count": null,
      "_view_module": "@jupyter-widgets/base",
      "_view_module_version": "1.2.0",
      "_view_name": "LayoutView",
      "align_content": null,
      "align_items": null,
      "align_self": null,
      "border": null,
      "bottom": null,
      "display": null,
      "flex": null,
      "flex_flow": null,
      "grid_area": null,
      "grid_auto_columns": null,
      "grid_auto_flow": null,
      "grid_auto_rows": null,
      "grid_column": null,
      "grid_gap": null,
      "grid_row": null,
      "grid_template_areas": null,
      "grid_template_columns": null,
      "grid_template_rows": null,
      "height": null,
      "justify_content": null,
      "justify_items": null,
      "left": null,
      "margin": null,
      "max_height": null,
      "max_width": null,
      "min_height": null,
      "min_width": null,
      "object_fit": null,
      "object_position": null,
      "order": null,
      "overflow": null,
      "overflow_x": null,
      "overflow_y": null,
      "padding": null,
      "right": null,
      "top": null,
      "visibility": null,
      "width": null
     }
    },
    "e1c9221ad20d439382eeb17a20ef8041": {
     "model_module": "@jupyter-widgets/controls",
     "model_module_version": "1.5.0",
     "model_name": "HBoxModel",
     "state": {
      "_dom_classes": [],
      "_model_module": "@jupyter-widgets/controls",
      "_model_module_version": "1.5.0",
      "_model_name": "HBoxModel",
      "_view_count": null,
      "_view_module": "@jupyter-widgets/controls",
      "_view_module_version": "1.5.0",
      "_view_name": "HBoxView",
      "box_style": "",
      "children": [
       "IPY_MODEL_fbc6cf095e1948769560ca0c12b3857e",
       "IPY_MODEL_d86039ee030a4db4851297bfb87812de",
       "IPY_MODEL_632784898709438fb1cb4b410fa8c2b6"
      ],
      "layout": "IPY_MODEL_21cc3beb739f444db8407d8240e54bf7"
     }
    },
    "e4c4bbab6f4b46c39154b25baa0b5d9a": {
     "model_module": "@jupyter-widgets/base",
     "model_module_version": "1.2.0",
     "model_name": "LayoutModel",
     "state": {
      "_model_module": "@jupyter-widgets/base",
      "_model_module_version": "1.2.0",
      "_model_name": "LayoutModel",
      "_view_count": null,
      "_view_module": "@jupyter-widgets/base",
      "_view_module_version": "1.2.0",
      "_view_name": "LayoutView",
      "align_content": null,
      "align_items": null,
      "align_self": null,
      "border": null,
      "bottom": null,
      "display": null,
      "flex": null,
      "flex_flow": null,
      "grid_area": null,
      "grid_auto_columns": null,
      "grid_auto_flow": null,
      "grid_auto_rows": null,
      "grid_column": null,
      "grid_gap": null,
      "grid_row": null,
      "grid_template_areas": null,
      "grid_template_columns": null,
      "grid_template_rows": null,
      "height": null,
      "justify_content": null,
      "justify_items": null,
      "left": null,
      "margin": null,
      "max_height": null,
      "max_width": null,
      "min_height": null,
      "min_width": null,
      "object_fit": null,
      "object_position": null,
      "order": null,
      "overflow": null,
      "overflow_x": null,
      "overflow_y": null,
      "padding": null,
      "right": null,
      "top": null,
      "visibility": null,
      "width": null
     }
    },
    "ed84e711cd5d45f2ac790018c41866b9": {
     "model_module": "@jupyter-widgets/controls",
     "model_module_version": "1.5.0",
     "model_name": "DescriptionStyleModel",
     "state": {
      "_model_module": "@jupyter-widgets/controls",
      "_model_module_version": "1.5.0",
      "_model_name": "DescriptionStyleModel",
      "_view_count": null,
      "_view_module": "@jupyter-widgets/base",
      "_view_module_version": "1.2.0",
      "_view_name": "StyleView",
      "description_width": ""
     }
    },
    "f045fcffd9024e33aa33db9a17b645d5": {
     "model_module": "@jupyter-widgets/controls",
     "model_module_version": "1.5.0",
     "model_name": "HTMLModel",
     "state": {
      "_dom_classes": [],
      "_model_module": "@jupyter-widgets/controls",
      "_model_module_version": "1.5.0",
      "_model_name": "HTMLModel",
      "_view_count": null,
      "_view_module": "@jupyter-widgets/controls",
      "_view_module_version": "1.5.0",
      "_view_name": "HTMLView",
      "description": "",
      "description_tooltip": null,
      "layout": "IPY_MODEL_e4c4bbab6f4b46c39154b25baa0b5d9a",
      "placeholder": "​",
      "style": "IPY_MODEL_926d09adba524c03942c32f6dbceeca5",
      "value": " 48.0/48.0 [00:00&lt;00:00, 5.07kB/s]"
     }
    },
    "f0fc6c2452404865a32efb23f2f94c25": {
     "model_module": "@jupyter-widgets/controls",
     "model_module_version": "1.5.0",
     "model_name": "ProgressStyleModel",
     "state": {
      "_model_module": "@jupyter-widgets/controls",
      "_model_module_version": "1.5.0",
      "_model_name": "ProgressStyleModel",
      "_view_count": null,
      "_view_module": "@jupyter-widgets/base",
      "_view_module_version": "1.2.0",
      "_view_name": "StyleView",
      "bar_color": null,
      "description_width": ""
     }
    },
    "f161c0b7a70d4b2fb3d2500b03c79240": {
     "model_module": "@jupyter-widgets/controls",
     "model_module_version": "1.5.0",
     "model_name": "HBoxModel",
     "state": {
      "_dom_classes": [],
      "_model_module": "@jupyter-widgets/controls",
      "_model_module_version": "1.5.0",
      "_model_name": "HBoxModel",
      "_view_count": null,
      "_view_module": "@jupyter-widgets/controls",
      "_view_module_version": "1.5.0",
      "_view_name": "HBoxView",
      "box_style": "",
      "children": [
       "IPY_MODEL_2702819bc9ac45f8b758861a74a1bdf6",
       "IPY_MODEL_a7e323bd6d9a44679f806ad857d088d4",
       "IPY_MODEL_0bf965ebcc2244cc80938c2fde0f9fdf"
      ],
      "layout": "IPY_MODEL_4c47fb5afa16445f9eb9b52f99e0a802"
     }
    },
    "f19c97de33f54e778bd4b1fd18cecd65": {
     "model_module": "@jupyter-widgets/controls",
     "model_module_version": "1.5.0",
     "model_name": "DescriptionStyleModel",
     "state": {
      "_model_module": "@jupyter-widgets/controls",
      "_model_module_version": "1.5.0",
      "_model_name": "DescriptionStyleModel",
      "_view_count": null,
      "_view_module": "@jupyter-widgets/base",
      "_view_module_version": "1.2.0",
      "_view_name": "StyleView",
      "description_width": ""
     }
    },
    "f1e4b0b7ac48460da09f859ca201d3c7": {
     "model_module": "@jupyter-widgets/base",
     "model_module_version": "1.2.0",
     "model_name": "LayoutModel",
     "state": {
      "_model_module": "@jupyter-widgets/base",
      "_model_module_version": "1.2.0",
      "_model_name": "LayoutModel",
      "_view_count": null,
      "_view_module": "@jupyter-widgets/base",
      "_view_module_version": "1.2.0",
      "_view_name": "LayoutView",
      "align_content": null,
      "align_items": null,
      "align_self": null,
      "border": null,
      "bottom": null,
      "display": null,
      "flex": null,
      "flex_flow": null,
      "grid_area": null,
      "grid_auto_columns": null,
      "grid_auto_flow": null,
      "grid_auto_rows": null,
      "grid_column": null,
      "grid_gap": null,
      "grid_row": null,
      "grid_template_areas": null,
      "grid_template_columns": null,
      "grid_template_rows": null,
      "height": null,
      "justify_content": null,
      "justify_items": null,
      "left": null,
      "margin": null,
      "max_height": null,
      "max_width": null,
      "min_height": null,
      "min_width": null,
      "object_fit": null,
      "object_position": null,
      "order": null,
      "overflow": null,
      "overflow_x": null,
      "overflow_y": null,
      "padding": null,
      "right": null,
      "top": null,
      "visibility": null,
      "width": null
     }
    },
    "f3942f8cd0f8406ea928a1bc6dcc9477": {
     "model_module": "@jupyter-widgets/controls",
     "model_module_version": "1.5.0",
     "model_name": "HTMLModel",
     "state": {
      "_dom_classes": [],
      "_model_module": "@jupyter-widgets/controls",
      "_model_module_version": "1.5.0",
      "_model_name": "HTMLModel",
      "_view_count": null,
      "_view_module": "@jupyter-widgets/controls",
      "_view_module_version": "1.5.0",
      "_view_name": "HTMLView",
      "description": "",
      "description_tooltip": null,
      "layout": "IPY_MODEL_bfc1db9f8af94afbbe5bc69b6943f8c6",
      "placeholder": "​",
      "style": "IPY_MODEL_d734d523aa60451faa82eed207fb2fd0",
      "value": " 232k/232k [00:00&lt;00:00, 3.10MB/s]"
     }
    },
    "f4865f1eb5d041c39b3ee25bfc7324ab": {
     "model_module": "@jupyter-widgets/base",
     "model_module_version": "1.2.0",
     "model_name": "LayoutModel",
     "state": {
      "_model_module": "@jupyter-widgets/base",
      "_model_module_version": "1.2.0",
      "_model_name": "LayoutModel",
      "_view_count": null,
      "_view_module": "@jupyter-widgets/base",
      "_view_module_version": "1.2.0",
      "_view_name": "LayoutView",
      "align_content": null,
      "align_items": null,
      "align_self": null,
      "border": null,
      "bottom": null,
      "display": null,
      "flex": null,
      "flex_flow": null,
      "grid_area": null,
      "grid_auto_columns": null,
      "grid_auto_flow": null,
      "grid_auto_rows": null,
      "grid_column": null,
      "grid_gap": null,
      "grid_row": null,
      "grid_template_areas": null,
      "grid_template_columns": null,
      "grid_template_rows": null,
      "height": null,
      "justify_content": null,
      "justify_items": null,
      "left": null,
      "margin": null,
      "max_height": null,
      "max_width": null,
      "min_height": null,
      "min_width": null,
      "object_fit": null,
      "object_position": null,
      "order": null,
      "overflow": null,
      "overflow_x": null,
      "overflow_y": null,
      "padding": null,
      "right": null,
      "top": null,
      "visibility": null,
      "width": null
     }
    },
    "f83bd5e6d12f4e48b6095d1ec8f31d63": {
     "model_module": "@jupyter-widgets/base",
     "model_module_version": "1.2.0",
     "model_name": "LayoutModel",
     "state": {
      "_model_module": "@jupyter-widgets/base",
      "_model_module_version": "1.2.0",
      "_model_name": "LayoutModel",
      "_view_count": null,
      "_view_module": "@jupyter-widgets/base",
      "_view_module_version": "1.2.0",
      "_view_name": "LayoutView",
      "align_content": null,
      "align_items": null,
      "align_self": null,
      "border": null,
      "bottom": null,
      "display": null,
      "flex": null,
      "flex_flow": null,
      "grid_area": null,
      "grid_auto_columns": null,
      "grid_auto_flow": null,
      "grid_auto_rows": null,
      "grid_column": null,
      "grid_gap": null,
      "grid_row": null,
      "grid_template_areas": null,
      "grid_template_columns": null,
      "grid_template_rows": null,
      "height": null,
      "justify_content": null,
      "justify_items": null,
      "left": null,
      "margin": null,
      "max_height": null,
      "max_width": null,
      "min_height": null,
      "min_width": null,
      "object_fit": null,
      "object_position": null,
      "order": null,
      "overflow": null,
      "overflow_x": null,
      "overflow_y": null,
      "padding": null,
      "right": null,
      "top": null,
      "visibility": null,
      "width": null
     }
    },
    "f8f904f64b2940cca9898f928a1298e6": {
     "model_module": "@jupyter-widgets/controls",
     "model_module_version": "1.5.0",
     "model_name": "DescriptionStyleModel",
     "state": {
      "_model_module": "@jupyter-widgets/controls",
      "_model_module_version": "1.5.0",
      "_model_name": "DescriptionStyleModel",
      "_view_count": null,
      "_view_module": "@jupyter-widgets/base",
      "_view_module_version": "1.2.0",
      "_view_name": "StyleView",
      "description_width": ""
     }
    },
    "f96e67d9ef4f4f72bfe6c739bbd64822": {
     "model_module": "@jupyter-widgets/base",
     "model_module_version": "1.2.0",
     "model_name": "LayoutModel",
     "state": {
      "_model_module": "@jupyter-widgets/base",
      "_model_module_version": "1.2.0",
      "_model_name": "LayoutModel",
      "_view_count": null,
      "_view_module": "@jupyter-widgets/base",
      "_view_module_version": "1.2.0",
      "_view_name": "LayoutView",
      "align_content": null,
      "align_items": null,
      "align_self": null,
      "border": null,
      "bottom": null,
      "display": null,
      "flex": null,
      "flex_flow": null,
      "grid_area": null,
      "grid_auto_columns": null,
      "grid_auto_flow": null,
      "grid_auto_rows": null,
      "grid_column": null,
      "grid_gap": null,
      "grid_row": null,
      "grid_template_areas": null,
      "grid_template_columns": null,
      "grid_template_rows": null,
      "height": null,
      "justify_content": null,
      "justify_items": null,
      "left": null,
      "margin": null,
      "max_height": null,
      "max_width": null,
      "min_height": null,
      "min_width": null,
      "object_fit": null,
      "object_position": null,
      "order": null,
      "overflow": null,
      "overflow_x": null,
      "overflow_y": null,
      "padding": null,
      "right": null,
      "top": null,
      "visibility": null,
      "width": null
     }
    },
    "fa0d3d1f0475473eb8ad8d45d0aa7f43": {
     "model_module": "@jupyter-widgets/controls",
     "model_module_version": "1.5.0",
     "model_name": "HTMLModel",
     "state": {
      "_dom_classes": [],
      "_model_module": "@jupyter-widgets/controls",
      "_model_module_version": "1.5.0",
      "_model_name": "HTMLModel",
      "_view_count": null,
      "_view_module": "@jupyter-widgets/controls",
      "_view_module_version": "1.5.0",
      "_view_name": "HTMLView",
      "description": "",
      "description_tooltip": null,
      "layout": "IPY_MODEL_c6afe2a41bcf4b2494a612093ddfa044",
      "placeholder": "​",
      "style": "IPY_MODEL_f19c97de33f54e778bd4b1fd18cecd65",
      "value": "model.safetensors: 100%"
     }
    },
    "fa6e51b6af7a46b592e599ff2a0d759c": {
     "model_module": "@jupyter-widgets/controls",
     "model_module_version": "1.5.0",
     "model_name": "HTMLModel",
     "state": {
      "_dom_classes": [],
      "_model_module": "@jupyter-widgets/controls",
      "_model_module_version": "1.5.0",
      "_model_name": "HTMLModel",
      "_view_count": null,
      "_view_module": "@jupyter-widgets/controls",
      "_view_module_version": "1.5.0",
      "_view_name": "HTMLView",
      "description": "",
      "description_tooltip": null,
      "layout": "IPY_MODEL_0ed493fbac9a49e3ae009245ff47104f",
      "placeholder": "​",
      "style": "IPY_MODEL_73a56e43dc1b49579479a38434142427",
      "value": " 440M/440M [00:06&lt;00:00, 95.7MB/s]"
     }
    },
    "fb1c3543614a4d599ef96e7547ce65e1": {
     "model_module": "@jupyter-widgets/base",
     "model_module_version": "1.2.0",
     "model_name": "LayoutModel",
     "state": {
      "_model_module": "@jupyter-widgets/base",
      "_model_module_version": "1.2.0",
      "_model_name": "LayoutModel",
      "_view_count": null,
      "_view_module": "@jupyter-widgets/base",
      "_view_module_version": "1.2.0",
      "_view_name": "LayoutView",
      "align_content": null,
      "align_items": null,
      "align_self": null,
      "border": null,
      "bottom": null,
      "display": null,
      "flex": null,
      "flex_flow": null,
      "grid_area": null,
      "grid_auto_columns": null,
      "grid_auto_flow": null,
      "grid_auto_rows": null,
      "grid_column": null,
      "grid_gap": null,
      "grid_row": null,
      "grid_template_areas": null,
      "grid_template_columns": null,
      "grid_template_rows": null,
      "height": null,
      "justify_content": null,
      "justify_items": null,
      "left": null,
      "margin": null,
      "max_height": null,
      "max_width": null,
      "min_height": null,
      "min_width": null,
      "object_fit": null,
      "object_position": null,
      "order": null,
      "overflow": null,
      "overflow_x": null,
      "overflow_y": null,
      "padding": null,
      "right": null,
      "top": null,
      "visibility": null,
      "width": null
     }
    },
    "fbc6cf095e1948769560ca0c12b3857e": {
     "model_module": "@jupyter-widgets/controls",
     "model_module_version": "1.5.0",
     "model_name": "HTMLModel",
     "state": {
      "_dom_classes": [],
      "_model_module": "@jupyter-widgets/controls",
      "_model_module_version": "1.5.0",
      "_model_name": "HTMLModel",
      "_view_count": null,
      "_view_module": "@jupyter-widgets/controls",
      "_view_module_version": "1.5.0",
      "_view_name": "HTMLView",
      "description": "",
      "description_tooltip": null,
      "layout": "IPY_MODEL_9249fcbe9f3d49c0a0735a89c67b61be",
      "placeholder": "​",
      "style": "IPY_MODEL_ed84e711cd5d45f2ac790018c41866b9",
      "value": "config.json: 100%"
     }
    },
    "fd1972e82ae94190bed1c80ec1824e70": {
     "model_module": "@jupyter-widgets/controls",
     "model_module_version": "1.5.0",
     "model_name": "DescriptionStyleModel",
     "state": {
      "_model_module": "@jupyter-widgets/controls",
      "_model_module_version": "1.5.0",
      "_model_name": "DescriptionStyleModel",
      "_view_count": null,
      "_view_module": "@jupyter-widgets/base",
      "_view_module_version": "1.2.0",
      "_view_name": "StyleView",
      "description_width": ""
     }
    },
    "fe524943dff3446991c046f52abb8c3a": {
     "model_module": "@jupyter-widgets/controls",
     "model_module_version": "1.5.0",
     "model_name": "HBoxModel",
     "state": {
      "_dom_classes": [],
      "_model_module": "@jupyter-widgets/controls",
      "_model_module_version": "1.5.0",
      "_model_name": "HBoxModel",
      "_view_count": null,
      "_view_module": "@jupyter-widgets/controls",
      "_view_module_version": "1.5.0",
      "_view_name": "HBoxView",
      "box_style": "",
      "children": [
       "IPY_MODEL_2be8882e4d8640ccb0b06fc07db13cd6",
       "IPY_MODEL_9c04d8b6b3464c4b840e83d9f2eae716",
       "IPY_MODEL_f045fcffd9024e33aa33db9a17b645d5"
      ],
      "layout": "IPY_MODEL_5afaaf1edb1b41e28543fb3f27e33da6"
     }
    }
   }
  }
 },
 "nbformat": 4,
 "nbformat_minor": 0
}
